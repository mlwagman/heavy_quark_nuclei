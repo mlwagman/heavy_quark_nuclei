{
 "cells": [
  {
   "cell_type": "markdown",
   "id": "3b9433fb",
   "metadata": {},
   "source": [
    "# Defining schemes and xalpha values:"
   ]
  },
  {
   "cell_type": "code",
   "execution_count": 1,
   "id": "957830ae",
   "metadata": {},
   "outputs": [],
   "source": [
    "scheme = {1: \"MS_Bar\", 2: \"geometric\", 3: \"Alpha_n, n=2\"}\n",
    "xalpha = {1: \"Alpha_MS_Bar\", 2: \"Alpha_g\", 3: \"Alpha_2\"}"
   ]
  },
  {
   "cell_type": "code",
   "execution_count": 2,
   "id": "c7945388",
   "metadata": {},
   "outputs": [
    {
     "data": {
      "text/plain": [
       "'Alpha_2'"
      ]
     },
     "execution_count": 2,
     "metadata": {},
     "output_type": "execute_result"
    }
   ],
   "source": [
    "xalpha[2+1]"
   ]
  },
  {
   "cell_type": "markdown",
   "id": "03c964af",
   "metadata": {},
   "source": [
    "# Defining SUNc color factors:"
   ]
  },
  {
   "cell_type": "code",
   "execution_count": 2,
   "id": "dc52d892",
   "metadata": {},
   "outputs": [],
   "source": [
    "import sympy as sp\n",
    "\n",
    "\n",
    "def CA(Nc):\n",
    "    return Nc\n",
    "\n",
    "def CF(Nc):\n",
    "    return (Nc**2 - 1) / (2 * Nc)\n",
    "\n",
    "def dAdA(Nc,NA):\n",
    "    return Nc**2 * (Nc**2 + 36) * NA / 24\n",
    "\n",
    "def dFdA(Nc,NA):\n",
    "    return Nc * (Nc**2 + 6) * NA / 48\n",
    "\n",
    "def dFdF(Nc,NA):\n",
    "    return (Nc**4 - 6 * Nc**2 + 18) * NA / (96 * Nc**2)\n",
    "\n",
    "def dAA(Nc):\n",
    "    return dAdA(Nc,1)\n",
    "\n",
    "def dFA(Nc):\n",
    "    return dFdA(Nc,1)\n",
    "\n",
    "def dFF(Nc):\n",
    "    return dFdF(Nc,1)\n",
    "\n",
    "Tf = 1/2\n"
   ]
  },
  {
   "cell_type": "code",
   "execution_count": 4,
   "id": "ab911801",
   "metadata": {},
   "outputs": [
    {
     "ename": "NameError",
     "evalue": "name 'Nc' is not defined",
     "output_type": "error",
     "traceback": [
      "\u001b[0;31m---------------------------------------------------------------------------\u001b[0m",
      "\u001b[0;31mNameError\u001b[0m                                 Traceback (most recent call last)",
      "\u001b[0;32m/tmp/ipykernel_11637/158028887.py\u001b[0m in \u001b[0;36m<module>\u001b[0;34m\u001b[0m\n\u001b[0;32m----> 1\u001b[0;31m \u001b[0mdFdF\u001b[0m\u001b[0;34m(\u001b[0m\u001b[0mNc\u001b[0m\u001b[0;34m,\u001b[0m\u001b[0mNA\u001b[0m\u001b[0;34m)\u001b[0m\u001b[0;34m\u001b[0m\u001b[0;34m\u001b[0m\u001b[0m\n\u001b[0m",
      "\u001b[0;31mNameError\u001b[0m: name 'Nc' is not defined"
     ]
    }
   ],
   "source": [
    "dFdF(Nc,NA)"
   ]
  },
  {
   "cell_type": "code",
   "execution_count": 7,
   "id": "0ae25139",
   "metadata": {},
   "outputs": [],
   "source": [
    "Nc = sp.Symbol('Nc')  # Nc is a symbolic variable\n",
    "NA = sp.Symbol('NA')  # What is NA ??\n",
    "\n",
    "CA = Nc\n",
    "CF = (Nc**2 - 1) / (2 * Nc)\n",
    "Tf = 1 / 2\n",
    "dAdA = Nc**2 * (Nc**2 + 36) * NA / 24\n",
    "dFdA = Nc * (Nc**2 + 6) * NA / 48\n",
    "dFdF = (Nc**4 - 6 * Nc**2 + 18) * NA/ (96 * Nc**2)"
   ]
  },
  {
   "cell_type": "code",
   "execution_count": 8,
   "id": "ea51e6bf",
   "metadata": {},
   "outputs": [
    {
     "name": "stdout",
     "output_type": "stream",
     "text": [
      "(Nc**2 - 1)/(2*Nc) \n",
      " 3 \n",
      " 15/16\n"
     ]
    }
   ],
   "source": [
    "print(CF , '\\n' , CA.subs(Nc, 3) , '\\n' , dFdA.subs(Nc,3).subs(NA,1))"
   ]
  },
  {
   "cell_type": "code",
   "execution_count": null,
   "id": "2f997867",
   "metadata": {},
   "outputs": [],
   "source": []
  },
  {
   "cell_type": "code",
   "execution_count": 9,
   "id": "dd4f969e",
   "metadata": {},
   "outputs": [
    {
     "name": "stdout",
     "output_type": "stream",
     "text": [
      "CA: Nc\n",
      "CF: (Nc**2 - 1)/(2*Nc)\n",
      "Tf: 0.5\n",
      "dAdA: Nc**2*(Nc**2 + 36)/(24*NA)\n",
      "dFdA: Nc*(Nc**2 + 6)/(48*NA)\n",
      "dFdF: (Nc**4 - 6*Nc**2 + 18)/(96*NA*Nc**2)\n",
      "\n",
      "CF if Nc=3 is :  4/3\n"
     ]
    }
   ],
   "source": [
    "import sympy as sp\n",
    "\n",
    "# Define the symbolic variable\n",
    "Nc, NA = sp.symbols('Nc NA')  # NA is introduced for 'N subscript A'\n",
    "\n",
    "# Create the dictionary SUNc and assign expressions to it\n",
    "SUNc = {\n",
    "    'CA': Nc,\n",
    "    'CF': (Nc**2 - 1) / (2 * Nc),\n",
    "    'Tf': 1 / 2,\n",
    "    'dAdA': Nc**2 * (Nc**2 + 36) / (24 * NA),\n",
    "    'dFdA': Nc * (Nc**2 + 6) / (48 * NA),\n",
    "    'dFdF': (Nc**4 - 6 * Nc**2 + 18) / (96 * Nc**2 * NA)\n",
    "}\n",
    "\n",
    "# Example usage: accessing an element\n",
    "print(\"CA:\", SUNc['CA'])\n",
    "print(\"CF:\", SUNc['CF'])\n",
    "print(\"Tf:\", SUNc['Tf'])\n",
    "print(\"dAdA:\", SUNc['dAdA'])\n",
    "print(\"dFdA:\", SUNc['dFdA'])\n",
    "print(\"dFdF:\", SUNc['dFdF'])\n",
    "\n",
    "print('\\nCF if Nc=3 is : ' , SUNc['CF'].subs(Nc,3))"
   ]
  },
  {
   "cell_type": "markdown",
   "id": "e28daa81",
   "metadata": {},
   "source": [
    "# Defining beta functions:"
   ]
  },
  {
   "cell_type": "code",
   "execution_count": 3,
   "id": "1e56ad71",
   "metadata": {},
   "outputs": [],
   "source": [
    "import numpy as np\n",
    "import scipy.special as spl\n",
    "\n",
    "Pi = np.pi\n",
    "\n",
    "\n",
    "#The 2 first/scheme-independent\n",
    "\n",
    "def beta0(Nc,Nf):\n",
    "    beta0 = (1 / (4 * Pi)) * (11/3 * CA(Nc) - 2/3 * Nf)\n",
    "    return beta0\n",
    "\n",
    "def beta1(Nc,Nf):\n",
    "    beta1 = (1 / (4 * Pi))**2 * (34/3 * CA(Nc)**2 - 10/3 * CA(Nc) * Nf - 2 * CF(Nc) * Nf)\n",
    "    return beta1"
   ]
  },
  {
   "cell_type": "code",
   "execution_count": 4,
   "id": "5538b0a8",
   "metadata": {},
   "outputs": [
    {
     "name": "stdout",
     "output_type": "stream",
     "text": [
      "0.3289224952741021\n"
     ]
    }
   ],
   "source": [
    "b = beta1(3,5) / (2 * beta0(3,5)**2)\n",
    "print(b)"
   ]
  },
  {
   "cell_type": "code",
   "execution_count": 5,
   "id": "e677211f",
   "metadata": {},
   "outputs": [],
   "source": [
    "# Zeta function using scipy\n",
    "def Zeta(s):\n",
    "    return spl.zeta(s, 1)  # '1' is the q parameter, for Riemann Zeta it's set to 1\n",
    "\n",
    "#Beta scheme-dependent: in the MS bar scheme here ?\n",
    "def beta2(N,Nf):\n",
    "    beta2 = (1 / (4 * Pi))**3 * (2857/54 * CA(N)**3 - 1415/27 * CA(N)**2 * Nf / 2 + \n",
    "         158/27 * CA(N) * Nf**2 / 4 + 44/9 * CF(N) * Nf**2 / 4 - \n",
    "         205/9 * CF(N) * CA(N) * Nf / 2 + CF(N)**2 * Nf)\n",
    "    return beta2\n",
    "\n",
    "def beta3(N,Nf):\n",
    "    beta3 = (1 / (4 * Pi))**4 * (CA(N) * CF(N) * Nf**2 / 4 * (17152/243 + 448/9 * Zeta(3)) + \n",
    "         CA(N) * CF(N)**2 * Nf / 2 * (-4204/27 + 352/9 * Zeta(3)) + \n",
    "         424/243 * CA(N) * Nf**3 / 8 + 1232/243 * CF(N) * Nf**3 / 8 + \n",
    "         CA(N)**2 * CF(N) * Nf / 2 * (7073/243 - 656/9 * Zeta(3)) + \n",
    "         CA(N)**2 * Nf**2 / 4 * (7930/81 + 224/9 * Zeta(3)) + \n",
    "         CA(N)**3 * Nf / 2 * (-39143/81 + 136/3 * Zeta(3)) + \n",
    "         CA(N)**4 * (150653/486 - 44/9 * Zeta(3)) + \n",
    "         CF(N)**2 * Nf**2 / 4 * (1352/27 - 704/9 * Zeta(3)) + \n",
    "         46 * CF(N)**3 * Nf / 2 + \n",
    "         Nf * dFA(N) * (512/9 - 1664/3 * Zeta(3)) + \n",
    "         Nf**2 * dFF(N) * (-704/9 + 512/3 * Zeta(3)) + \n",
    "         dAA(N) * (-80/9 + 704/3 * Zeta(3)))\n",
    "    return beta3"
   ]
  },
  {
   "cell_type": "code",
   "execution_count": 10,
   "id": "e55af7fa",
   "metadata": {},
   "outputs": [],
   "source": [
    "# Assuming Beta0, Beta1, Beta2, Beta3 are defined somewhere in your code\n",
    "Beta0 = sp.Symbol('Beta0')  # Example definition\n",
    "Beta1 = sp.Symbol('Beta1')  # Example definition\n",
    "Beta2 = sp.Symbol('Beta2')  # Example definition\n",
    "Beta3 = sp.Symbol('Beta3')  # Example definition\n"
   ]
  },
  {
   "cell_type": "markdown",
   "id": "1f05da7d",
   "metadata": {},
   "source": [
    "# Defining the lmL function:"
   ]
  },
  {
   "cell_type": "markdown",
   "id": "7cb6998f",
   "metadata": {},
   "source": [
    "### MS bar fixed order scheme:"
   ]
  },
  {
   "cell_type": "code",
   "execution_count": 10,
   "id": "3fae6c62",
   "metadata": {},
   "outputs": [],
   "source": [
    "def lmL_MSbar(alpha):\n",
    "    return (1/(2 * Beta0 * alpha) + \n",
    "            Beta1/Beta0 * sp.log(Beta0 * alpha) / (2 * Beta0) + \n",
    "            alpha * (Beta2/Beta0 - (Beta1/Beta0)**2) / (2 * Beta0) + \n",
    "            alpha**2 * (Beta3/Beta0 - (Beta1/Beta0)**3 - \n",
    "                        2 * ((Beta1 * Beta2)/(Beta0**2) - (Beta1/Beta0)**3)) / (4 * Beta0))\n"
   ]
  },
  {
   "cell_type": "code",
   "execution_count": 53,
   "id": "9aac21f5",
   "metadata": {},
   "outputs": [
    {
     "data": {
      "text/latex": [
       "$\\displaystyle \\alpha^{2} \\left(\\frac{B_{3}}{4 B_{0}^{2}} - \\frac{B_{1} B_{2}}{2 B_{0}^{3}} + \\frac{B_{1}^{3}}{4 B_{0}^{4}}\\right) + \\alpha \\left(\\frac{B_{2}}{2 B_{0}^{2}} - \\frac{B_{1}^{2}}{2 B_{0}^{3}}\\right) + \\frac{1}{2 B_{0} \\alpha} + \\frac{B_{1} \\log{\\left(B_{0} \\right)}}{2 B_{0}^{2}} + \\frac{B_{1} \\log{\\left(\\alpha \\right)}}{2 B_{0}^{2}}$"
      ],
      "text/plain": [
       "alpha**2*(Beta3/(4*Beta0**2) - Beta1*Beta2/(2*Beta0**3) + Beta1**3/(4*Beta0**4)) + alpha*(Beta2/(2*Beta0**2) - Beta1**2/(2*Beta0**3)) + 1/(2*Beta0*alpha) + Beta1*log(Beta0)/(2*Beta0**2) + Beta1*log(alpha)/(2*Beta0**2)"
      ]
     },
     "execution_count": 53,
     "metadata": {},
     "output_type": "execute_result"
    }
   ],
   "source": [
    "from sympy import symbols, log, simplify, series\n",
    "\n",
    "# Define the symbols\n",
    "Beta0, Beta1, Beta2, Beta3, alpha = symbols('Beta0 Beta1 Beta2 Beta3 alpha')\n",
    "\n",
    "# Define the lmL function\n",
    "def lmL_MSbar(alpha):\n",
    "    term1 = 1 / (2 * Beta0 * alpha)\n",
    "    term2 = (Beta1 / Beta0) * log(Beta0 * alpha) / (2 * Beta0)\n",
    "    term3 = alpha * (Beta2 / Beta0 - (Beta1 / Beta0)**2) / (2 * Beta0)\n",
    "    term4 = alpha**2 * (Beta3 / Beta0 - (Beta1 / Beta0)**3 - \n",
    "                        2 * ((Beta1 * Beta2) / (Beta0**2) - (Beta1 / Beta0)**3)) / (4 * Beta0)\n",
    "    return term1 + term2 + term3 + term4\n",
    "\n",
    "# Example usage of lmL\n",
    "series(lmL_MSbar(alpha),alpha,0,3)"
   ]
  },
  {
   "cell_type": "markdown",
   "id": "b1721c60",
   "metadata": {},
   "source": [
    "### Geometric scheme :"
   ]
  },
  {
   "cell_type": "code",
   "execution_count": 12,
   "id": "f88e812c",
   "metadata": {},
   "outputs": [],
   "source": [
    "# Define the lmL function\n",
    "def lmL_geo(alpha):\n",
    "    term1 = 1 / (2 * Beta0 * alpha)\n",
    "    term2 = (Beta1 / Beta0) * log(Beta0 * alpha) / (2 * Beta0)\n",
    "    return term1 + term2"
   ]
  },
  {
   "cell_type": "code",
   "execution_count": null,
   "id": "8fbf7785",
   "metadata": {},
   "outputs": [],
   "source": []
  },
  {
   "cell_type": "markdown",
   "id": "68b6c726",
   "metadata": {},
   "source": [
    "### Modified geometric scheme :"
   ]
  },
  {
   "cell_type": "code",
   "execution_count": 13,
   "id": "4b1c8b34",
   "metadata": {},
   "outputs": [],
   "source": [
    "# Define the lmL function (alpha_n for n=2)\n",
    "def lmL_mgeo(alpha):\n",
    "    term1 = 1 / (2 * Beta0 * alpha)\n",
    "    term2 = (Beta1 / Beta0) * log(Beta0 * alpha) / (2 * Beta0)\n",
    "    term3 = (Beta1 / Beta0) / (2 * Beta0) * (Beta1 * alpha / Beta0)**2\n",
    "    return term1 + term2 - term3"
   ]
  },
  {
   "cell_type": "code",
   "execution_count": null,
   "id": "fc9288ba",
   "metadata": {},
   "outputs": [],
   "source": []
  },
  {
   "cell_type": "markdown",
   "id": "f2e5f895",
   "metadata": {},
   "source": [
    "### lmL :"
   ]
  },
  {
   "cell_type": "code",
   "execution_count": 14,
   "id": "120cb9ec",
   "metadata": {},
   "outputs": [
    {
     "name": "stdout",
     "output_type": "stream",
     "text": [
      "ln(mu) =  1/(2*Beta0*alpha) + Beta1*log(Beta0*alpha)/(2*Beta0**2)\n"
     ]
    }
   ],
   "source": [
    "def lmL(key, a):\n",
    "    lmL = {\n",
    "        1: lmL_MSbar(a),\n",
    "        2: lmL_geo(a),\n",
    "        3: lmL_mgeo(a)\n",
    "        }\n",
    "    return lmL.get(key, \"Invalid key\")\n",
    "\n",
    "# Example usage\n",
    "print('ln(mu) = ' , lmL(2, alpha))\n"
   ]
  },
  {
   "cell_type": "code",
   "execution_count": null,
   "id": "9e4ede4a",
   "metadata": {},
   "outputs": [],
   "source": []
  },
  {
   "cell_type": "markdown",
   "id": "350bbd1e",
   "metadata": {},
   "source": [
    "# Recover Beta function :"
   ]
  },
  {
   "cell_type": "code",
   "execution_count": 28,
   "id": "db488aea",
   "metadata": {},
   "outputs": [],
   "source": [
    "def betaFunc(key, a):\n",
    "    return sp.simplify(1/sp.diff(lmL(key,a),a))"
   ]
  },
  {
   "cell_type": "code",
   "execution_count": 39,
   "id": "e5fc044c",
   "metadata": {},
   "outputs": [
    {
     "data": {
      "text/latex": [
       "$\\displaystyle \\frac{2 B_{0}^{4} a^{2}}{- B_{0}^{3} + B_{0}^{2} B_{1} a + B_{0} a^{2} \\left(B_{0} B_{2} - B_{1}^{2}\\right) + a^{3} \\left(B_{0}^{2} B_{3} - 2 B_{0} B_{1} B_{2} + B_{1}^{3}\\right)}$"
      ],
      "text/plain": [
       "2*Beta0**4*a**2/(-Beta0**3 + Beta0**2*Beta1*a + Beta0*a**2*(Beta0*Beta2 - Beta1**2) + a**3*(Beta0**2*Beta3 - 2*Beta0*Beta1*Beta2 + Beta1**3))"
      ]
     },
     "execution_count": 39,
     "metadata": {},
     "output_type": "execute_result"
    }
   ],
   "source": [
    "betaFunc(1,sp.symbols('a'))"
   ]
  },
  {
   "cell_type": "code",
   "execution_count": 45,
   "id": "3a032470",
   "metadata": {},
   "outputs": [
    {
     "data": {
      "text/latex": [
       "$\\displaystyle - 2 B_{2} \\alpha^{4} - 2 B_{1} \\alpha^{3} - 2 B_{0} \\alpha^{2} + O\\left(\\alpha^{5}\\right)$"
      ],
      "text/plain": [
       "-2*Beta2*alpha**4 - 2*Beta1*alpha**3 - 2*Beta0*alpha**2 + O(alpha**5)"
      ]
     },
     "execution_count": 45,
     "metadata": {},
     "output_type": "execute_result"
    }
   ],
   "source": [
    "sp.series(betaFunc(1 , alpha), alpha, 0, 5)"
   ]
  },
  {
   "cell_type": "code",
   "execution_count": 44,
   "id": "bee14662",
   "metadata": {},
   "outputs": [
    {
     "data": {
      "text/latex": [
       "$\\displaystyle - 2 B_{2} \\alpha^{4} - 2 B_{1} \\alpha^{3} - 2 B_{0} \\alpha^{2} - 2 B_{0} \\alpha^{5} \\left(- \\frac{2 B_{1} \\left(- \\frac{B_{2}}{B_{0}} + \\frac{B_{1}^{2}}{B_{0}^{2}}\\right)}{B_{0}} + \\frac{B_{3}}{B_{0}} - \\frac{2 B_{1} B_{2}}{B_{0}^{2}} + \\frac{2 B_{1}^{3}}{B_{0}^{3}}\\right) + O\\left(\\alpha^{6}\\right)$"
      ],
      "text/plain": [
       "-2*Beta2*alpha**4 - 2*Beta1*alpha**3 - 2*Beta0*alpha**2 - 2*Beta0*alpha**5*(-2*Beta1*(-Beta2/Beta0 + Beta1**2/Beta0**2)/Beta0 + Beta3/Beta0 - 2*Beta1*Beta2/Beta0**2 + 2*Beta1**3/Beta0**3) + O(alpha**6)"
      ]
     },
     "execution_count": 44,
     "metadata": {},
     "output_type": "execute_result"
    }
   ],
   "source": [
    "sp.series(betaFunc(1 , alpha), alpha, 0, 6)"
   ]
  },
  {
   "cell_type": "code",
   "execution_count": 30,
   "id": "f1908fb9",
   "metadata": {},
   "outputs": [
    {
     "data": {
      "text/latex": [
       "$\\displaystyle \\frac{2 B_{0}^{2} a^{2}}{- B_{0} + B_{1} a}$"
      ],
      "text/plain": [
       "2*Beta0**2*a**2/(-Beta0 + Beta1*a)"
      ]
     },
     "execution_count": 30,
     "metadata": {},
     "output_type": "execute_result"
    }
   ],
   "source": [
    "betaFunc(2,sp.symbols('a'))"
   ]
  },
  {
   "cell_type": "code",
   "execution_count": 31,
   "id": "c90cfc1d",
   "metadata": {},
   "outputs": [
    {
     "data": {
      "text/latex": [
       "$\\displaystyle - \\frac{2 B_{0}^{4} a^{2}}{B_{0}^{3} - B_{0}^{2} B_{1} a + 2 B_{1}^{3} a^{3}}$"
      ],
      "text/plain": [
       "-2*Beta0**4*a**2/(Beta0**3 - Beta0**2*Beta1*a + 2*Beta1**3*a**3)"
      ]
     },
     "execution_count": 31,
     "metadata": {},
     "output_type": "execute_result"
    }
   ],
   "source": [
    "betaFunc(3,sp.symbols('a'))"
   ]
  },
  {
   "cell_type": "code",
   "execution_count": null,
   "id": "42f4b769",
   "metadata": {},
   "outputs": [],
   "source": []
  },
  {
   "cell_type": "markdown",
   "id": "12cb3144",
   "metadata": {},
   "source": [
    "# Defining the inverse function:"
   ]
  },
  {
   "cell_type": "code",
   "execution_count": 46,
   "id": "df949c61",
   "metadata": {},
   "outputs": [
    {
     "data": {
      "text/plain": [
       "[(-b + d*k)/(a - c*k)]"
      ]
     },
     "execution_count": 46,
     "metadata": {},
     "output_type": "execute_result"
    }
   ],
   "source": [
    "a, b, c, d, x, k = sp.symbols('a b c d x k')\n",
    "inverse_function = sp.solve((a * x + b)/(c * x + d) - k, x)\n",
    "inverse_function"
   ]
  },
  {
   "cell_type": "markdown",
   "id": "b290beac",
   "metadata": {},
   "source": [
    "### More complexe part:"
   ]
  },
  {
   "cell_type": "markdown",
   "id": "d0bbb5e8",
   "metadata": {},
   "source": [
    "## Defining betaFunc and related operations:"
   ]
  },
  {
   "cell_type": "code",
   "execution_count": 41,
   "id": "7b28b977",
   "metadata": {},
   "outputs": [
    {
     "data": {
      "text/latex": [
       "$\\displaystyle - \\frac{2 B_{0}^{2} \\alpha^{2}}{B_{0} - B_{1} \\alpha}$"
      ],
      "text/plain": [
       "-2*Beta0**2*alpha**2/(Beta0 - Beta1*alpha)"
      ]
     },
     "execution_count": 41,
     "metadata": {},
     "output_type": "execute_result"
    }
   ],
   "source": [
    "from sympy import symbols, diff, simplify\n",
    "\n",
    "alpha = symbols('alpha')\n",
    "# Assuming lmL is already defined as a function of alpha\n",
    "# Define betaFunc as the derivative of lmL\n",
    "def betaFunc(kay , alpha):\n",
    "    return simplify(1/diff(lmL(kay , alpha), alpha))\n",
    "\n",
    "# Use of the function\n",
    "betaFunc_result = betaFunc(2 , alpha)\n",
    "betaFunc_result"
   ]
  },
  {
   "cell_type": "markdown",
   "id": "94ae899d",
   "metadata": {},
   "source": [
    "## Series Expansion and Coefficient Extraction:"
   ]
  },
  {
   "cell_type": "code",
   "execution_count": 40,
   "id": "f63129a7",
   "metadata": {},
   "outputs": [
    {
     "name": "stdout",
     "output_type": "stream",
     "text": [
      "-2*Beta1**2*alpha**4/Beta0 - 2*Beta1*alpha**3 - 2*Beta0*alpha**2 + O(alpha**5) \n",
      " [0, 0, -2*Beta0, -2*Beta1, -2*Beta1**2/Beta0]\n"
     ]
    }
   ],
   "source": [
    "from sympy import series\n",
    "\n",
    "# Example of a series expansion of betaFunc around alpha = 0\n",
    "betaFunc_series = series(betaFunc(2 , alpha), alpha, 0, 5)\n",
    "# Extracting coefficients\n",
    "coefficients = [betaFunc_series.coeff(alpha, n) for n in range(5)]\n",
    "\n",
    "print(betaFunc_series , '\\n' , coefficients)"
   ]
  },
  {
   "cell_type": "code",
   "execution_count": null,
   "id": "edc3f844",
   "metadata": {},
   "outputs": [],
   "source": []
  },
  {
   "cell_type": "markdown",
   "id": "7b26912d",
   "metadata": {},
   "source": [
    "### Recover alpha :"
   ]
  },
  {
   "cell_type": "code",
   "execution_count": 34,
   "id": "a2346304",
   "metadata": {},
   "outputs": [
    {
     "name": "stdout",
     "output_type": "stream",
     "text": [
      "[exp((2*Beta0**2*ln(mu) + Beta1*LambertW(-Beta0**2*exp(-2*Beta0**2*ln(mu)/Beta1)/Beta1))/Beta1)/Beta0]\n"
     ]
    },
    {
     "data": {
      "text/latex": [
       "$\\displaystyle \\frac{e^{\\frac{2 B_{0}^{2} ln(mu) + B_{1} W\\left(- \\frac{B_{0}^{2} e^{- \\frac{2 B_{0}^{2} ln(mu)}{B_{1}}}}{B_{1}}\\right)}{B_{1}}}}{B_{0}}$"
      ],
      "text/plain": [
       "exp((2*Beta0**2*ln(mu) + Beta1*LambertW(-Beta0**2*exp(-2*Beta0**2*ln(mu)/Beta1)/Beta1))/Beta1)/Beta0"
      ]
     },
     "execution_count": 34,
     "metadata": {},
     "output_type": "execute_result"
    }
   ],
   "source": [
    "def alpha(key , mu):\n",
    "    \n",
    "    return sp.solve(lmL(key , log(mu)) - lnMu , log(mu))\n",
    "    #return sp.solve(lmL(key , log(mu)) - log(mu) , log(mu))\n",
    "    #return sp.solve(lmL(key , log(mu)) - mu , log(mu))\n",
    "\n",
    "mu , lnMu = symbols('mu ln(mu)')\n",
    "\n",
    "print(alpha(2 , mu))\n",
    "alpha(2 , mu)[0]"
   ]
  },
  {
   "cell_type": "code",
   "execution_count": 37,
   "id": "338fd861",
   "metadata": {},
   "outputs": [
    {
     "data": {
      "text/latex": [
       "$\\displaystyle \\frac{e^{\\frac{2 B_{0}^{2} ln(mu) + B_{1} W\\left(- \\frac{B_{0}^{2} e^{- \\frac{2 B_{0}^{2} ln(mu)}{B_{1}}}}{B_{1}}\\right)}{B_{1}}}}{B_{0}}$"
      ],
      "text/plain": [
       "exp((2*Beta0**2*ln(mu) + Beta1*LambertW(-Beta0**2*exp(-2*Beta0**2*ln(mu)/Beta1)/Beta1))/Beta1)/Beta0"
      ]
     },
     "execution_count": 37,
     "metadata": {},
     "output_type": "execute_result"
    }
   ],
   "source": [
    "sp.simplify(alpha(2 , mu)[0])"
   ]
  },
  {
   "cell_type": "code",
   "execution_count": 91,
   "id": "947b7f93",
   "metadata": {},
   "outputs": [
    {
     "name": "stdout",
     "output_type": "stream",
     "text": [
      "Inverse function: [log(y + 3)] \n",
      " log(y + 3)\n",
      "y\n"
     ]
    }
   ],
   "source": [
    "import sympy as sp\n",
    "\n",
    "# Define the symbols\n",
    "x, y = sp.symbols('x y')\n",
    "\n",
    "# Define the function f(x)\n",
    "def f_x(x):\n",
    "    return sp.exp(x) - 3\n",
    "\n",
    "# Solve the equation f(x) = y for x\n",
    "inverse_f = sp.solve(f_x(x) - y, x)\n",
    "\n",
    "# Display the result\n",
    "print(\"Inverse function:\", inverse_f , '\\n' , inverse_f[0])\n",
    "print(f_x(inverse_f[0]))"
   ]
  },
  {
   "cell_type": "markdown",
   "id": "a0d6bc1e",
   "metadata": {},
   "source": [
    "### Other method to recover alpha :"
   ]
  },
  {
   "cell_type": "code",
   "execution_count": 83,
   "id": "5a59797e",
   "metadata": {},
   "outputs": [
    {
     "data": {
      "text/latex": [
       "$\\displaystyle \\frac{x^{2} \\left(\\frac{B_{3}}{B_{0}} - \\frac{2 B_{1} B_{2}}{B_{0}^{2}} + \\frac{B_{1}^{3}}{B_{0}^{3}}\\right)}{4 B_{0}} + \\frac{x \\left(\\frac{B_{2}}{B_{0}} - \\frac{B_{1}^{2}}{B_{0}^{2}}\\right)}{2 B_{0}} + \\frac{1}{2 B_{0} x} + \\frac{B_{1} \\log{\\left(B_{0} x \\right)}}{2 B_{0}^{2}}$"
      ],
      "text/plain": [
       "x**2*(Beta3/Beta0 - 2*Beta1*Beta2/Beta0**2 + Beta1**3/Beta0**3)/(4*Beta0) + x*(Beta2/Beta0 - Beta1**2/Beta0**2)/(2*Beta0) + 1/(2*Beta0*x) + Beta1*log(Beta0*x)/(2*Beta0**2)"
      ]
     },
     "execution_count": 83,
     "metadata": {},
     "output_type": "execute_result"
    }
   ],
   "source": [
    "sp.simplify(lmL(1,x))\n",
    "lmL(1,x)"
   ]
  },
  {
   "cell_type": "code",
   "execution_count": 96,
   "id": "b4ebccce",
   "metadata": {},
   "outputs": [
    {
     "ename": "TypeError",
     "evalue": "'Symbol' object is not callable",
     "output_type": "error",
     "traceback": [
      "\u001b[0;31m---------------------------------------------------------------------------\u001b[0m",
      "\u001b[0;31mTypeError\u001b[0m                                 Traceback (most recent call last)",
      "\u001b[0;32m/tmp/ipykernel_6789/2320246530.py\u001b[0m in \u001b[0;36m<module>\u001b[0;34m\u001b[0m\n\u001b[0;32m----> 1\u001b[0;31m \u001b[0mBeta0\u001b[0m\u001b[0;34m=\u001b[0m\u001b[0mbeta0\u001b[0m\u001b[0;34m(\u001b[0m\u001b[0;36m3\u001b[0m\u001b[0;34m,\u001b[0m\u001b[0;36m5\u001b[0m\u001b[0;34m)\u001b[0m\u001b[0;34m\u001b[0m\u001b[0;34m\u001b[0m\u001b[0m\n\u001b[0m\u001b[1;32m      2\u001b[0m \u001b[0mBeta0\u001b[0m\u001b[0;34m\u001b[0m\u001b[0;34m\u001b[0m\u001b[0m\n",
      "\u001b[0;31mTypeError\u001b[0m: 'Symbol' object is not callable"
     ]
    }
   ],
   "source": [
    "Beta0=beta0(3,5)\n",
    "Beta0"
   ]
  },
  {
   "cell_type": "code",
   "execution_count": 72,
   "id": "47190fa0",
   "metadata": {},
   "outputs": [
    {
     "data": {
      "text/latex": [
       "$\\displaystyle \\frac{e^{\\frac{2 B_{0}^{2} y + B_{1} W\\left(- \\frac{B_{0}^{2} e^{- \\frac{2 B_{0}^{2} y}{B_{1}}}}{B_{1}}\\right)}{B_{1}}}}{B_{0}}$"
      ],
      "text/plain": [
       "exp((2*Beta0**2*y + Beta1*LambertW(-Beta0**2*exp(-2*Beta0**2*y/Beta1)/Beta1))/Beta1)/Beta0"
      ]
     },
     "execution_count": 72,
     "metadata": {},
     "output_type": "execute_result"
    }
   ],
   "source": [
    "y, x= sp.symbols('y x')\n",
    "\n",
    "# Solve for the inverse\n",
    "inverse_solution = sp.solve(sp.simplify(lmL(2,x)) - y, x)\n",
    "inverse_solution[0]"
   ]
  },
  {
   "cell_type": "code",
   "execution_count": 57,
   "id": "26e9b00e",
   "metadata": {},
   "outputs": [
    {
     "name": "stdout",
     "output_type": "stream",
     "text": [
      "α[1] evaluated at μ = mu_value is: [exp((2*Beta0**2*log(mu_value) + Beta1*LambertW(-Beta0**2*exp(-2*Beta0**2*log(mu_value)/Beta1)/Beta1))/Beta1)/Beta0]\n"
     ]
    }
   ],
   "source": [
    "def alpha_1(mu_value):\n",
    "    log_mu = sp.log(mu_value)\n",
    "    # Evaluate the inverse at log_mu\n",
    "    # Note: inverse_solution might be a list of solutions\n",
    "    return [sol.evalf(subs={y: log_mu}) for sol in inverse_solution]\n",
    "\n",
    "# Example usage\n",
    "mu_value = sp.Symbol('mu_value')  # Or use a specific numeric value\n",
    "print(\"α[1] evaluated at μ =\", mu_value, \"is:\", alpha_1(mu_value))\n"
   ]
  },
  {
   "cell_type": "code",
   "execution_count": 60,
   "id": "12dfaaf7",
   "metadata": {
    "scrolled": true
   },
   "outputs": [
    {
     "data": {
      "text/latex": [
       "$\\displaystyle \\frac{e^{\\frac{2 B_{0}^{2} \\log{\\left(\\mu_{value} \\right)} + B_{1} W\\left(- \\frac{B_{0}^{2} e^{- \\frac{2 B_{0}^{2} \\log{\\left(\\mu_{value} \\right)}}{B_{1}}}}{B_{1}}\\right)}{B_{1}}}}{B_{0}}$"
      ],
      "text/plain": [
       "exp((2*Beta0**2*log(mu_value) + Beta1*LambertW(-Beta0**2*exp(-2*Beta0**2*log(mu_value)/Beta1)/Beta1))/Beta1)/Beta0"
      ]
     },
     "execution_count": 60,
     "metadata": {},
     "output_type": "execute_result"
    }
   ],
   "source": [
    "alpha_1(mu_value)[0]"
   ]
  },
  {
   "cell_type": "code",
   "execution_count": null,
   "id": "238f1b00",
   "metadata": {},
   "outputs": [],
   "source": []
  },
  {
   "cell_type": "markdown",
   "id": "9be5cf3f",
   "metadata": {},
   "source": [
    "### Plot with num val of beta"
   ]
  },
  {
   "cell_type": "code",
   "execution_count": 22,
   "id": "6a3a7410",
   "metadata": {},
   "outputs": [
    {
     "data": {
      "image/png": "[encoded data removed]",
      "text/plain": [
       "<Figure size 432x288 with 1 Axes>"
      ]
     },
     "metadata": {
      "needs_background": "light"
     },
     "output_type": "display_data"
    }
   ],
   "source": [
    "import numpy as np\n",
    "import matplotlib.pyplot as plt\n",
    "import sympy as sp\n",
    "\n",
    "# Define symbols\n",
    "x, Beta0, Beta1, Beta2, Beta3 = sp.symbols('x Beta0 Beta1 Beta2 Beta3')\n",
    "\n",
    "# Define the function lmL_1\n",
    "f = (1/(2 * Beta0 * x)) + (1/(2 * Beta0)) * (Beta1/Beta0) * sp.log(Beta0 * x) + \\\n",
    "    (x/(2 * Beta0)) * (Beta2/Beta0 - (Beta1/Beta0)**2) + \\\n",
    "    (x**2) / (4 * Beta0) * (Beta3/Beta0 - (Beta1/Beta0)**3 - 2 * ((Beta1 * Beta2)/(Beta0**2) - (Beta1/Beta0)**3))\n",
    "\n",
    "\n",
    "# Lambdify the function for numerical evaluation\n",
    "f_lambdified_1 = sp.lambdify(x, f.subs({Beta0: beta0(3,5), Beta1: beta1(3,5), Beta2: beta2(3,5), Beta3: beta3(3,5)}), 'numpy')\n",
    "\n",
    "# Plot the function\n",
    "x_vals = np.linspace(0.1, 5, 4000)  # Avoid x = 0 due to division by zero\n",
    "y_vals_1 = f_lambdified_1(x_vals)\n",
    "\n",
    "plt.plot(x_vals, y_vals_1)\n",
    "plt.xlabel('x')\n",
    "plt.ylabel('f(x)')\n",
    "plt.title('Plot of the function')\n",
    "plt.show()\n"
   ]
  },
  {
   "cell_type": "code",
   "execution_count": 64,
   "id": "b1889000",
   "metadata": {},
   "outputs": [],
   "source": [
    "import sympy as sp\n",
    "\n",
    "x, Beta0, Beta1, Beta2, Beta3 = sp.symbols('x Beta0 Beta1 Beta2 Beta3')\n",
    "\n",
    "value1 = 0.3\n",
    "value2 = 6\n",
    "\n",
    "expr_piece_1 = (1/(2 * Beta0 * x)) + (1/(2 * Beta0)) * (Beta1/Beta0) * sp.log(Beta0 * x)   # Expression for the first piece\n",
    "\n",
    "expr_piece_2 = (1/(2 * Beta0 * x)) + (1/(2 * Beta0)) * (Beta1/Beta0) * (sp.log(Beta0) + (x-1)) + \\\n",
    "    (x/(2 * Beta0)) * (Beta2/Beta0 - (Beta1/Beta0)**2) + \\\n",
    "    (x) / (4 * Beta0) * (Beta3/Beta0 - (Beta1/Beta0)**3 - 2 * ((Beta1 * Beta2)/(Beta0**2) - (Beta1/Beta0)**3)) \n",
    "    # Expression for the second piece\n",
    "\n",
    "expr_piece_3 = (x/(2 * Beta0)) * (Beta2/Beta0 - (Beta1/Beta0)**2) + \\\n",
    "    (x**2) / (4 * Beta0) * (Beta3/Beta0 - (Beta1/Beta0)**3 - 2 * ((Beta1 * Beta2)/(Beta0**2) - (Beta1/Beta0)**3))\n",
    "    # Expression for the third piece\n",
    "\n",
    "# Define the piecewise function (replace these with actual simpler pieces)\n",
    "lmL_1_piecewise = sp.Piecewise(\n",
    "    (expr_piece_1, x < value1),         # Replace expr_piece_1 with the expression for x < a\n",
    "    (expr_piece_2, sp.And(value1 <= x, x <= value2)),  # Replace expr_piece_2 for a <= x <= b\n",
    "    (expr_piece_3, x > value2)          # Replace expr_piece_3 for x > b\n",
    ")\n"
   ]
  },
  {
   "cell_type": "code",
   "execution_count": 65,
   "id": "6bfbad7c",
   "metadata": {},
   "outputs": [
    {
     "name": "stdout",
     "output_type": "stream",
     "text": [
      "1 \t 2 \t 2 \n",
      "\n",
      "\n",
      "Beta0*(-Beta0*Beta2 + Beta1**2 - sqrt(4*Beta0**4*Beta3*y - 8*Beta0**3*Beta1*Beta2*y + 4*Beta0**2*Beta1**3*y + Beta0**2*Beta2**2 - 2*Beta0*Beta1**2*Beta2 + Beta1**4))/(Beta0**2*Beta3 - 2*Beta0*Beta1*Beta2 + Beta1**3) \n",
      " Beta0*(-Beta0*Beta2 + Beta1**2 + sqrt(4*Beta0**4*Beta3*y - 8*Beta0**3*Beta1*Beta2*y + 4*Beta0**2*Beta1**3*y + Beta0**2*Beta2**2 - 2*Beta0*Beta1**2*Beta2 + Beta1**4))/(Beta0**2*Beta3 - 2*Beta0*Beta1*Beta2 + Beta1**3) \n",
      "\n",
      "\n",
      "False \n",
      "\n",
      "\n",
      "Combined piecewise inverse: Piecewise((exp((2*Beta0**2*y + Beta1*LambertW(-Beta0**2*exp(-2*Beta0**2*y/Beta1)/Beta1))/Beta1)/Beta0, y < 0.3), ((Beta0**2*(2*Beta0**2*y - Beta1*log(Beta0) + Beta1) - sqrt(-Beta0**3*(-4*Beta0**5*y**2 + 4*Beta0**3*Beta1*y*log(Beta0) - 4*Beta0**3*Beta1*y + 4*Beta0**2*Beta1 + 4*Beta0**2*Beta2 + 2*Beta0**2*Beta3 - Beta0*Beta1**2*log(Beta0)**2 + 2*Beta0*Beta1**2*log(Beta0) - 5*Beta0*Beta1**2 - 4*Beta0*Beta1*Beta2 + 2*Beta1**3)))/(2*Beta0**2*Beta1 + 2*Beta0**2*Beta2 + Beta0**2*Beta3 - 2*Beta0*Beta1**2 - 2*Beta0*Beta1*Beta2 + Beta1**3), y <= 6), (Beta0*(-Beta0*Beta2 + Beta1**2 - sqrt(4*Beta0**4*Beta3*y - 8*Beta0**3*Beta1*Beta2*y + 4*Beta0**2*Beta1**3*y + Beta0**2*Beta2**2 - 2*Beta0*Beta1**2*Beta2 + Beta1**4))/(Beta0**2*Beta3 - 2*Beta0*Beta1*Beta2 + Beta1**3), True))\n"
     ]
    }
   ],
   "source": [
    "import sympy as sp\n",
    "\n",
    "# Define the symbols\n",
    "y = sp.symbols('y')\n",
    "\n",
    "# Conditions for each piece (these are examples, replace with your actual conditions)\n",
    "condition_1 = y < value1\n",
    "condition_2 = sp.And(y >= value1, y <= value2)\n",
    "condition_3 = y > value2\n",
    "\n",
    "# Inverses of each piece (replace with your actual inverse expressions)\n",
    "inverse_piece_1 = sp.solve(expr_piece_1 - y, x)[0]  # Expression for the first piece's inverse\n",
    "inverse_piece_2 = sp.solve(expr_piece_2 - y, x)[0]  # Expression for the second piece's inverse\n",
    "inverse_piece_3 = sp.solve(expr_piece_3 - y, x)[0]  # Expression for the third piece's inverse\n",
    "\n",
    "print(len(sp.solve(expr_piece_1 - y, x)),'\\t',len(sp.solve(expr_piece_2 - y, x)),'\\t',\n",
    "      len(sp.solve(expr_piece_3 - y, x)),'\\n\\n')\n",
    "\n",
    "print(sp.solve(expr_piece_3 - y, x)[0],'\\n',sp.solve(expr_piece_3 - y, x)[1],'\\n\\n')\n",
    "\n",
    "print(sp.solve(expr_piece_3 - y, x)[0]==sp.solve(expr_piece_3 - y, x)[1],'\\n\\n')\n",
    "\n",
    "\n",
    "# Combine into a single piecewise expression\n",
    "combined_inverse = sp.Piecewise(\n",
    "    (inverse_piece_1, condition_1),\n",
    "    (inverse_piece_2, condition_2),\n",
    "    (inverse_piece_3, condition_3)\n",
    ")\n",
    "\n",
    "# Print the combined piecewise inverse\n",
    "print(\"Combined piecewise inverse:\", combined_inverse)\n"
   ]
  },
  {
   "cell_type": "code",
   "execution_count": 66,
   "id": "c8eb8d5c",
   "metadata": {},
   "outputs": [],
   "source": [
    "# Numerical values for Beta0, Beta1, etc.\n",
    "beta_values = {\n",
    "    Beta0: beta0(3,5),  # Example value for Beta0\n",
    "    Beta1: beta1(3,5),  # Example value for Beta1\n",
    "    Beta2: beta2(3,5),\n",
    "    Beta3: beta3(3,5)\n",
    "    # Add other beta values as needed\n",
    "}\n"
   ]
  },
  {
   "cell_type": "code",
   "execution_count": 67,
   "id": "20525ece",
   "metadata": {},
   "outputs": [
    {
     "data": {
      "image/png": "[encoded data removed]",
      "text/plain": [
       "<Figure size 432x288 with 1 Axes>"
      ]
     },
     "metadata": {
      "needs_background": "light"
     },
     "output_type": "display_data"
    }
   ],
   "source": [
    "import matplotlib.pyplot as plt\n",
    "import numpy as np\n",
    "\n",
    "# Define the range for your y values\n",
    "start = 0.1  # Adjust as needed\n",
    "end = 100    # Adjust as needed\n",
    "num_points = 4000\n",
    "\n",
    "# Prepare the y values for plotting\n",
    "y_values = np.linspace(start, end, num_points)\n",
    "\n",
    "# Evaluate the piecewise function at each y value with numerical substitution\n",
    "inverse_values = []\n",
    "for value in y_values:\n",
    "    try:\n",
    "        # Substitute beta values and evaluate the function\n",
    "        evaluated_value = combined_inverse.subs(y, value).subs(beta_values).evalf()\n",
    "        if evaluated_value.is_real:\n",
    "            inverse_values.append(float(evaluated_value))\n",
    "        else:\n",
    "            inverse_values.append(np.nan)  # Handle complex or undefined values\n",
    "    except Exception as e:\n",
    "        inverse_values.append(np.nan)  # Append NaN for values where evaluation fails\n",
    "\n",
    "# Plot the function\n",
    "plt.plot(y_values, inverse_values, label='Inverse Function')\n",
    "plt.xlabel('y')\n",
    "plt.ylabel('Inverse of y')\n",
    "plt.title('Plot of the Combined Piecewise Inverse Function')\n",
    "plt.legend()\n",
    "plt.grid(True)\n",
    "plt.show()\n"
   ]
  },
  {
   "cell_type": "code",
   "execution_count": null,
   "id": "7f5471bf",
   "metadata": {},
   "outputs": [],
   "source": []
  },
  {
   "cell_type": "code",
   "execution_count": null,
   "id": "f209246b",
   "metadata": {},
   "outputs": [],
   "source": []
  },
  {
   "cell_type": "code",
   "execution_count": null,
   "id": "4c60e288",
   "metadata": {},
   "outputs": [],
   "source": []
  },
  {
   "cell_type": "code",
   "execution_count": null,
   "id": "7997a150",
   "metadata": {},
   "outputs": [],
   "source": []
  },
  {
   "cell_type": "code",
   "execution_count": 21,
   "id": "b14da5fe",
   "metadata": {},
   "outputs": [
    {
     "data": {
      "image/png": "[encoded data removed]",
      "text/plain": [
       "<Figure size 432x288 with 1 Axes>"
      ]
     },
     "metadata": {
      "needs_background": "light"
     },
     "output_type": "display_data"
    }
   ],
   "source": [
    "import numpy as np\n",
    "import matplotlib.pyplot as plt\n",
    "import sympy as sp\n",
    "\n",
    "# Define symbols\n",
    "x, Beta0, Beta1, Beta2, Beta3 = sp.symbols('x Beta0 Beta1 Beta2 Beta3')\n",
    "\n",
    "# Define the function lmL_3\n",
    "f = 1 / (2 * Beta0 * x) + \\\n",
    "    (Beta1 / Beta0) * sp.log(Beta0 * x) / (2 * Beta0) + \\\n",
    "    (Beta1 / Beta0) / (2 * Beta0) * (Beta1 * x / Beta0)**2\n",
    "\n",
    "# Lambdify the function for numerical evaluation\n",
    "f_lambdified_3 = sp.lambdify(x, f.subs({Beta0: beta0(3,5), Beta1: beta1(3,5), Beta2: beta2(3,5), Beta3: beta3(3,5)}), 'numpy')\n",
    "\n",
    "# Plot the function\n",
    "x_vals = np.linspace(0.1, 5, 4000)  # Avoid x = 0 due to division by zero\n",
    "y_vals_3 = f_lambdified_3(x_vals)\n",
    "\n",
    "plt.plot(x_vals, y_vals_3)\n",
    "plt.xlabel('alpha')\n",
    "plt.ylabel('lmL')\n",
    "plt.title('Plot of the function')\n",
    "plt.show()\n"
   ]
  },
  {
   "cell_type": "code",
   "execution_count": 68,
   "id": "f7ecc27b",
   "metadata": {},
   "outputs": [],
   "source": [
    "import sympy as sp\n",
    "\n",
    "x, Beta0, Beta1, Beta2, Beta3 = sp.symbols('x Beta0 Beta1 Beta2 Beta3')\n",
    "\n",
    "value1 = 0.4\n",
    "value2 = 8\n",
    "\n",
    "expr_piece_1 = 1 / (2 * Beta0 * x) + (Beta1 / Beta0) * sp.log(Beta0 * x) / (2 * Beta0)   # Expression for the first piece\n",
    "expr_piece_2 = 1 / (2 * Beta0 * x) + \\\n",
    "    (Beta1 / Beta0) * sp.log(Beta0) * (x-1) / (2 * Beta0) + \\\n",
    "    (Beta1 / Beta0) / (2 * Beta0) * (Beta1 * x / Beta0)**2  # Expression for the second piece\n",
    "expr_piece_3 = (Beta1 / Beta0) / (2 * Beta0) * (Beta1 * x / Beta0)**2  # Expression for the third piece\n",
    "\n",
    "# Define the piecewise function (replace these with actual simpler pieces)\n",
    "lmL_3_piecewise = sp.Piecewise(\n",
    "    (expr_piece_1, x < value1),         # Replace expr_piece_1 with the expression for x < a\n",
    "    (expr_piece_2, sp.And(value1 <= x, x <= value2)),  # Replace expr_piece_2 for a <= x <= b\n",
    "    (expr_piece_3, x > value2)          # Replace expr_piece_3 for x > b\n",
    ")\n"
   ]
  },
  {
   "cell_type": "code",
   "execution_count": 90,
   "id": "088864c7",
   "metadata": {},
   "outputs": [],
   "source": [
    "expr_piece_2 = 1 / (2 * Beta0 * x) + (Beta1 / Beta0) / (2 * Beta0) * (Beta1 * x / Beta0)**2"
   ]
  },
  {
   "cell_type": "code",
   "execution_count": 9,
   "id": "d96ff48d",
   "metadata": {},
   "outputs": [
    {
     "name": "stdout",
     "output_type": "stream",
     "text": [
      "1 \t 3 \t 2 \n",
      "\n",
      "\n",
      "exp((2*Beta0**2*y + Beta1*LambertW(-Beta0**2*exp(-2*Beta0**2*y/Beta1)/Beta1))/Beta1)/Beta0 \n",
      "\n",
      "\n",
      "-Beta0**2*log(Beta0)/(3*Beta1**2) - (Beta0**4*log(Beta0)**2/Beta1**4 - 3*(-2*Beta0**4*y - Beta0**2*Beta1*log(Beta0))/Beta1**3)/(3*(Beta0**6*log(Beta0)**3/Beta1**6 + 27*Beta0**3/(2*Beta1**3) - 9*Beta0**2*(-2*Beta0**4*y - Beta0**2*Beta1*log(Beta0))*log(Beta0)/(2*Beta1**5) + sqrt(-4*(Beta0**4*log(Beta0)**2/Beta1**4 - 3*(-2*Beta0**4*y - Beta0**2*Beta1*log(Beta0))/Beta1**3)**3 + (2*Beta0**6*log(Beta0)**3/Beta1**6 + 27*Beta0**3/Beta1**3 - 9*Beta0**2*(-2*Beta0**4*y - Beta0**2*Beta1*log(Beta0))*log(Beta0)/Beta1**5)**2)/2)**(1/3)) - (Beta0**6*log(Beta0)**3/Beta1**6 + 27*Beta0**3/(2*Beta1**3) - 9*Beta0**2*(-2*Beta0**4*y - Beta0**2*Beta1*log(Beta0))*log(Beta0)/(2*Beta1**5) + sqrt(-4*(Beta0**4*log(Beta0)**2/Beta1**4 - 3*(-2*Beta0**4*y - Beta0**2*Beta1*log(Beta0))/Beta1**3)**3 + (2*Beta0**6*log(Beta0)**3/Beta1**6 + 27*Beta0**3/Beta1**3 - 9*Beta0**2*(-2*Beta0**4*y - Beta0**2*Beta1*log(Beta0))*log(Beta0)/Beta1**5)**2)/2)**(1/3)/3 \n",
      " -Beta0**2*log(Beta0)/(3*Beta1**2) - (Beta0**4*log(Beta0)**2/Beta1**4 - 3*(-2*Beta0**4*y - Beta0**2*Beta1*log(Beta0))/Beta1**3)/(3*(-1/2 - sqrt(3)*I/2)*(Beta0**6*log(Beta0)**3/Beta1**6 + 27*Beta0**3/(2*Beta1**3) - 9*Beta0**2*(-2*Beta0**4*y - Beta0**2*Beta1*log(Beta0))*log(Beta0)/(2*Beta1**5) + sqrt(-4*(Beta0**4*log(Beta0)**2/Beta1**4 - 3*(-2*Beta0**4*y - Beta0**2*Beta1*log(Beta0))/Beta1**3)**3 + (2*Beta0**6*log(Beta0)**3/Beta1**6 + 27*Beta0**3/Beta1**3 - 9*Beta0**2*(-2*Beta0**4*y - Beta0**2*Beta1*log(Beta0))*log(Beta0)/Beta1**5)**2)/2)**(1/3)) - (-1/2 - sqrt(3)*I/2)*(Beta0**6*log(Beta0)**3/Beta1**6 + 27*Beta0**3/(2*Beta1**3) - 9*Beta0**2*(-2*Beta0**4*y - Beta0**2*Beta1*log(Beta0))*log(Beta0)/(2*Beta1**5) + sqrt(-4*(Beta0**4*log(Beta0)**2/Beta1**4 - 3*(-2*Beta0**4*y - Beta0**2*Beta1*log(Beta0))/Beta1**3)**3 + (2*Beta0**6*log(Beta0)**3/Beta1**6 + 27*Beta0**3/Beta1**3 - 9*Beta0**2*(-2*Beta0**4*y - Beta0**2*Beta1*log(Beta0))*log(Beta0)/Beta1**5)**2)/2)**(1/3)/3 \n",
      "\n",
      "\n",
      "False \n",
      "\n",
      "\n",
      "Combined piecewise inverse: Piecewise((exp((2*Beta0**2*y + Beta1*LambertW(-Beta0**2*exp(-2*Beta0**2*y/Beta1)/Beta1))/Beta1)/Beta0, y < 0.4), (-Beta0**2*log(Beta0)/(3*Beta1**2) - (Beta0**4*log(Beta0)**2/Beta1**4 - 3*(-2*Beta0**4*y - Beta0**2*Beta1*log(Beta0))/Beta1**3)/(3*(Beta0**6*log(Beta0)**3/Beta1**6 + 27*Beta0**3/(2*Beta1**3) - 9*Beta0**2*(-2*Beta0**4*y - Beta0**2*Beta1*log(Beta0))*log(Beta0)/(2*Beta1**5) + sqrt(-4*(Beta0**4*log(Beta0)**2/Beta1**4 - 3*(-2*Beta0**4*y - Beta0**2*Beta1*log(Beta0))/Beta1**3)**3 + (2*Beta0**6*log(Beta0)**3/Beta1**6 + 27*Beta0**3/Beta1**3 - 9*Beta0**2*(-2*Beta0**4*y - Beta0**2*Beta1*log(Beta0))*log(Beta0)/Beta1**5)**2)/2)**(1/3)) - (Beta0**6*log(Beta0)**3/Beta1**6 + 27*Beta0**3/(2*Beta1**3) - 9*Beta0**2*(-2*Beta0**4*y - Beta0**2*Beta1*log(Beta0))*log(Beta0)/(2*Beta1**5) + sqrt(-4*(Beta0**4*log(Beta0)**2/Beta1**4 - 3*(-2*Beta0**4*y - Beta0**2*Beta1*log(Beta0))/Beta1**3)**3 + (2*Beta0**6*log(Beta0)**3/Beta1**6 + 27*Beta0**3/Beta1**3 - 9*Beta0**2*(-2*Beta0**4*y - Beta0**2*Beta1*log(Beta0))*log(Beta0)/Beta1**5)**2)/2)**(1/3)/3, y <= 8), (-sqrt(2)*Beta0**2*sqrt(y/Beta1**3), True))\n"
     ]
    }
   ],
   "source": [
    "import sympy as sp\n",
    "\n",
    "# Define the symbols\n",
    "y = sp.symbols('y')\n",
    "\n",
    "\n",
    "# Conditions for each piece (these are examples, replace with your actual conditions)\n",
    "condition_1 = y < value1\n",
    "condition_2 = sp.And(y >= value1, y <= value2)\n",
    "condition_3 = y > value2\n",
    "\n",
    "# Inverses of each piece (replace with your actual inverse expressions)\n",
    "inverse_piece_1 = sp.solve(expr_piece_1 - y, x)[0]  # Expression for the first piece's inverse\n",
    "inverse_piece_2 = sp.solve(expr_piece_2 - y, x)[0]  # Expression for the second piece's inverse\n",
    "inverse_piece_3 = sp.solve(expr_piece_3 - y, x)[0]  # Expression for the third piece's inverse\n",
    "\n",
    "print(len(sp.solve(expr_piece_1 - y, x)),'\\t',len(sp.solve(expr_piece_2 - y, x)),'\\t',\n",
    "      len(sp.solve(expr_piece_3 - y, x)),'\\n\\n')\n",
    "\n",
    "print(sp.solve(expr_piece_1 - y, x)[0],'\\n\\n')\n",
    "\n",
    "print(sp.solve(expr_piece_2 - y, x)[0],'\\n',sp.solve(expr_piece_2 - y, x)[1],'\\n\\n')\n",
    "\n",
    "print(sp.solve(expr_piece_2 - y, x)[0]==sp.solve(expr_piece_3 - y, x)[1],'\\n\\n')\n",
    "\n",
    "\n",
    "# Combine into a single piecewise expression\n",
    "combined_inverse = sp.Piecewise(\n",
    "    (inverse_piece_1, condition_1),\n",
    "    (inverse_piece_2, condition_2),\n",
    "    (inverse_piece_3, condition_3)\n",
    ")\n",
    "\n",
    "# Print the combined piecewise inverse\n",
    "print(\"Combined piecewise inverse:\", combined_inverse)\n"
   ]
  },
  {
   "cell_type": "code",
   "execution_count": 50,
   "id": "0df2c46e",
   "metadata": {},
   "outputs": [
    {
     "name": "stdout",
     "output_type": "stream",
     "text": [
      "819541.202865389 \t 819541.202865389 \t 819545.909632120 \t 5.29827083490906e-14 \n",
      "\n",
      "817.111259057178 \t 817.111259004195 \t 819.545909632120 \t 5.29827083490906e-8 \n",
      "\n",
      "7.27608236421717 \t 7.27555253713368 \t 8.19545909632120 \t 0.000529827083490906 \n",
      "\n",
      "0.916888460613034 \t 0.890926933521979 \t 1.17077987090303 \t 0.0259615270910544 \n",
      "\n",
      "0.756332591488165 \t 0.713416597725402 \t 0.910606566257911 \t 0.0429159937627634 \n",
      "\n",
      "0.709994093162239 \t 0.657011384813149 \t 0.819545909632120 \t 0.0529827083490906 \n",
      "\n",
      "0.677965950478890 \t 0.613856873376491 \t 0.745041736029200 \t 0.0641090771023996 \n",
      "\n",
      "0.671193186600407 \t 0.479925609460190 \t 0.431339952437958 \t 0.191267577140217 \n",
      "\n",
      "1.85532269998128 \t 0.530754991254019 \t 0.163909181926424 \t 1.32456770872726 \n",
      "\n",
      "4.01477714889280 \t 0.623883814551001 \t 0.102443238704015 \t 3.39089333434180 \n",
      "\n",
      "22.0568898448894 \t 0.863806505253173 \t 0.0409772954816060 \t 21.1930833396362 \n",
      "\n",
      "531.187488493920 \t 1.36040500301445 \t 0.00819545909632120 \t 529.827083490906 \n",
      "\n"
     ]
    }
   ],
   "source": [
    "\n",
    "for i in [0.000001,0.001,0.1,0.7,0.9,1,1.1,1.9,5,8,20,100]:\n",
    "    print(f.subs(x,i).subs(beta_values),'\\t',expr_piece_1.subs(x,i).subs(beta_values),'\\t',\n",
    "          expr_piece_2.subs(x,i).subs(beta_values),'\\t',expr_piece_3.subs(x,i).subs(beta_values),'\\n')\n",
    "\n"
   ]
  },
  {
   "cell_type": "code",
   "execution_count": 14,
   "id": "b3472202",
   "metadata": {},
   "outputs": [
    {
     "ename": "AttributeError",
     "evalue": "'function' object has no attribute 'subs'",
     "output_type": "error",
     "traceback": [
      "\u001b[0;31m---------------------------------------------------------------------------\u001b[0m",
      "\u001b[0;31mAttributeError\u001b[0m                            Traceback (most recent call last)",
      "\u001b[0;32m/tmp/ipykernel_13648/1475295589.py\u001b[0m in \u001b[0;36m<module>\u001b[0;34m\u001b[0m\n\u001b[1;32m      1\u001b[0m \u001b[0;32mfor\u001b[0m \u001b[0mi\u001b[0m \u001b[0;32min\u001b[0m \u001b[0;34m[\u001b[0m\u001b[0;36m0.1\u001b[0m\u001b[0;34m,\u001b[0m\u001b[0;36m0.7\u001b[0m\u001b[0;34m,\u001b[0m\u001b[0;36m100\u001b[0m\u001b[0;34m]\u001b[0m\u001b[0;34m:\u001b[0m\u001b[0;34m\u001b[0m\u001b[0;34m\u001b[0m\u001b[0m\n\u001b[0;32m----> 2\u001b[0;31m     print(f.subs(x,i).subs(beta_values),'\\t',inverse_piece_1.subs(x,i).subs(beta_values),'\\t',\n\u001b[0m\u001b[1;32m      3\u001b[0m           inverse_piece_2.subs(x,i).subs(beta_values),'\\t',inverse_piece_3.subs(x,i).subs(beta_values),'\\n')\n\u001b[1;32m      4\u001b[0m \u001b[0;34m\u001b[0m\u001b[0m\n",
      "\u001b[0;31mAttributeError\u001b[0m: 'function' object has no attribute 'subs'"
     ]
    }
   ],
   "source": [
    "\n",
    "for i in [0.1,0.7,100]:\n",
    "    print(f.subs(x,i).subs(beta_values),'\\t',inverse_piece_1.subs(x,i).subs(beta_values),'\\t',\n",
    "          inverse_piece_2.subs(x,i).subs(beta_values),'\\t',inverse_piece_3.subs(x,i).subs(beta_values),'\\n')\n",
    "\n"
   ]
  },
  {
   "cell_type": "code",
   "execution_count": null,
   "id": "6e17bde7",
   "metadata": {},
   "outputs": [],
   "source": [
    "1.0273189913198435\n",
    "0.916888460613034 "
   ]
  },
  {
   "cell_type": "code",
   "execution_count": 72,
   "id": "c90f4831",
   "metadata": {},
   "outputs": [
    {
     "name": "stdout",
     "output_type": "stream",
     "text": [
      "0.85 5.11640989180087 %\n",
      "0.786461008534292 \t 0.748181001752074 \t 0.964171658390729 \t 0.0382800067822180 \n",
      "\n",
      "0.86 5.28956840791016 %\n",
      "0.780002805077415 \t 0.740816793982428 \t 0.952960360037349 \t 0.0391860110949874 \n",
      "\n",
      "0.87 5.46605957353514 %\n",
      "0.773768453126686 \t 0.733665841177259 \t 0.942006792680598 \t 0.0401026119494267 \n",
      "\n",
      "0.88 5.64588675802490 %\n",
      "0.767750183026732 \t 0.726720373681196 \t 0.931302170036500 \t 0.0410298093455358 \n",
      "\n",
      "0.89 5.82905252240335 %\n",
      "0.761940585547869 \t 0.719972982264555 \t 0.920838100710247 \t 0.0419676032833147 \n",
      "\n",
      "0.9 6.01555863707029 %\n",
      "0.756332591488165 \t 0.713416597725402 \t 0.910606566257911 \t 0.0429159937627634 \n",
      "\n",
      "0.91 6.20540609968937 %\n",
      "0.750919452636871 \t 0.707044471852989 \t 0.900599900694637 \t 0.0438749807838819 \n",
      "\n",
      "0.92 6.39859515323328 %\n",
      "0.745694723994758 \t 0.700850159648088 \t 0.890810771339261 \t 0.0448445643466703 \n",
      "\n",
      "0.93 6.59512530415751 %\n",
      "0.740652247155906 \t 0.694827502704777 \t 0.881232160894753 \t 0.0458247444511285 \n",
      "\n",
      "0.94 6.79499534067517 %\n",
      "0.735786134763708 \t 0.688970613666451 \t 0.871857350672468 \t 0.0468155210972565 \n",
      "\n",
      "0.95 6.99820335110625 %\n",
      "0.731090755961217 \t 0.683273861676162 \t 0.862679904875916 \t 0.0478168942850543 \n",
      "\n",
      "0.96 7.20474674227567 %\n",
      "0.726560722762675 \t 0.677731858748153 \t 0.853693655866792 \t 0.0488288640145219 \n",
      "\n",
      "0.97 7.41462225793556 %\n",
      "0.722190877279138 \t 0.672339446993479 \t 0.844892690342392 \t 0.0498514302856593 \n",
      "\n",
      "0.98 7.62782599718812 %\n",
      "0.717976279736631 \t 0.667091686638164 \t 0.836271336359306 \t 0.0508845930984666 \n",
      "\n",
      "0.99 7.84435343288663 %\n",
      "0.713912197230252 \t 0.661983844777308 \t 0.827824151143556 \t 0.0519283524529437 \n",
      "\n",
      "1.0 8.06419942999293 %\n",
      "0.709994093162239 \t 0.657011384813149 \t 0.819545909632120 \t 0.0529827083490906 \n",
      "\n",
      "1.01 8.28735826387081 %\n",
      "0.706217617316132 \t 0.652169956529224 \t 0.811431593695168 \t 0.0540476607869073 \n",
      "\n",
      "1.02 8.51382363849590 %\n",
      "0.702578596522940 \t 0.647455386756546 \t 0.803476381992274 \t 0.0551232097663939 \n",
      "\n",
      "1.03 8.74358870456331 %\n",
      "0.699073025878716 \t 0.642863670591165 \t 0.795675640419534 \t 0.0562093552875502 \n",
      "\n",
      "1.04 8.97664607747554 %\n",
      "0.695697060476020 \t 0.638390963125644 \t 0.788024913107808 \t 0.0573060973503764 \n",
      "\n",
      "1.05 9.21298785519401 %\n",
      "0.692447007614696 \t 0.634033571659824 \t 0.780519913935352 \t 0.0584134359548724 \n",
      "\n",
      "1.06 9.45260563593855 %\n",
      "0.689319319459971 \t 0.629787948358932 \t 0.773156518520868 \t 0.0595313711010382 \n",
      "\n",
      "1.07 9.69549053572004 %\n",
      "0.686310586118316 \t 0.625650683329442 \t 0.765930756665533 \t 0.0606599027888738 \n",
      "\n",
      "1.08 9.94163320569247 %\n",
      "0.683417529103722 \t 0.621618498085343 \t 0.758838805214926 \t 0.0617990310183793 \n",
      "\n",
      "1.09 10.1910238493114 %\n",
      "0.680636995169036 \t 0.617688239379481 \t 0.751876981313871 \t 0.0629487557895546 \n",
      "\n",
      "1.1 10.4436522392868 %\n",
      "0.677965950478890 \t 0.613856873376491 \t 0.745041736029200 \t 0.0641090771023996 \n",
      "\n",
      "1.11 10.6995077343190 %\n",
      "0.675401475102462 \t 0.610121480145548 \t 0.738329648317225 \t 0.0652799949569145 \n",
      "\n",
      "1.12 10.9585792956078 %\n",
      "0.672940757805834 \t 0.606479248452735 \t 0.731737419314393 \t 0.0664615093530993 \n",
      "\n",
      "1.13 11.2208555031242 %\n",
      "0.670581091125216 \t 0.602927470834262 \t 0.725261866931080 \t 0.0676536202909538 \n",
      "\n",
      "1.14 11.4863245716371 %\n",
      "0.668319866703581 \t 0.599463538933103 \t 0.718899920729930 \t 0.0688563277704781 \n",
      "\n",
      "1.15 11.7549743664863 %\n",
      "0.666154570874503 \t 0.596084939082830 \t 0.712648617071409 \t 0.0700696317916723 \n",
      "\n",
      "1.16 12.0267924190950 %\n",
      "0.664082780478111 \t 0.592789248123575 \t 0.706505094510448 \t 0.0712935323545363 \n",
      "\n",
      "1.17 12.3017659422141 %\n",
      "0.662102158895125 \t 0.589574129436055 \t 0.700466589429162 \t 0.0725280294590701 \n",
      "\n",
      "1.18 12.5798818448946 %\n",
      "0.660210452285865 \t 0.586437329180591 \t 0.694530431891627 \t 0.0737731231052737 \n",
      "\n",
      "1.19 12.8611267471800 %\n",
      "0.658405486022064 \t 0.583376672728916 \t 0.688694041707664 \t 0.0750288132931472 \n",
      "\n",
      "1.2 13.1454869945174 %\n",
      "0.656685161300079 \t 0.580390061277389 \t 0.682954924693433 \t 0.0762951000226905 \n",
      "\n",
      "1.21 13.4329486718803 %\n",
      "0.655047451924911 \t 0.577475468631007 \t 0.677310669117455 \t 0.0775719832939035 \n",
      "\n",
      "1.22 13.7234976176022 %\n",
      "0.653490401255083 \t 0.574630938148297 \t 0.671758942321410 \t 0.0788594631067864 \n",
      "\n",
      "1.23 14.0171194369160 %\n",
      "0.652012119299145 \t 0.571854579837806 \t 0.666297487505789 \t 0.0801575394613392 \n",
      "\n",
      "1.24 14.3137995151993 %\n",
      "0.650610779955116 \t 0.569144567597554 \t 0.660924120671065 \t 0.0814662123575617 \n",
      "\n",
      "1.25 14.6135230309219 %\n",
      "0.649284618384774 \t 0.566499136589320 \t 0.655636727705696 \t 0.0827854817954541 \n",
      "\n",
      "1.26 14.9162749682953 %\n",
      "0.648031928515208 \t 0.563916580740192 \t 0.650433261612794 \t 0.0841153477750162 \n",
      "\n",
      "1.27 15.2220401296230 %\n",
      "0.646851060660527 \t 0.561395250364279 \t 0.645311739867811 \t 0.0854558102962482 \n",
      "\n",
      "1.28 15.5308031473516 %\n",
      "0.645740419257070 \t 0.558933549897920 \t 0.640270241900094 \t 0.0868068693591501 \n",
      "\n",
      "1.29 15.8425484958224 %\n",
      "0.644698460705887 \t 0.556529935742166 \t 0.635306906691566 \t 0.0881685249637217 \n",
      "\n",
      "1.3 16.1572605027245 %\n",
      "0.643723691316640 \t 0.554182914206677 \t 0.630419930486246 \t 0.0895407771099631 \n",
      "\n",
      "1.31 16.4749233602500 %\n",
      "0.642814665347417 \t 0.551891039549543 \t 0.625607564604672 \t 0.0909236257978744 \n",
      "\n",
      "1.32 16.7955211359520 %\n",
      "0.641969983135339 \t 0.549652912107884 \t 0.620868113357667 \t 0.0923170710274555 \n",
      "\n",
      "1.33 17.1190377833080 %\n",
      "0.641188289313086 \t 0.547467176514380 \t 0.616199932054226 \t 0.0937211127987064 \n",
      "\n",
      "1.34 17.4454571519900 %\n",
      "0.640468271106812 \t 0.545332519995185 \t 0.611601425098597 \t 0.0951357511116271 \n",
      "\n",
      "1.35 17.7747629978430 %\n",
      "0.639808656711170 \t 0.543247670744952 \t 0.607071044171941 \t 0.0965609859662176 \n",
      "\n",
      "1.36 18.1069389925757 %\n",
      "0.639208213737420 \t 0.541211396374942 \t 0.602607286494206 \t 0.0979968173624780 \n",
      "\n",
      "1.37 18.4419687331647 %\n",
      "0.638665747730839 \t 0.539222502430430 \t 0.598208693162131 \t 0.0994432453004082 \n",
      "\n",
      "1.38 18.7798357509754 %\n",
      "0.638180100753863 \t 0.537279830973855 \t 0.593873847559507 \t 0.100900269780008 \n",
      "\n",
      "1.39 19.1205235206039 %\n",
      "0.637750150031621 \t 0.535382259230343 \t 0.589601373836058 \t 0.102367890801278 \n",
      "\n",
      "1.4 19.4640154684416 %\n",
      "0.637374806656668 \t 0.533528698292451 \t 0.585389935451514 \t 0.103846108364218 \n",
      "\n",
      "1.41 19.8102949809674 %\n",
      "0.637053014349977 \t 0.531718091881150 \t 0.581238233781645 \t 0.105334922468827 \n",
      "\n",
      "1.42 20.1593454127703 %\n",
      "0.636783748275333 \t 0.529949415160226 \t 0.577145006783183 \t 0.106834333115106 \n",
      "\n",
      "1.43 20.5111500943068 %\n",
      "0.636566013904517 \t 0.528221673601462 \t 0.573109027714769 \t 0.108344340303055 \n",
      "\n",
      "1.44 20.8656923393969 %\n",
      "0.636398845930751 \t 0.526533901898076 \t 0.569129103911194 \t 0.109864944032674 \n",
      "\n",
      "1.45 21.2229554524626 %\n",
      "0.636281307228043 \t 0.524885162924080 \t 0.565204075608359 \t 0.111396144303963 \n",
      "\n",
      "1.46 21.5829227355142 %\n",
      "0.636212487854211 \t 0.523274546737290 \t 0.561332814816520 \t 0.112937941116922 \n",
      "\n",
      "1.47 21.9455774948873 %\n",
      "0.636191504095466 \t 0.521701169623917 \t 0.557514224239537 \t 0.114490334471550 \n",
      "\n",
      "1.48 22.3109030477354 %\n",
      "0.636217497550554 \t 0.520164173182706 \t 0.553747236237919 \t 0.116053324367848 \n",
      "\n",
      "1.49 22.6788827282839 %\n",
      "0.636289634252585 \t 0.518662723446769 \t 0.550030811833638 \t 0.117626910805816 \n",
      "\n",
      "1.5 23.0494998938478 %\n",
      "0.636407103826750 \t 0.517196010041297 \t 0.546363939754747 \t 0.119211093785454 \n",
      "\n",
      "1.51 23.4227379306200 %\n",
      "0.636569118682252 \t 0.515763245375490 \t 0.542745635517960 \t 0.120805873306761 \n",
      "\n",
      "1.52 23.7985802592328 %\n",
      "0.636774913236824 \t 0.514363663867086 \t 0.539174940547447 \t 0.122411249369739 \n",
      "\n",
      "1.53 24.1770103400997 %\n",
      "0.637023743172362 \t 0.512996521197975 \t 0.535650921328183 \t 0.124027221974386 \n",
      "\n",
      "1.54 24.5580116785393 %\n",
      "0.637314884720187 \t 0.511661093599484 \t 0.532172668592286 \t 0.125653791120703 \n",
      "\n",
      "1.55 24.9415678296893 %\n",
      "0.637647633974626 \t 0.510356677165935 \t 0.528739296536852 \t 0.127290956808690 \n",
      "\n",
      "1.56 25.3276624032124 %\n",
      "0.638021306233576 \t 0.509082587195229 \t 0.525349942071872 \t 0.128938719038347 \n",
      "\n",
      "1.57 25.7162790678011 %\n",
      "0.638435235364868 \t 0.507838157555194 \t 0.522003764096892 \t 0.130597077809673 \n",
      "\n",
      "1.58 26.1074015554852 %\n",
      "0.638888773197239 \t 0.506622740074570 \t 0.518699942805139 \t 0.132266033122670 \n",
      "\n",
      "1.59 26.5010136657460 %\n",
      "0.639381288934833 \t 0.505435703957497 \t 0.515437679013912 \t 0.133945584977336 \n",
      "\n",
      "1.6 26.8970992694444 %\n",
      "0.639912168594167 \t 0.504276435220495 \t 0.512216193520075 \t 0.135635733373672 \n",
      "\n",
      "1.61 27.2956423125643 %\n",
      "0.640480814462584 \t 0.503144336150907 \t 0.509034726479578 \t 0.137336478311678 \n",
      "\n",
      "1.62 27.6966268197793 %\n",
      "0.641086644577242 \t 0.502038824785889 \t 0.505892536809950 \t 0.139047819791353 \n",
      "\n",
      "1.63 28.1000368978445 %\n",
      "0.641729092223740 \t 0.500959334411042 \t 0.502788901614798 \t 0.140769757812699 \n",
      "\n",
      "1.64 28.5058567388200 %\n",
      "0.642407605453537 \t 0.499905313077823 \t 0.499723115629341 \t 0.142502292375714 \n",
      "\n",
      "1.65 28.9140706231302 %\n",
      "0.643121646619344 \t 0.498876223138945 \t 0.496694490686133 \t 0.144245423480399 \n",
      "\n",
      "1.66 29.3246629224623 %\n",
      "0.643870691927724 \t 0.497871540800970 \t 0.493702355200072 \t 0.145999151126754 \n",
      "\n",
      "1.67 29.7376181025107 %\n",
      "0.644654231008166 \t 0.496890755693387 \t 0.490746053671928 \t 0.147763475314779 \n",
      "\n",
      "1.68 30.1529207255689 %\n",
      "0.645471766497931 \t 0.495933370453458 \t 0.487824946209595 \t 0.149538396044473 \n",
      "\n",
      "1.69 30.5705554529766 %\n",
      "0.646322813642013 \t 0.494998900326175 \t 0.484938408066343 \t 0.151323913315838 \n",
      "\n",
      "1.7 30.9905070474226 %\n",
      "0.647206899907567 \t 0.494086872778696 \t 0.482085829195365 \t 0.153120027128872 \n",
      "\n",
      "1.71 31.4127603751117 %\n",
      "0.648123564612223 \t 0.493196827128647 \t 0.479266613819953 \t 0.154926737483576 \n",
      "\n",
      "1.72 31.8373004077956 %\n",
      "0.649072358565689 \t 0.492328314185739 \t 0.476480180018674 \t 0.156744044379950 \n",
      "\n",
      "1.73 32.2641122246762 %\n",
      "0.650052843724109 \t 0.491480895906116 \t 0.473725959324925 \t 0.158571947817993 \n",
      "\n",
      "1.74 32.6931810141816 %\n",
      "0.651064592856653 \t 0.490654145058946 \t 0.471003396340299 \t 0.160410447797707 \n",
      "\n",
      "1.75 33.1244920756215 %\n",
      "0.652107189223832 \t 0.489847644904742 \t 0.468311948361211 \t 0.162259544319090 \n",
      "\n",
      "1.76 33.5580308207240 %\n",
      "0.653180226267075 \t 0.489060988884932 \t 0.465651085018250 \t 0.164119237382143 \n",
      "\n",
      "1.77 33.9937827750592 %\n",
      "0.654283307309103 \t 0.488293780322237 \t 0.463020287927751 \t 0.165989526986866 \n",
      "\n",
      "1.78 34.4317335793523 %\n",
      "0.655416045264676 \t 0.487545632131417 \t 0.460419050355124 \t 0.167870413133259 \n",
      "\n",
      "1.79 34.8718689906902 %\n",
      "0.656578062361299 \t 0.486816166539978 \t 0.457846876889452 \t 0.169761895821321 \n",
      "\n",
      "1.8 35.3141748836252 %\n",
      "0.657768989869486 \t 0.486105014818432 \t 0.455303283128956 \t 0.171663975051054 \n",
      "\n",
      "1.81 35.7586372511800 %\n",
      "0.658988467842210 \t 0.485411817019754 \t 0.452787795376862 \t 0.173576650822456 \n",
      "\n",
      "1.82 36.2052422057558 %\n",
      "0.660236144863184 \t 0.484736221727657 \t 0.450299950347319 \t 0.175499923135528 \n",
      "\n"
     ]
    },
    {
     "name": "stdout",
     "output_type": "stream",
     "text": [
      "1.83 36.6539759799490 %\n",
      "0.661511677803617 \t 0.484077885813348 \t 0.447839294880940 \t 0.177433791990270 \n",
      "\n",
      "1.84 37.1048249272783 %\n",
      "0.662814731587124 \t 0.483436474200443 \t 0.445405385669630 \t 0.179378257386681 \n",
      "\n",
      "1.85 37.5577755228256 %\n",
      "0.664144978962480 \t 0.482811659637717 \t 0.442997788990335 \t 0.181333319324763 \n",
      "\n",
      "1.86 38.0128143637953 %\n",
      "0.665502100283901 \t 0.482203122479387 \t 0.440616080447376 \t 0.183298977804514 \n",
      "\n",
      "1.87 38.4699281699926 %\n",
      "0.666885783298586 \t 0.481610550472651 \t 0.438259844723059 \t 0.185275232825935 \n",
      "\n",
      "1.88 38.9291037842260 %\n",
      "0.668295722941229 \t 0.481033638552203 \t 0.435928675336234 \t 0.187262084389026 \n",
      "\n",
      "1.89 39.3903281726363 %\n",
      "0.669731621135235 \t 0.480472088641448 \t 0.433622174408529 \t 0.189259532493787 \n",
      "\n",
      "1.9 39.8535884249541 %\n",
      "0.671193186600407 \t 0.479925609460190 \t 0.431339952437958 \t 0.191267577140217 \n",
      "\n",
      "1.91 40.3188717546900 %\n",
      "0.672680134666846 \t 0.479393916338529 \t 0.429081628079644 \t 0.193286218328317 \n",
      "\n",
      "1.92 40.7861654992591 %\n",
      "0.674192187094830 \t 0.478876731036743 \t 0.426846827933396 \t 0.195315456058088 \n",
      "\n",
      "1.93 41.2554571200429 %\n",
      "0.675729071900469 \t 0.478373781570942 \t 0.424635186337886 \t 0.197355290329528 \n",
      "\n",
      "1.94 41.7267342023916 %\n",
      "0.677290523186906 \t 0.477884802044269 \t 0.422446345171196 \t 0.199405721142637 \n",
      "\n",
      "1.95 42.1999844555683 %\n",
      "0.678876280980866 \t 0.477409532483449 \t 0.420279953657497 \t 0.201466748497417 \n",
      "\n",
      "1.96 42.6751957126385 %\n",
      "0.680486091074364 \t 0.476947718680497 \t 0.418135668179653 \t 0.203538372393866 \n",
      "\n",
      "1.97 43.1523559303063 %\n",
      "0.682119704871373 \t 0.476499112039388 \t 0.416013152097523 \t 0.205620592831986 \n",
      "\n",
      "1.98 43.6314531887014 %\n",
      "0.683776879239291 \t 0.476063469427516 \t 0.413912075571778 \t 0.207713409811775 \n",
      "\n",
      "1.99 44.1124756911166 %\n",
      "0.685457376365008 \t 0.475640553031774 \t 0.411832115393025 \t 0.209816823333234 \n",
      "\n",
      "2.0 44.5954117636996 %\n",
      "0.687160963615437 \t 0.475230130219075 \t 0.409772954816060 \t 0.211930833396362 \n",
      "\n",
      "2.01 45.0802498551021 %\n",
      "0.688887413402335 \t 0.474831973401174 \t 0.407734283399065 \t 0.214055440001161 \n",
      "\n",
      "2.02 45.5669785360850 %\n",
      "0.690636503051255 \t 0.474445859903626 \t 0.405715796847584 \t 0.216190643147629 \n",
      "\n",
      "2.03 46.0555864990858 %\n",
      "0.692408014674509 \t 0.474071571838742 \t 0.403717196863113 \t 0.218336442835767 \n",
      "\n",
      "2.04 46.5460625577464 %\n",
      "0.694201735047970 \t 0.473708895982395 \t 0.401738190996137 \t 0.220492839065575 \n",
      "\n",
      "2.05 47.0383956464061 %\n",
      "0.696017455491603 \t 0.473357623654550 \t 0.399778492503473 \t 0.222659831837053 \n",
      "\n",
      "2.06 47.5325748195594 %\n",
      "0.697854971753585 \t 0.473017550603384 \t 0.397837820209767 \t 0.224837421150201 \n",
      "\n",
      "2.07 48.0285892512818 %\n",
      "0.699714083897892 \t 0.472688476892874 \t 0.395915898373005 \t 0.227025607005018 \n",
      "\n",
      "2.08 48.5264282346247 %\n",
      "0.701594596195231 \t 0.472370206793726 \t 0.394012456553904 \t 0.229224389401506 \n",
      "\n",
      "2.09 49.0260811809811 %\n",
      "0.703496317017210 \t 0.472062548677547 \t 0.392127229489053 \t 0.231433768339663 \n",
      "\n",
      "2.1 49.5275376194236 %\n",
      "0.705419058733623 \t 0.471765314914134 \t 0.390259956967676 \t 0.233653743819490 \n",
      "\n",
      "2.11 50.0307871960162 %\n",
      "0.707362637612763 \t 0.471478321771777 \t 0.388410383711905 \t 0.235884315840986 \n",
      "\n",
      "2.12 50.5358196731023 %\n",
      "0.709326873724637 \t 0.471201389320484 \t 0.386578259260434 \t 0.238125484404153 \n",
      "\n",
      "2.13 51.0426249285683 %\n",
      "0.711311590847009 \t 0.470934341338019 \t 0.384763337855455 \t 0.240377249508989 \n",
      "\n",
      "2.14 51.5511929550866 %\n",
      "0.713316616374157 \t 0.470677005218662 \t 0.382965378332766 \t 0.242639611155495 \n",
      "\n",
      "2.15 52.0615138593372 %\n",
      "0.715341781228270 \t 0.470429211884599 \t 0.381184144014939 \t 0.244912569343671 \n",
      "\n",
      "2.16 52.5735778612111 %\n",
      "0.717386919773383 \t 0.470190795699866 \t 0.379419402607463 \t 0.247196124073517 \n",
      "\n",
      "2.17 53.0873752929950 %\n",
      "0.719451869731775 \t 0.469961594386743 \t 0.377670926097751 \t 0.249490275345033 \n",
      "\n",
      "2.18 53.6028965985395 %\n",
      "0.721536472102749 \t 0.469741448944531 \t 0.375938490656936 \t 0.251795023158218 \n",
      "\n",
      "2.19 54.1201323324122 %\n",
      "0.723640571083711 \t 0.469530203570637 \t 0.374221876544347 \t 0.254110367513073 \n",
      "\n",
      "2.2 54.6390731590358 %\n",
      "0.725764013993475 \t 0.469327705583877 \t 0.372520868014600 \t 0.256436308409599 \n",
      "\n",
      "2.21 55.1597098518129 %\n",
      "0.727906651197729 \t 0.469133805349936 \t 0.370835253227204 \t 0.258772845847793 \n",
      "\n",
      "2.22 55.6820332922389 %\n",
      "0.730068336036579 \t 0.468948356208921 \t 0.369164824158613 \t 0.261119979827658 \n",
      "\n",
      "2.23 56.2060344690029 %\n",
      "0.732248924754113 \t 0.468771214404920 \t 0.367509376516646 \t 0.263477710349193 \n",
      "\n",
      "2.24 56.7317044770790 %\n",
      "0.734448276429921 \t 0.468602239017524 \t 0.365868709657196 \t 0.265846037412397 \n",
      "\n",
      "2.25 57.2590345168074 %\n",
      "0.736666252912507 \t 0.468441291895235 \t 0.364242626503164 \t 0.268224961017271 \n",
      "\n",
      "2.26 57.7880158929673 %\n",
      "0.738902718754524 \t 0.468288237590708 \t 0.362630933465540 \t 0.270614481163815 \n",
      "\n",
      "2.27 58.3186400138422 %\n",
      "0.741157541149794 \t 0.468142943297765 \t 0.361033440366573 \t 0.273014597852029 \n",
      "\n",
      "2.28 58.8508983902779 %\n",
      "0.743430589872037 \t 0.468005278790124 \t 0.359449960364965 \t 0.275425311081913 \n",
      "\n",
      "2.29 59.3847826347344 %\n",
      "0.745721737215267 \t 0.467875116361801 \t 0.357880309883022 \t 0.277846620853466 \n",
      "\n",
      "2.3 59.9202844603330 %\n",
      "0.748030857935801 \t 0.467752330769112 \t 0.356324308535704 \t 0.280278527166689 \n",
      "\n",
      "2.31 60.4573956798980 %\n",
      "0.750357829195825 \t 0.467636799174243 \t 0.354781779061524 \t 0.282721030021582 \n",
      "\n",
      "2.32 60.9961082049951 %\n",
      "0.752702530508482 \t 0.467528401090336 \t 0.353252547255224 \t 0.285174129418145 \n",
      "\n",
      "2.33 61.5364140449658 %\n",
      "0.755064843684414 \t 0.467427018328036 \t 0.351736441902197 \t 0.287637825356378 \n",
      "\n",
      "2.34 62.0783053059595 %\n",
      "0.757444652779740 \t 0.467332534943459 \t 0.350233294714581 \t 0.290112117836280 \n",
      "\n",
      "2.35 62.6217741899640 %\n",
      "0.759841844045404 \t 0.467244837187551 \t 0.348742940268987 \t 0.292597006857853 \n",
      "\n",
      "2.36 63.1668129938335 %\n",
      "0.762256305877859 \t 0.467163813456764 \t 0.347265215945814 \t 0.295092492421095 \n",
      "\n",
      "2.37 63.7134141083166 %\n",
      "0.764687928771051 \t 0.467089354245044 \t 0.345799961870093 \t 0.297598574526007 \n",
      "\n",
      "2.38 64.2615700170835 %\n",
      "0.767136605269659 \t 0.467021352097070 \t 0.344347020853832 \t 0.300115253172589 \n",
      "\n",
      "2.39 64.8112732957531 %\n",
      "0.769602229923549 \t 0.466959701562709 \t 0.342906238339799 \t 0.302642528360840 \n",
      "\n",
      "2.4 65.3625166109213 %\n",
      "0.772084699243420 \t 0.466904299152658 \t 0.341477462346717 \t 0.305180400090762 \n",
      "\n",
      "2.41 65.9152927191899 %\n",
      "0.774583911657585 \t 0.466855043295232 \t 0.340060543415817 \t 0.307728868362353 \n",
      "\n",
      "2.42 66.4695944661970 %\n",
      "0.777099767469880 \t 0.466811834294266 \t 0.338655334558727 \t 0.310287933175614 \n",
      "\n",
      "2.43 67.0254147856497 %\n",
      "0.779632168818638 \t 0.466774574288093 \t 0.337261691206634 \t 0.312857594530545 \n",
      "\n",
      "2.44 67.5827466983587 %\n",
      "0.782181019636723 \t 0.466743167209577 \t 0.335879471160705 \t 0.315437852427146 \n",
      "\n",
      "2.45 68.1415833112759 %\n",
      "0.784746225612577 \t 0.466717518747161 \t 0.334508534543722 \t 0.318028706865416 \n",
      "\n",
      "2.46 68.7019178165347 %\n",
      "0.787327694152254 \t 0.466697536306897 \t 0.333148743752894 \t 0.320630157845357 \n",
      "\n",
      "2.47 69.2637434904943 %\n",
      "0.789925334342415 \t 0.466683128975448 \t 0.331799963413814 \t 0.323242205366967 \n",
      "\n",
      "2.48 69.8270536927872 %\n",
      "0.792539056914254 \t 0.466674207484008 \t 0.330462060335532 \t 0.325864849430247 \n",
      "\n",
      "2.49 70.3918418653709 %\n",
      "0.795168774208330 \t 0.466670684173134 \t 0.329134903466715 \t 0.328498090035197 \n",
      "\n",
      "2.5 70.9581015315840 %\n",
      "0.797814400140274 \t 0.466672472958457 \t 0.327818363852848 \t 0.331141927181816 \n",
      "\n",
      "2.51 71.5258262952071 %\n",
      "0.800475850167349 \t 0.466679489297243 \t 0.326512314594470 \t 0.333796360870106 \n",
      "\n",
      "2.52 72.0950098395278 %\n",
      "0.803153041255846 \t 0.466691650155781 \t 0.325216630806397 \t 0.336461391100065 \n",
      "\n",
      "2.53 72.6656459264119 %\n",
      "0.805845891849276 \t 0.466708873977582 \t 0.323931189577913 \t 0.339137017871694 \n",
      "\n",
      "2.54 73.2377283953792 %\n",
      "0.808554321837352 \t 0.466731080652359 \t 0.322655869933905 \t 0.341823241184993 \n",
      "\n",
      "2.55 73.8112511626850 %\n",
      "0.811278252525723 \t 0.466758191485762 \t 0.321390552796910 \t 0.344520061039962 \n",
      "\n",
      "2.56 74.3862082204075 %\n",
      "0.814017606606459 \t 0.466790129169859 \t 0.320135120950047 \t 0.347227477436600 \n",
      "\n",
      "2.57 74.9625936355414 %\n",
      "0.816772308129240 \t 0.466826817754331 \t 0.318889459000825 \t 0.349945490374908 \n",
      "\n",
      "2.58 75.5404015490969 %\n",
      "0.819542282473255 \t 0.466868182618369 \t 0.317653453345783 \t 0.352674099854887 \n",
      "\n",
      "2.59 76.1196261752058 %\n",
      "0.822327456319778 \t 0.466914150443243 \t 0.316426992135954 \t 0.355413305876535 \n",
      "\n",
      "2.6 76.7002618002339 %\n",
      "0.825127757625392 \t 0.466964649185539 \t 0.315209965243123 \t 0.358163108439852 \n",
      "\n",
      "2.61 77.2823027818994 %\n",
      "0.827943115595875 \t 0.467019608051034 \t 0.314002264226866 \t 0.360923507544840 \n",
      "\n",
      "2.62 77.8657435483991 %\n",
      "0.830773460660690 \t 0.467078957469193 \t 0.312803782302336 \t 0.363694503191498 \n",
      "\n",
      "2.63 78.4505785975405 %\n",
      "0.833618724448100 \t 0.467142629068276 \t 0.311614414308791 \t 0.366476095379825 \n",
      "\n",
      "2.64 79.0368024958818 %\n",
      "0.836478839760858 \t 0.467210555651037 \t 0.310434056678833 \t 0.369268284109822 \n",
      "\n",
      "2.65 79.6244098778783 %\n",
      "0.839353740552481 \t 0.467282671170992 \t 0.309262607408347 \t 0.372071069381489 \n",
      "\n",
      "2.66 80.2133954450359 %\n",
      "0.842243361904078 \t 0.467358910709253 \t 0.308099966027113 \t 0.374884451194825 \n",
      "\n",
      "2.67 80.8037539650733 %\n",
      "0.845147640001729 \t 0.467439210451897 \t 0.306946033570082 \t 0.377708429549832 \n",
      "\n",
      "2.68 81.3954802710895 %\n",
      "0.848066512114381 \t 0.467523507667872 \t 0.305800712549298 \t 0.380543004446508 \n",
      "\n",
      "2.69 81.9885692607403 %\n",
      "0.850999916572270 \t 0.467611740687415 \t 0.304663906926439 \t 0.383388175884854 \n",
      "\n",
      "2.7 82.5830158954221 %\n",
      "0.853947792745839 \t 0.467703848880968 \t 0.303535522085970 \t 0.386243943864871 \n",
      "\n",
      "2.71 83.1788151994625 %\n"
     ]
    },
    {
     "name": "stdout",
     "output_type": "stream",
     "text": [
      "0.856910081025144 \t 0.467799772638587 \t 0.302415464808900 \t 0.389110308386556 \n",
      "\n",
      "2.72 83.7759622593196 %\n",
      "0.859886722799737 \t 0.467899453349825 \t 0.301303643247103 \t 0.391987269449912 \n",
      "\n",
      "2.73 84.3744522227879 %\n",
      "0.862877660439009 \t 0.468002833384072 \t 0.300199966898212 \t 0.394874827054937 \n",
      "\n",
      "2.74 84.9742802982134 %\n",
      "0.865882837272983 \t 0.468109856071351 \t 0.299104346581066 \t 0.397772981201633 \n",
      "\n",
      "2.75 85.5754417537144 %\n",
      "0.868902197573549 \t 0.468220465683551 \t 0.298016694411680 \t 0.400681731889998 \n",
      "\n",
      "2.76 86.1779319164122 %\n",
      "0.871935686536120 \t 0.468334607416087 \t 0.296936923779754 \t 0.403601079120032 \n",
      "\n",
      "2.77 86.7817461716685 %\n",
      "0.874983250261710 \t 0.468452227369973 \t 0.295864949325675 \t 0.406531022891737 \n",
      "\n",
      "2.78 87.3868799623304 %\n",
      "0.878044835739411 \t 0.468573272534300 \t 0.294800686918029 \t 0.409471563205112 \n",
      "\n",
      "2.79 87.9933287879840 %\n",
      "0.881120390829272 \t 0.468697690769116 \t 0.293744053631584 \t 0.412422700060156 \n",
      "\n",
      "2.8 88.6010882042153 %\n",
      "0.884209864245550 \t 0.468825430788679 \t 0.292694967725757 \t 0.415384433456870 \n",
      "\n",
      "2.81 89.2101538218797 %\n",
      "0.887313205540350 \t 0.468956442145096 \t 0.291653348623530 \t 0.418356763395254 \n",
      "\n",
      "2.82 89.8205213063781 %\n",
      "0.890430365087621 \t 0.469090675212313 \t 0.290619116890823 \t 0.421339689875308 \n",
      "\n",
      "2.83 90.4321863769420 %\n",
      "0.893561294067506 \t 0.469228081170474 \t 0.289592194216297 \t 0.424333212897032 \n",
      "\n",
      "2.84 91.0451448059259 %\n",
      "0.896705944451046 \t 0.469368611990621 \t 0.288572503391592 \t 0.427337332460425 \n",
      "\n",
      "2.85 91.6593924181080 %\n",
      "0.899864268985214 \t 0.469512220419726 \t 0.287559968291972 \t 0.430352048565488 \n",
      "\n",
      "2.86 92.2749250899976 %\n",
      "0.903036221178284 \t 0.469658859966063 \t 0.286554513857385 \t 0.433377361212221 \n",
      "\n",
      "2.87 92.8917387491520 %\n",
      "0.906221755285518 \t 0.469808484884893 \t 0.285556066073909 \t 0.436413270400624 \n",
      "\n",
      "2.88 93.5098293734994 %\n",
      "0.909420826295162 \t 0.469961050164465 \t 0.284564551955597 \t 0.439459776130697 \n",
      "\n",
      "2.89 94.1291929906710 %\n",
      "0.912633389914757 \t 0.470116511512318 \t 0.283579899526685 \t 0.442516878402440 \n",
      "\n",
      "2.9 94.7498256773399 %\n",
      "0.915859402557738 \t 0.470274825341886 \t 0.282602037804179 \t 0.445584577215852 \n",
      "\n",
      "2.91 95.3717235585682 %\n",
      "0.919098821330325 \t 0.470435948759391 \t 0.281630896780797 \t 0.448662872570934 \n",
      "\n",
      "2.92 95.9948828071612 %\n",
      "0.922351604018701 \t 0.470599839551015 \t 0.280666407408260 \t 0.451751764467686 \n",
      "\n",
      "2.93 96.6192996430300 %\n",
      "0.925617709076462 \t 0.470766456170354 \t 0.279708501580928 \t 0.454851252906108 \n",
      "\n",
      "2.94 97.2449703325609 %\n",
      "0.928897095612333 \t 0.470935757726134 \t 0.278757112119769 \t 0.457961337886199 \n",
      "\n",
      "2.95 97.8718911879928 %\n",
      "0.932189723378157 \t 0.471107703970196 \t 0.277812172756651 \t 0.461082019407961 \n",
      "\n",
      "2.96 98.5000585668021 %\n",
      "0.935495552757125 \t 0.471282255285733 \t 0.276873618118959 \t 0.464213297471392 \n",
      "\n",
      "2.97 99.1294688710946 %\n",
      "0.938814544752271 \t 0.471459372675778 \t 0.275941383714518 \t 0.467355172076493 \n",
      "\n",
      "2.98 99.7601185470057 %\n",
      "0.942146660975200 \t 0.471639017751936 \t 0.275015405916819 \t 0.470507643223264 \n",
      "\n",
      "2.99 100.392004084107 %\n",
      "0.945491863635056 \t 0.471821152723351 \t 0.274095621950542 \t 0.473670710911705 \n",
      "\n"
     ]
    }
   ],
   "source": [
    "\n",
    "for i in range(10,300,1):\n",
    "    if expr_piece_3.subs(x,i/100).subs(beta_values)/expr_piece_1.subs(x,i/100).subs(beta_values) > 5/100:\n",
    "        print(i/100,expr_piece_3.subs(x,i/100).subs(beta_values)/expr_piece_1.subs(x,i/100).subs(beta_values)*100,'%')\n",
    "        print(f.subs(x,i/100).subs(beta_values),'\\t',expr_piece_1.subs(x,i/100).subs(beta_values),'\\t',\n",
    "              expr_piece_2.subs(x,i/100).subs(beta_values),'\\t',expr_piece_3.subs(x,i/100).subs(beta_values),'\\n')\n",
    "    else: None\n",
    "\n"
   ]
  },
  {
   "cell_type": "code",
   "execution_count": 73,
   "id": "dcc5342b",
   "metadata": {},
   "outputs": [
    {
     "name": "stdout",
     "output_type": "stream",
     "text": [
      "0.85 5.11640989180087 %\n",
      "0.786461008534292 \t 0.748181001752074 \t 0.964171658390729 \t 0.0382800067822180 \n",
      "\n",
      "0.86 5.28956840791016 %\n",
      "0.780002805077415 \t 0.740816793982428 \t 0.952960360037349 \t 0.0391860110949874 \n",
      "\n",
      "0.87 5.46605957353514 %\n",
      "0.773768453126686 \t 0.733665841177259 \t 0.942006792680598 \t 0.0401026119494267 \n",
      "\n",
      "0.88 5.64588675802490 %\n",
      "0.767750183026732 \t 0.726720373681196 \t 0.931302170036500 \t 0.0410298093455358 \n",
      "\n",
      "0.89 5.82905252240335 %\n",
      "0.761940585547869 \t 0.719972982264555 \t 0.920838100710247 \t 0.0419676032833147 \n",
      "\n",
      "0.9 6.01555863707029 %\n",
      "0.756332591488165 \t 0.713416597725402 \t 0.910606566257911 \t 0.0429159937627634 \n",
      "\n",
      "0.91 6.20540609968937 %\n",
      "0.750919452636871 \t 0.707044471852989 \t 0.900599900694637 \t 0.0438749807838819 \n",
      "\n",
      "0.92 6.39859515323328 %\n",
      "0.745694723994758 \t 0.700850159648088 \t 0.890810771339261 \t 0.0448445643466703 \n",
      "\n",
      "0.93 6.59512530415751 %\n",
      "0.740652247155906 \t 0.694827502704777 \t 0.881232160894753 \t 0.0458247444511285 \n",
      "\n",
      "0.94 6.79499534067517 %\n",
      "0.735786134763708 \t 0.688970613666451 \t 0.871857350672468 \t 0.0468155210972565 \n",
      "\n",
      "0.95 6.99820335110625 %\n",
      "0.731090755961217 \t 0.683273861676162 \t 0.862679904875916 \t 0.0478168942850543 \n",
      "\n",
      "0.96 7.20474674227567 %\n",
      "0.726560722762675 \t 0.677731858748153 \t 0.853693655866792 \t 0.0488288640145219 \n",
      "\n",
      "0.97 7.41462225793556 %\n",
      "0.722190877279138 \t 0.672339446993479 \t 0.844892690342392 \t 0.0498514302856593 \n",
      "\n",
      "0.98 7.62782599718812 %\n",
      "0.717976279736631 \t 0.667091686638164 \t 0.836271336359306 \t 0.0508845930984666 \n",
      "\n",
      "0.99 7.84435343288663 %\n",
      "0.713912197230252 \t 0.661983844777308 \t 0.827824151143556 \t 0.0519283524529437 \n",
      "\n",
      "1.0 8.06419942999293 %\n",
      "0.709994093162239 \t 0.657011384813149 \t 0.819545909632120 \t 0.0529827083490906 \n",
      "\n",
      "1.01 8.28735826387081 %\n",
      "0.706217617316132 \t 0.652169956529224 \t 0.811431593695168 \t 0.0540476607869073 \n",
      "\n",
      "1.02 8.51382363849590 %\n",
      "0.702578596522940 \t 0.647455386756546 \t 0.803476381992274 \t 0.0551232097663939 \n",
      "\n",
      "1.03 8.74358870456331 %\n",
      "0.699073025878716 \t 0.642863670591165 \t 0.795675640419534 \t 0.0562093552875502 \n",
      "\n",
      "1.04 8.97664607747554 %\n",
      "0.695697060476020 \t 0.638390963125644 \t 0.788024913107808 \t 0.0573060973503764 \n",
      "\n",
      "1.05 9.21298785519401 %\n",
      "0.692447007614696 \t 0.634033571659824 \t 0.780519913935352 \t 0.0584134359548724 \n",
      "\n",
      "1.06 9.45260563593855 %\n",
      "0.689319319459971 \t 0.629787948358932 \t 0.773156518520868 \t 0.0595313711010382 \n",
      "\n",
      "1.07 9.69549053572004 %\n",
      "0.686310586118316 \t 0.625650683329442 \t 0.765930756665533 \t 0.0606599027888738 \n",
      "\n",
      "1.08 9.94163320569247 %\n",
      "0.683417529103722 \t 0.621618498085343 \t 0.758838805214926 \t 0.0617990310183793 \n",
      "\n",
      "1.09 10.1910238493114 %\n",
      "0.680636995169036 \t 0.617688239379481 \t 0.751876981313871 \t 0.0629487557895546 \n",
      "\n",
      "1.1 10.4436522392868 %\n",
      "0.677965950478890 \t 0.613856873376491 \t 0.745041736029200 \t 0.0641090771023996 \n",
      "\n",
      "1.11 10.6995077343190 %\n",
      "0.675401475102462 \t 0.610121480145548 \t 0.738329648317225 \t 0.0652799949569145 \n",
      "\n",
      "1.12 10.9585792956078 %\n",
      "0.672940757805834 \t 0.606479248452735 \t 0.731737419314393 \t 0.0664615093530993 \n",
      "\n",
      "1.13 11.2208555031242 %\n",
      "0.670581091125216 \t 0.602927470834262 \t 0.725261866931080 \t 0.0676536202909538 \n",
      "\n",
      "1.14 11.4863245716371 %\n",
      "0.668319866703581 \t 0.599463538933103 \t 0.718899920729930 \t 0.0688563277704781 \n",
      "\n",
      "1.15 11.7549743664863 %\n",
      "0.666154570874503 \t 0.596084939082830 \t 0.712648617071409 \t 0.0700696317916723 \n",
      "\n",
      "1.16 12.0267924190950 %\n",
      "0.664082780478111 \t 0.592789248123575 \t 0.706505094510448 \t 0.0712935323545363 \n",
      "\n",
      "1.17 12.3017659422141 %\n",
      "0.662102158895125 \t 0.589574129436055 \t 0.700466589429162 \t 0.0725280294590701 \n",
      "\n",
      "1.18 12.5798818448946 %\n",
      "0.660210452285865 \t 0.586437329180591 \t 0.694530431891627 \t 0.0737731231052737 \n",
      "\n",
      "1.19 12.8611267471800 %\n",
      "0.658405486022064 \t 0.583376672728916 \t 0.688694041707664 \t 0.0750288132931472 \n",
      "\n",
      "1.2 13.1454869945174 %\n",
      "0.656685161300079 \t 0.580390061277389 \t 0.682954924693433 \t 0.0762951000226905 \n",
      "\n",
      "1.21 13.4329486718803 %\n",
      "0.655047451924911 \t 0.577475468631007 \t 0.677310669117455 \t 0.0775719832939035 \n",
      "\n",
      "1.22 13.7234976176022 %\n",
      "0.653490401255083 \t 0.574630938148297 \t 0.671758942321410 \t 0.0788594631067864 \n",
      "\n",
      "1.23 14.0171194369160 %\n",
      "0.652012119299145 \t 0.571854579837806 \t 0.666297487505789 \t 0.0801575394613392 \n",
      "\n",
      "1.24 14.3137995151993 %\n",
      "0.650610779955116 \t 0.569144567597554 \t 0.660924120671065 \t 0.0814662123575617 \n",
      "\n",
      "1.25 14.6135230309219 %\n",
      "0.649284618384774 \t 0.566499136589320 \t 0.655636727705696 \t 0.0827854817954541 \n",
      "\n",
      "1.26 14.9162749682953 %\n",
      "0.648031928515208 \t 0.563916580740192 \t 0.650433261612794 \t 0.0841153477750162 \n",
      "\n",
      "1.27 15.2220401296230 %\n",
      "0.646851060660527 \t 0.561395250364279 \t 0.645311739867811 \t 0.0854558102962482 \n",
      "\n",
      "1.28 15.5308031473516 %\n",
      "0.645740419257070 \t 0.558933549897920 \t 0.640270241900094 \t 0.0868068693591501 \n",
      "\n",
      "1.29 15.8425484958224 %\n",
      "0.644698460705887 \t 0.556529935742166 \t 0.635306906691566 \t 0.0881685249637217 \n",
      "\n",
      "1.3 16.1572605027245 %\n",
      "0.643723691316640 \t 0.554182914206677 \t 0.630419930486246 \t 0.0895407771099631 \n",
      "\n",
      "1.31 16.4749233602500 %\n",
      "0.642814665347417 \t 0.551891039549543 \t 0.625607564604672 \t 0.0909236257978744 \n",
      "\n",
      "1.32 16.7955211359520 %\n",
      "0.641969983135339 \t 0.549652912107884 \t 0.620868113357667 \t 0.0923170710274555 \n",
      "\n",
      "1.33 17.1190377833080 %\n",
      "0.641188289313086 \t 0.547467176514380 \t 0.616199932054226 \t 0.0937211127987064 \n",
      "\n",
      "1.34 17.4454571519900 %\n",
      "0.640468271106812 \t 0.545332519995185 \t 0.611601425098597 \t 0.0951357511116271 \n",
      "\n",
      "1.35 17.7747629978430 %\n",
      "0.639808656711170 \t 0.543247670744952 \t 0.607071044171941 \t 0.0965609859662176 \n",
      "\n",
      "1.36 18.1069389925757 %\n",
      "0.639208213737420 \t 0.541211396374942 \t 0.602607286494206 \t 0.0979968173624780 \n",
      "\n",
      "1.37 18.4419687331647 %\n",
      "0.638665747730839 \t 0.539222502430430 \t 0.598208693162131 \t 0.0994432453004082 \n",
      "\n",
      "1.38 18.7798357509754 %\n",
      "0.638180100753863 \t 0.537279830973855 \t 0.593873847559507 \t 0.100900269780008 \n",
      "\n",
      "1.39 19.1205235206039 %\n",
      "0.637750150031621 \t 0.535382259230343 \t 0.589601373836058 \t 0.102367890801278 \n",
      "\n",
      "1.4 19.4640154684416 %\n",
      "0.637374806656668 \t 0.533528698292451 \t 0.585389935451514 \t 0.103846108364218 \n",
      "\n",
      "1.41 19.8102949809674 %\n",
      "0.637053014349977 \t 0.531718091881150 \t 0.581238233781645 \t 0.105334922468827 \n",
      "\n",
      "1.42 20.1593454127703 %\n",
      "0.636783748275333 \t 0.529949415160226 \t 0.577145006783183 \t 0.106834333115106 \n",
      "\n",
      "1.43 20.5111500943068 %\n",
      "0.636566013904517 \t 0.528221673601462 \t 0.573109027714769 \t 0.108344340303055 \n",
      "\n",
      "1.44 20.8656923393969 %\n",
      "0.636398845930751 \t 0.526533901898076 \t 0.569129103911194 \t 0.109864944032674 \n",
      "\n",
      "1.45 21.2229554524626 %\n",
      "0.636281307228043 \t 0.524885162924080 \t 0.565204075608359 \t 0.111396144303963 \n",
      "\n",
      "1.46 21.5829227355142 %\n",
      "0.636212487854211 \t 0.523274546737290 \t 0.561332814816520 \t 0.112937941116922 \n",
      "\n",
      "1.47 21.9455774948873 %\n",
      "0.636191504095466 \t 0.521701169623917 \t 0.557514224239537 \t 0.114490334471550 \n",
      "\n",
      "1.48 22.3109030477354 %\n",
      "0.636217497550554 \t 0.520164173182706 \t 0.553747236237919 \t 0.116053324367848 \n",
      "\n",
      "1.49 22.6788827282839 %\n",
      "0.636289634252585 \t 0.518662723446769 \t 0.550030811833638 \t 0.117626910805816 \n",
      "\n",
      "1.5 23.0494998938478 %\n",
      "0.636407103826750 \t 0.517196010041297 \t 0.546363939754747 \t 0.119211093785454 \n",
      "\n",
      "1.51 23.4227379306200 %\n",
      "0.636569118682252 \t 0.515763245375490 \t 0.542745635517960 \t 0.120805873306761 \n",
      "\n",
      "1.52 23.7985802592328 %\n",
      "0.636774913236824 \t 0.514363663867086 \t 0.539174940547447 \t 0.122411249369739 \n",
      "\n",
      "1.53 24.1770103400997 %\n",
      "0.637023743172362 \t 0.512996521197975 \t 0.535650921328183 \t 0.124027221974386 \n",
      "\n",
      "1.54 24.5580116785393 %\n",
      "0.637314884720187 \t 0.511661093599484 \t 0.532172668592286 \t 0.125653791120703 \n",
      "\n",
      "1.55 24.9415678296893 %\n",
      "0.637647633974626 \t 0.510356677165935 \t 0.528739296536852 \t 0.127290956808690 \n",
      "\n",
      "1.56 25.3276624032124 %\n",
      "0.638021306233576 \t 0.509082587195229 \t 0.525349942071872 \t 0.128938719038347 \n",
      "\n",
      "1.57 25.7162790678011 %\n",
      "0.638435235364868 \t 0.507838157555194 \t 0.522003764096892 \t 0.130597077809673 \n",
      "\n",
      "1.58 26.1074015554852 %\n",
      "0.638888773197239 \t 0.506622740074570 \t 0.518699942805139 \t 0.132266033122670 \n",
      "\n",
      "1.59 26.5010136657460 %\n",
      "0.639381288934833 \t 0.505435703957497 \t 0.515437679013912 \t 0.133945584977336 \n",
      "\n",
      "1.6 26.8970992694444 %\n",
      "0.639912168594167 \t 0.504276435220495 \t 0.512216193520075 \t 0.135635733373672 \n",
      "\n",
      "1.61 27.2956423125643 %\n",
      "0.640480814462584 \t 0.503144336150907 \t 0.509034726479578 \t 0.137336478311678 \n",
      "\n",
      "1.62 27.6966268197793 %\n",
      "0.641086644577242 \t 0.502038824785889 \t 0.505892536809950 \t 0.139047819791353 \n",
      "\n",
      "1.63 28.1000368978445 %\n",
      "0.641729092223740 \t 0.500959334411042 \t 0.502788901614798 \t 0.140769757812699 \n",
      "\n",
      "1.64 28.5058567388200 %\n",
      "0.642407605453537 \t 0.499905313077823 \t 0.499723115629341 \t 0.142502292375714 \n",
      "\n",
      "1.65 28.9140706231302 %\n",
      "0.643121646619344 \t 0.498876223138945 \t 0.496694490686133 \t 0.144245423480399 \n",
      "\n",
      "1.66 29.3246629224623 %\n",
      "0.643870691927724 \t 0.497871540800970 \t 0.493702355200072 \t 0.145999151126754 \n",
      "\n",
      "1.67 29.7376181025107 %\n",
      "0.644654231008166 \t 0.496890755693387 \t 0.490746053671928 \t 0.147763475314779 \n",
      "\n",
      "1.68 30.1529207255689 %\n",
      "0.645471766497931 \t 0.495933370453458 \t 0.487824946209595 \t 0.149538396044473 \n",
      "\n",
      "1.69 30.5705554529766 %\n",
      "0.646322813642013 \t 0.494998900326175 \t 0.484938408066343 \t 0.151323913315838 \n",
      "\n",
      "1.7 30.9905070474226 %\n",
      "0.647206899907567 \t 0.494086872778696 \t 0.482085829195365 \t 0.153120027128872 \n",
      "\n",
      "1.71 31.4127603751117 %\n",
      "0.648123564612223 \t 0.493196827128647 \t 0.479266613819953 \t 0.154926737483576 \n",
      "\n",
      "1.72 31.8373004077956 %\n",
      "0.649072358565689 \t 0.492328314185739 \t 0.476480180018674 \t 0.156744044379950 \n",
      "\n"
     ]
    },
    {
     "name": "stdout",
     "output_type": "stream",
     "text": [
      "1.73 32.2641122246762 %\n",
      "0.650052843724109 \t 0.491480895906116 \t 0.473725959324925 \t 0.158571947817993 \n",
      "\n",
      "1.74 32.6931810141816 %\n",
      "0.651064592856653 \t 0.490654145058946 \t 0.471003396340299 \t 0.160410447797707 \n",
      "\n",
      "1.75 33.1244920756215 %\n",
      "0.652107189223832 \t 0.489847644904742 \t 0.468311948361211 \t 0.162259544319090 \n",
      "\n",
      "1.76 33.5580308207240 %\n",
      "0.653180226267075 \t 0.489060988884932 \t 0.465651085018250 \t 0.164119237382143 \n",
      "\n",
      "1.77 33.9937827750592 %\n",
      "0.654283307309103 \t 0.488293780322237 \t 0.463020287927751 \t 0.165989526986866 \n",
      "\n",
      "1.78 34.4317335793523 %\n",
      "0.655416045264676 \t 0.487545632131417 \t 0.460419050355124 \t 0.167870413133259 \n",
      "\n",
      "1.79 34.8718689906902 %\n",
      "0.656578062361299 \t 0.486816166539978 \t 0.457846876889452 \t 0.169761895821321 \n",
      "\n",
      "1.8 35.3141748836252 %\n",
      "0.657768989869486 \t 0.486105014818432 \t 0.455303283128956 \t 0.171663975051054 \n",
      "\n",
      "1.81 35.7586372511800 %\n",
      "0.658988467842210 \t 0.485411817019754 \t 0.452787795376862 \t 0.173576650822456 \n",
      "\n",
      "1.82 36.2052422057558 %\n",
      "0.660236144863184 \t 0.484736221727657 \t 0.450299950347319 \t 0.175499923135528 \n",
      "\n",
      "1.83 36.6539759799490 %\n",
      "0.661511677803617 \t 0.484077885813348 \t 0.447839294880940 \t 0.177433791990270 \n",
      "\n",
      "1.84 37.1048249272783 %\n",
      "0.662814731587124 \t 0.483436474200443 \t 0.445405385669630 \t 0.179378257386681 \n",
      "\n",
      "1.85 37.5577755228256 %\n",
      "0.664144978962480 \t 0.482811659637717 \t 0.442997788990335 \t 0.181333319324763 \n",
      "\n",
      "1.86 38.0128143637953 %\n",
      "0.665502100283901 \t 0.482203122479387 \t 0.440616080447376 \t 0.183298977804514 \n",
      "\n",
      "1.87 38.4699281699926 %\n",
      "0.666885783298586 \t 0.481610550472651 \t 0.438259844723059 \t 0.185275232825935 \n",
      "\n",
      "1.88 38.9291037842260 %\n",
      "0.668295722941229 \t 0.481033638552203 \t 0.435928675336234 \t 0.187262084389026 \n",
      "\n",
      "1.89 39.3903281726363 %\n",
      "0.669731621135235 \t 0.480472088641448 \t 0.433622174408529 \t 0.189259532493787 \n",
      "\n",
      "1.9 39.8535884249541 %\n",
      "0.671193186600407 \t 0.479925609460190 \t 0.431339952437958 \t 0.191267577140217 \n",
      "\n",
      "1.91 40.3188717546900 %\n",
      "0.672680134666846 \t 0.479393916338529 \t 0.429081628079644 \t 0.193286218328317 \n",
      "\n",
      "1.92 40.7861654992591 %\n",
      "0.674192187094830 \t 0.478876731036743 \t 0.426846827933396 \t 0.195315456058088 \n",
      "\n",
      "1.93 41.2554571200429 %\n",
      "0.675729071900469 \t 0.478373781570942 \t 0.424635186337886 \t 0.197355290329528 \n",
      "\n",
      "1.94 41.7267342023916 %\n",
      "0.677290523186906 \t 0.477884802044269 \t 0.422446345171196 \t 0.199405721142637 \n",
      "\n",
      "1.95 42.1999844555683 %\n",
      "0.678876280980866 \t 0.477409532483449 \t 0.420279953657497 \t 0.201466748497417 \n",
      "\n",
      "1.96 42.6751957126385 %\n",
      "0.680486091074364 \t 0.476947718680497 \t 0.418135668179653 \t 0.203538372393866 \n",
      "\n",
      "1.97 43.1523559303063 %\n",
      "0.682119704871373 \t 0.476499112039388 \t 0.416013152097523 \t 0.205620592831986 \n",
      "\n",
      "1.98 43.6314531887014 %\n",
      "0.683776879239291 \t 0.476063469427516 \t 0.413912075571778 \t 0.207713409811775 \n",
      "\n",
      "1.99 44.1124756911166 %\n",
      "0.685457376365008 \t 0.475640553031774 \t 0.411832115393025 \t 0.209816823333234 \n",
      "\n",
      "2.0 44.5954117636996 %\n",
      "0.687160963615437 \t 0.475230130219075 \t 0.409772954816060 \t 0.211930833396362 \n",
      "\n",
      "2.01 45.0802498551021 %\n",
      "0.688887413402335 \t 0.474831973401174 \t 0.407734283399065 \t 0.214055440001161 \n",
      "\n",
      "2.02 45.5669785360850 %\n",
      "0.690636503051255 \t 0.474445859903626 \t 0.405715796847584 \t 0.216190643147629 \n",
      "\n",
      "2.03 46.0555864990858 %\n",
      "0.692408014674509 \t 0.474071571838742 \t 0.403717196863113 \t 0.218336442835767 \n",
      "\n",
      "2.04 46.5460625577464 %\n",
      "0.694201735047970 \t 0.473708895982395 \t 0.401738190996137 \t 0.220492839065575 \n",
      "\n",
      "2.05 47.0383956464061 %\n",
      "0.696017455491603 \t 0.473357623654550 \t 0.399778492503473 \t 0.222659831837053 \n",
      "\n",
      "2.06 47.5325748195594 %\n",
      "0.697854971753585 \t 0.473017550603384 \t 0.397837820209767 \t 0.224837421150201 \n",
      "\n",
      "2.07 48.0285892512818 %\n",
      "0.699714083897892 \t 0.472688476892874 \t 0.395915898373005 \t 0.227025607005018 \n",
      "\n",
      "2.08 48.5264282346247 %\n",
      "0.701594596195231 \t 0.472370206793726 \t 0.394012456553904 \t 0.229224389401506 \n",
      "\n",
      "2.09 49.0260811809811 %\n",
      "0.703496317017210 \t 0.472062548677547 \t 0.392127229489053 \t 0.231433768339663 \n",
      "\n",
      "2.1 49.5275376194236 %\n",
      "0.705419058733623 \t 0.471765314914134 \t 0.390259956967676 \t 0.233653743819490 \n",
      "\n",
      "2.11 50.0307871960162 %\n",
      "0.707362637612763 \t 0.471478321771777 \t 0.388410383711905 \t 0.235884315840986 \n",
      "\n",
      "2.12 50.5358196731023 %\n",
      "0.709326873724637 \t 0.471201389320484 \t 0.386578259260434 \t 0.238125484404153 \n",
      "\n",
      "2.13 51.0426249285683 %\n",
      "0.711311590847009 \t 0.470934341338019 \t 0.384763337855455 \t 0.240377249508989 \n",
      "\n",
      "2.14 51.5511929550866 %\n",
      "0.713316616374157 \t 0.470677005218662 \t 0.382965378332766 \t 0.242639611155495 \n",
      "\n",
      "2.15 52.0615138593372 %\n",
      "0.715341781228270 \t 0.470429211884599 \t 0.381184144014939 \t 0.244912569343671 \n",
      "\n",
      "2.16 52.5735778612111 %\n",
      "0.717386919773383 \t 0.470190795699866 \t 0.379419402607463 \t 0.247196124073517 \n",
      "\n",
      "2.17 53.0873752929950 %\n",
      "0.719451869731775 \t 0.469961594386743 \t 0.377670926097751 \t 0.249490275345033 \n",
      "\n",
      "2.18 53.6028965985395 %\n",
      "0.721536472102749 \t 0.469741448944531 \t 0.375938490656936 \t 0.251795023158218 \n",
      "\n",
      "2.19 54.1201323324122 %\n",
      "0.723640571083711 \t 0.469530203570637 \t 0.374221876544347 \t 0.254110367513073 \n",
      "\n",
      "2.2 54.6390731590358 %\n",
      "0.725764013993475 \t 0.469327705583877 \t 0.372520868014600 \t 0.256436308409599 \n",
      "\n",
      "2.21 55.1597098518129 %\n",
      "0.727906651197729 \t 0.469133805349936 \t 0.370835253227204 \t 0.258772845847793 \n",
      "\n",
      "2.22 55.6820332922389 %\n",
      "0.730068336036579 \t 0.468948356208921 \t 0.369164824158613 \t 0.261119979827658 \n",
      "\n",
      "2.23 56.2060344690029 %\n",
      "0.732248924754113 \t 0.468771214404920 \t 0.367509376516646 \t 0.263477710349193 \n",
      "\n",
      "2.24 56.7317044770790 %\n",
      "0.734448276429921 \t 0.468602239017524 \t 0.365868709657196 \t 0.265846037412397 \n",
      "\n",
      "2.25 57.2590345168074 %\n",
      "0.736666252912507 \t 0.468441291895235 \t 0.364242626503164 \t 0.268224961017271 \n",
      "\n",
      "2.26 57.7880158929673 %\n",
      "0.738902718754524 \t 0.468288237590708 \t 0.362630933465540 \t 0.270614481163815 \n",
      "\n",
      "2.27 58.3186400138422 %\n",
      "0.741157541149794 \t 0.468142943297765 \t 0.361033440366573 \t 0.273014597852029 \n",
      "\n",
      "2.28 58.8508983902779 %\n",
      "0.743430589872037 \t 0.468005278790124 \t 0.359449960364965 \t 0.275425311081913 \n",
      "\n",
      "2.29 59.3847826347344 %\n",
      "0.745721737215267 \t 0.467875116361801 \t 0.357880309883022 \t 0.277846620853466 \n",
      "\n",
      "2.3 59.9202844603330 %\n",
      "0.748030857935801 \t 0.467752330769112 \t 0.356324308535704 \t 0.280278527166689 \n",
      "\n",
      "2.31 60.4573956798980 %\n",
      "0.750357829195825 \t 0.467636799174243 \t 0.354781779061524 \t 0.282721030021582 \n",
      "\n",
      "2.32 60.9961082049951 %\n",
      "0.752702530508482 \t 0.467528401090336 \t 0.353252547255224 \t 0.285174129418145 \n",
      "\n",
      "2.33 61.5364140449658 %\n",
      "0.755064843684414 \t 0.467427018328036 \t 0.351736441902197 \t 0.287637825356378 \n",
      "\n",
      "2.34 62.0783053059595 %\n",
      "0.757444652779740 \t 0.467332534943459 \t 0.350233294714581 \t 0.290112117836280 \n",
      "\n",
      "2.35 62.6217741899640 %\n",
      "0.759841844045404 \t 0.467244837187551 \t 0.348742940268987 \t 0.292597006857853 \n",
      "\n",
      "2.36 63.1668129938335 %\n",
      "0.762256305877859 \t 0.467163813456764 \t 0.347265215945814 \t 0.295092492421095 \n",
      "\n",
      "2.37 63.7134141083166 %\n",
      "0.764687928771051 \t 0.467089354245044 \t 0.345799961870093 \t 0.297598574526007 \n",
      "\n",
      "2.38 64.2615700170835 %\n",
      "0.767136605269659 \t 0.467021352097070 \t 0.344347020853832 \t 0.300115253172589 \n",
      "\n",
      "2.39 64.8112732957531 %\n",
      "0.769602229923549 \t 0.466959701562709 \t 0.342906238339799 \t 0.302642528360840 \n",
      "\n",
      "2.4 65.3625166109213 %\n",
      "0.772084699243420 \t 0.466904299152658 \t 0.341477462346717 \t 0.305180400090762 \n",
      "\n",
      "2.41 65.9152927191899 %\n",
      "0.774583911657585 \t 0.466855043295232 \t 0.340060543415817 \t 0.307728868362353 \n",
      "\n",
      "2.42 66.4695944661970 %\n",
      "0.777099767469880 \t 0.466811834294266 \t 0.338655334558727 \t 0.310287933175614 \n",
      "\n",
      "2.43 67.0254147856497 %\n",
      "0.779632168818638 \t 0.466774574288093 \t 0.337261691206634 \t 0.312857594530545 \n",
      "\n",
      "2.44 67.5827466983587 %\n",
      "0.782181019636723 \t 0.466743167209577 \t 0.335879471160705 \t 0.315437852427146 \n",
      "\n",
      "2.45 68.1415833112759 %\n",
      "0.784746225612577 \t 0.466717518747161 \t 0.334508534543722 \t 0.318028706865416 \n",
      "\n",
      "2.46 68.7019178165347 %\n",
      "0.787327694152254 \t 0.466697536306897 \t 0.333148743752894 \t 0.320630157845357 \n",
      "\n",
      "2.47 69.2637434904943 %\n",
      "0.789925334342415 \t 0.466683128975448 \t 0.331799963413814 \t 0.323242205366967 \n",
      "\n",
      "2.48 69.8270536927872 %\n",
      "0.792539056914254 \t 0.466674207484008 \t 0.330462060335532 \t 0.325864849430247 \n",
      "\n",
      "2.49 70.3918418653709 %\n",
      "0.795168774208330 \t 0.466670684173134 \t 0.329134903466715 \t 0.328498090035197 \n",
      "\n",
      "2.5 70.9581015315840 %\n",
      "0.797814400140274 \t 0.466672472958457 \t 0.327818363852848 \t 0.331141927181816 \n",
      "\n",
      "2.51 71.5258262952071 %\n",
      "0.800475850167349 \t 0.466679489297243 \t 0.326512314594470 \t 0.333796360870106 \n",
      "\n",
      "2.52 72.0950098395278 %\n",
      "0.803153041255846 \t 0.466691650155781 \t 0.325216630806397 \t 0.336461391100065 \n",
      "\n",
      "2.53 72.6656459264119 %\n",
      "0.805845891849276 \t 0.466708873977582 \t 0.323931189577913 \t 0.339137017871694 \n",
      "\n",
      "2.54 73.2377283953792 %\n",
      "0.808554321837352 \t 0.466731080652359 \t 0.322655869933905 \t 0.341823241184993 \n",
      "\n",
      "2.55 73.8112511626850 %\n",
      "0.811278252525723 \t 0.466758191485762 \t 0.321390552796910 \t 0.344520061039962 \n",
      "\n",
      "2.56 74.3862082204075 %\n",
      "0.814017606606459 \t 0.466790129169859 \t 0.320135120950047 \t 0.347227477436600 \n",
      "\n",
      "2.57 74.9625936355414 %\n",
      "0.816772308129240 \t 0.466826817754331 \t 0.318889459000825 \t 0.349945490374908 \n",
      "\n",
      "2.58 75.5404015490969 %\n",
      "0.819542282473255 \t 0.466868182618369 \t 0.317653453345783 \t 0.352674099854887 \n",
      "\n",
      "2.59 76.1196261752058 %\n",
      "0.822327456319778 \t 0.466914150443243 \t 0.316426992135954 \t 0.355413305876535 \n",
      "\n",
      "2.6 76.7002618002339 %\n",
      "0.825127757625392 \t 0.466964649185539 \t 0.315209965243123 \t 0.358163108439852 \n",
      "\n",
      "2.61 77.2823027818994 %\n",
      "0.827943115595875 \t 0.467019608051034 \t 0.314002264226866 \t 0.360923507544840 \n",
      "\n",
      "2.62 77.8657435483991 %\n",
      "0.830773460660690 \t 0.467078957469193 \t 0.312803782302336 \t 0.363694503191498 \n",
      "\n"
     ]
    },
    {
     "name": "stdout",
     "output_type": "stream",
     "text": [
      "2.63 78.4505785975405 %\n",
      "0.833618724448100 \t 0.467142629068276 \t 0.311614414308791 \t 0.366476095379825 \n",
      "\n",
      "2.64 79.0368024958818 %\n",
      "0.836478839760858 \t 0.467210555651037 \t 0.310434056678833 \t 0.369268284109822 \n",
      "\n",
      "2.65 79.6244098778783 %\n",
      "0.839353740552481 \t 0.467282671170992 \t 0.309262607408347 \t 0.372071069381489 \n",
      "\n",
      "2.66 80.2133954450359 %\n",
      "0.842243361904078 \t 0.467358910709253 \t 0.308099966027113 \t 0.374884451194825 \n",
      "\n",
      "2.67 80.8037539650733 %\n",
      "0.845147640001729 \t 0.467439210451897 \t 0.306946033570082 \t 0.377708429549832 \n",
      "\n",
      "2.68 81.3954802710895 %\n",
      "0.848066512114381 \t 0.467523507667872 \t 0.305800712549298 \t 0.380543004446508 \n",
      "\n",
      "2.69 81.9885692607403 %\n",
      "0.850999916572270 \t 0.467611740687415 \t 0.304663906926439 \t 0.383388175884854 \n",
      "\n",
      "2.7 82.5830158954221 %\n",
      "0.853947792745839 \t 0.467703848880968 \t 0.303535522085970 \t 0.386243943864871 \n",
      "\n",
      "2.71 83.1788151994625 %\n",
      "0.856910081025144 \t 0.467799772638587 \t 0.302415464808900 \t 0.389110308386556 \n",
      "\n",
      "2.72 83.7759622593196 %\n",
      "0.859886722799737 \t 0.467899453349825 \t 0.301303643247103 \t 0.391987269449912 \n",
      "\n",
      "2.73 84.3744522227879 %\n",
      "0.862877660439009 \t 0.468002833384072 \t 0.300199966898212 \t 0.394874827054937 \n",
      "\n",
      "2.74 84.9742802982134 %\n",
      "0.865882837272983 \t 0.468109856071351 \t 0.299104346581066 \t 0.397772981201633 \n",
      "\n",
      "2.75 85.5754417537144 %\n",
      "0.868902197573549 \t 0.468220465683551 \t 0.298016694411680 \t 0.400681731889998 \n",
      "\n",
      "2.76 86.1779319164122 %\n",
      "0.871935686536120 \t 0.468334607416087 \t 0.296936923779754 \t 0.403601079120032 \n",
      "\n",
      "2.77 86.7817461716685 %\n",
      "0.874983250261710 \t 0.468452227369973 \t 0.295864949325675 \t 0.406531022891737 \n",
      "\n",
      "2.78 87.3868799623304 %\n",
      "0.878044835739411 \t 0.468573272534300 \t 0.294800686918029 \t 0.409471563205112 \n",
      "\n",
      "2.79 87.9933287879840 %\n",
      "0.881120390829272 \t 0.468697690769116 \t 0.293744053631584 \t 0.412422700060156 \n",
      "\n",
      "2.8 88.6010882042153 %\n",
      "0.884209864245550 \t 0.468825430788679 \t 0.292694967725757 \t 0.415384433456870 \n",
      "\n",
      "2.81 89.2101538218797 %\n",
      "0.887313205540350 \t 0.468956442145096 \t 0.291653348623530 \t 0.418356763395254 \n",
      "\n",
      "2.82 89.8205213063781 %\n",
      "0.890430365087621 \t 0.469090675212313 \t 0.290619116890823 \t 0.421339689875308 \n",
      "\n",
      "2.83 90.4321863769420 %\n",
      "0.893561294067506 \t 0.469228081170474 \t 0.289592194216297 \t 0.424333212897032 \n",
      "\n",
      "2.84 91.0451448059259 %\n",
      "0.896705944451046 \t 0.469368611990621 \t 0.288572503391592 \t 0.427337332460425 \n",
      "\n",
      "2.85 91.6593924181080 %\n",
      "0.899864268985214 \t 0.469512220419726 \t 0.287559968291972 \t 0.430352048565488 \n",
      "\n",
      "2.86 92.2749250899976 %\n",
      "0.903036221178284 \t 0.469658859966063 \t 0.286554513857385 \t 0.433377361212221 \n",
      "\n",
      "2.87 92.8917387491520 %\n",
      "0.906221755285518 \t 0.469808484884893 \t 0.285556066073909 \t 0.436413270400624 \n",
      "\n",
      "2.88 93.5098293734994 %\n",
      "0.909420826295162 \t 0.469961050164465 \t 0.284564551955597 \t 0.439459776130697 \n",
      "\n",
      "2.89 94.1291929906710 %\n",
      "0.912633389914757 \t 0.470116511512318 \t 0.283579899526685 \t 0.442516878402440 \n",
      "\n",
      "2.9 94.7498256773399 %\n",
      "0.915859402557738 \t 0.470274825341886 \t 0.282602037804179 \t 0.445584577215852 \n",
      "\n",
      "2.91 95.3717235585682 %\n",
      "0.919098821330325 \t 0.470435948759391 \t 0.281630896780797 \t 0.448662872570934 \n",
      "\n",
      "2.92 95.9948828071612 %\n",
      "0.922351604018701 \t 0.470599839551015 \t 0.280666407408260 \t 0.451751764467686 \n",
      "\n",
      "2.93 96.6192996430300 %\n",
      "0.925617709076462 \t 0.470766456170354 \t 0.279708501580928 \t 0.454851252906108 \n",
      "\n",
      "2.94 97.2449703325609 %\n",
      "0.928897095612333 \t 0.470935757726134 \t 0.278757112119769 \t 0.457961337886199 \n",
      "\n",
      "2.95 97.8718911879928 %\n",
      "0.932189723378157 \t 0.471107703970196 \t 0.277812172756651 \t 0.461082019407961 \n",
      "\n",
      "2.96 98.5000585668021 %\n",
      "0.935495552757125 \t 0.471282255285733 \t 0.276873618118959 \t 0.464213297471392 \n",
      "\n",
      "2.97 99.1294688710946 %\n",
      "0.938814544752271 \t 0.471459372675778 \t 0.275941383714518 \t 0.467355172076493 \n",
      "\n",
      "2.98 99.7601185470057 %\n",
      "0.942146660975200 \t 0.471639017751936 \t 0.275015405916819 \t 0.470507643223264 \n",
      "\n",
      "2.99 100.392004084107 %\n",
      "0.945491863635056 \t 0.471821152723351 \t 0.274095621950542 \t 0.473670710911705 \n",
      "\n"
     ]
    }
   ],
   "source": [
    "\n",
    "for i in range(10,300,1):\n",
    "    if expr_piece_3.subs(x,i/100).subs(beta_values)/expr_piece_1.subs(x,i/100).subs(beta_values) > 5/100:\n",
    "        print(i/100,expr_piece_3.subs(x,i/100).subs(beta_values)/expr_piece_1.subs(x,i/100).subs(beta_values)*100,'%')\n",
    "        print(f.subs(x,i/100).subs(beta_values),'\\t',expr_piece_1.subs(x,i/100).subs(beta_values),'\\t',\n",
    "              expr_piece_2.subs(x,i/100).subs(beta_values),'\\t',expr_piece_3.subs(x,i/100).subs(beta_values),'\\n')\n",
    "    else: None\n",
    "\n"
   ]
  },
  {
   "cell_type": "code",
   "execution_count": 92,
   "id": "29bb54e8",
   "metadata": {},
   "outputs": [
    {
     "name": "stdout",
     "output_type": "stream",
     "text": [
      "0.01 97.9534050924922 %\n",
      "80.2773176679268 \t 80.2773123696559 \t 81.9545962614828 \t 5.29827083490906e-6 \n",
      "\n",
      "0.02 96.4631971760384 %\n",
      "39.5280297813553 \t 39.5280085882719 \t 40.9773166746893 \t 2.11930833396362e-5 \n",
      "\n",
      "0.03 95.1829983440740 %\n",
      "26.0023243739463 \t 26.0022766895088 \t 27.3182446721748 \t 4.76844375141815e-5 \n",
      "\n",
      "0.04 94.0391862096444 %\n",
      "19.2674373200243 \t 19.2673525476909 \t 20.4887325131364 \t 8.47723333585450e-5 \n",
      "\n",
      "0.05 92.9967987778099 %\n",
      "15.2431523900038 \t 15.2430199332329 \t 16.3910506494133 \t 0.000132456770872727 \n",
      "\n",
      "0.06 92.0352473722554 %\n",
      "12.5713606336121 \t 12.5711698958621 \t 13.6592892316187 \t 0.000190737750056726 \n",
      "\n",
      "0.07 91.1409309467075 %\n",
      "10.6708333525516 \t 10.6705737372807 \t 11.7080583243012 \t 0.000259615270910544 \n",
      "\n",
      "0.08 90.3041857326674 %\n",
      "9.25135946684482 \t 9.25102037751138 \t 10.2446629597349 \t 0.000339089333434180 \n",
      "\n",
      "0.09 89.5177889901084 %\n",
      "8.15193281961568 \t 8.15150365967805 \t 9.10649482251674 \t 0.000429159937627634 \n",
      "\n",
      "0.1 88.7761371106711 %\n",
      "7.27608236421717 \t 7.27555253713368 \t 8.19598892340469 \t 0.000529827083490906 \n",
      "\n",
      "0.11 88.0747560516789 %\n",
      "6.56250155404176 \t 6.56186046327074 \t 7.45105845106302 \t 0.000641090771023996 \n",
      "\n",
      "0.12 87.4099913318071 %\n",
      "5.97037530014996 \t 5.96961234914974 \t 6.83031219793456 \t 0.000762951000226905 \n",
      "\n",
      "0.13 86.7788020855926 %\n",
      "5.47148566198544 \t 5.47059025421434 \t 6.30509471263356 \t 0.000895407771099631 \n",
      "\n",
      "0.14 86.1786188510551 %\n",
      "5.04570454407117 \t 5.04466608298753 \t 5.85493781559878 \t 0.00103846108364218 \n",
      "\n",
      "0.15 85.6072421837575 %\n",
      "4.67829154440332 \t 4.67709943346546 \t 5.46483150848532 \t 0.00119211093785454 \n",
      "\n",
      "0.16 85.0627684147576 %\n",
      "4.35820649986635 \t 4.35685014253262 \t 5.12351829253449 \t 0.00135635733373672 \n",
      "\n",
      "1.15 85.1078369313747 %\n",
      "0.666154570874503 \t 0.596084939082830 \t 0.782718248863081 \t 0.0700696317916723 \n",
      "\n",
      "1.16 85.3797830879158 %\n",
      "0.664082780478111 \t 0.592789248123575 \t 0.777798626864985 \t 0.0712935323545363 \n",
      "\n",
      "1.17 85.6541743909421 %\n",
      "0.662102158895125 \t 0.589574129436055 \t 0.772994618888233 \t 0.0725280294590701 \n",
      "\n",
      "1.18 85.9309381027826 %\n",
      "0.660210452285865 \t 0.586437329180591 \t 0.768303554996901 \t 0.0737731231052737 \n",
      "\n",
      "1.19 86.2100016662935 %\n",
      "0.658405486022064 \t 0.583376672728916 \t 0.763722855000811 \t 0.0750288132931472 \n",
      "\n",
      "1.2 86.4912927129120 %\n",
      "0.656685161300079 \t 0.580390061277389 \t 0.759250024716124 \t 0.0762951000226905 \n",
      "\n",
      "1.21 86.7747390713591 %\n",
      "0.655047451924911 \t 0.577475468631007 \t 0.754882652411358 \t 0.0775719832939035 \n",
      "\n",
      "1.22 87.0602687769552 %\n",
      "0.653490401255083 \t 0.574630938148297 \t 0.750618405428196 \t 0.0788594631067864 \n",
      "\n",
      "1.23 87.3478100815119 %\n",
      "0.652012119299145 \t 0.571854579837806 \t 0.746455026967128 \t 0.0801575394613392 \n",
      "\n",
      "1.24 87.6372914637654 %\n",
      "0.650610779955116 \t 0.569144567597554 \t 0.742390333028626 \t 0.0814662123575617 \n",
      "\n",
      "1.25 87.9286416403165 %\n",
      "0.649284618384774 \t 0.566499136589320 \t 0.738422209501150 \t 0.0827854817954541 \n",
      "\n",
      "1.26 88.2217895770429 %\n",
      "0.648031928515208 \t 0.563916580740192 \t 0.734548609387810 \t 0.0841153477750162 \n",
      "\n",
      "1.27 88.5166645009493 %\n",
      "0.646851060660527 \t 0.561395250364279 \t 0.730767550164059 \t 0.0854558102962482 \n",
      "\n",
      "1.28 88.8131959124246 %\n",
      "0.645740419257070 \t 0.558933549897920 \t 0.727077111259244 \t 0.0868068693591501 \n",
      "\n",
      "1.29 89.1113135978701 %\n",
      "0.644698460705887 \t 0.556529935742166 \t 0.723475431655287 \t 0.0881685249637217 \n",
      "\n",
      "1.3 89.4109476426695 %\n",
      "0.643723691316640 \t 0.554182914206677 \t 0.719960707596209 \t 0.0895407771099631 \n",
      "\n",
      "1.31 89.7120284444680 %\n",
      "0.642814665347417 \t 0.551891039549543 \t 0.716531190402546 \t 0.0909236257978744 \n",
      "\n",
      "1.32 90.0144867267284 %\n",
      "0.641969983135339 \t 0.549652912107884 \t 0.713185184385122 \t 0.0923170710274555 \n",
      "\n",
      "1.33 90.3182535525363 %\n",
      "0.641188289313086 \t 0.547467176514380 \t 0.709921044852932 \t 0.0937211127987064 \n",
      "\n",
      "1.34 90.6232603386213 %\n",
      "0.640468271106812 \t 0.545332519995185 \t 0.706737176210224 \t 0.0951357511116271 \n",
      "\n",
      "1.35 90.9294388695670 %\n",
      "0.639808656711170 \t 0.543247670744952 \t 0.703632030138158 \t 0.0965609859662176 \n",
      "\n",
      "1.36 91.2367213121802 %\n",
      "0.639208213737420 \t 0.541211396374942 \t 0.700604103856684 \t 0.0979968173624780 \n",
      "\n",
      "1.37 91.5450402299902 %\n",
      "0.638665747730839 \t 0.539222502430430 \t 0.697651938462539 \t 0.0994432453004082 \n",
      "\n",
      "1.38 91.8543285978519 %\n",
      "0.638180100753863 \t 0.537279830973855 \t 0.694774117339515 \t 0.100900269780008 \n",
      "\n",
      "1.39 92.1645198166234 %\n",
      "0.637750150031621 \t 0.535382259230343 \t 0.691969264637336 \t 0.102367890801278 \n",
      "\n",
      "1.4 92.4755477278944 %\n",
      "0.637374806656668 \t 0.533528698292451 \t 0.689236043815732 \t 0.103846108364218 \n",
      "\n",
      "1.41 92.7873466287357 %\n",
      "0.637053014349977 \t 0.531718091881150 \t 0.686573156250472 \t 0.105334922468827 \n",
      "\n",
      "1.42 93.0998512864475 %\n",
      "0.636783748275333 \t 0.529949415160226 \t 0.683979339898289 \t 0.106834333115106 \n",
      "\n",
      "1.43 93.4129969532804 %\n",
      "0.636566013904517 \t 0.528221673601462 \t 0.681453368017825 \t 0.108344340303055 \n",
      "\n",
      "1.44 93.7267193811043 %\n",
      "0.636398845930751 \t 0.526533901898076 \t 0.678994047943869 \t 0.109864944032674 \n",
      "\n",
      "1.45 94.0409548360029 %\n",
      "0.636281307228043 \t 0.524885162924080 \t 0.676600219912322 \t 0.111396144303963 \n",
      "\n",
      "1.46 94.3556401127699 %\n",
      "0.636212487854211 \t 0.523274546737290 \t 0.674270755933442 \t 0.112937941116922 \n",
      "\n",
      "1.47 94.6707125492853 %\n",
      "0.636191504095466 \t 0.521701169623917 \t 0.672004558711087 \t 0.114490334471550 \n",
      "\n",
      "1.48 94.9861100407500 %\n",
      "0.636217497550554 \t 0.520164173182706 \t 0.669800560605767 \t 0.116053324367848 \n",
      "\n",
      "1.49 95.3017710537577 %\n",
      "0.636289634252585 \t 0.518662723446769 \t 0.667657722639454 \t 0.117626910805816 \n",
      "\n",
      "1.5 95.6176346401839 %\n",
      "0.636407103826750 \t 0.517196010041297 \t 0.665575033540200 \t 0.119211093785454 \n",
      "\n",
      "1.51 95.9336404508730 %\n",
      "0.636569118682252 \t 0.515763245375490 \t 0.663551508824722 \t 0.120805873306761 \n",
      "\n",
      "1.52 96.2497287491041 %\n",
      "0.636774913236824 \t 0.514363663867086 \t 0.661586189917186 \t 0.122411249369739 \n",
      "\n",
      "1.53 96.5658404238176 %\n",
      "0.637023743172362 \t 0.512996521197975 \t 0.659678143302569 \t 0.124027221974386 \n",
      "\n",
      "1.54 96.8819170025859 %\n",
      "0.637314884720187 \t 0.511661093599484 \t 0.657826459712989 \t 0.125653791120703 \n",
      "\n",
      "1.55 97.1979006643107 %\n",
      "0.637647633974626 \t 0.510356677165935 \t 0.656030253345542 \t 0.127290956808690 \n",
      "\n",
      "1.56 97.5137342516314 %\n",
      "0.638021306233576 \t 0.509082587195229 \t 0.654288661110219 \t 0.128938719038347 \n",
      "\n",
      "1.57 97.8293612830298 %\n",
      "0.638435235364868 \t 0.507838157555194 \t 0.652600841906565 \t 0.130597077809673 \n",
      "\n",
      "1.58 98.1447259646165 %\n",
      "0.638888773197239 \t 0.506622740074570 \t 0.650965975927809 \t 0.132266033122670 \n",
      "\n",
      "1.59 98.4597732015851 %\n",
      "0.639381288934833 \t 0.505435703957497 \t 0.649383263991248 \t 0.133945584977336 \n",
      "\n",
      "1.6 98.7744486093221 %\n",
      "0.639912168594167 \t 0.504276435220495 \t 0.647851926893747 \t 0.135635733373672 \n",
      "\n",
      "1.61 99.0886985241595 %\n",
      "0.640480814462584 \t 0.503144336150907 \t 0.646371204791255 \t 0.137336478311678 \n",
      "\n",
      "1.62 99.4024700137591 %\n",
      "0.641086644577242 \t 0.502038824785889 \t 0.644940356601304 \t 0.139047819791353 \n",
      "\n",
      "1.63 99.7157108871189 %\n",
      "0.641729092223740 \t 0.500959334411042 \t 0.643558659427496 \t 0.140769757812699 \n",
      "\n",
      "1.64 100.028369704190 %\n",
      "0.642407605453537 \t 0.499905313077823 \t 0.642225408005055 \t 0.142502292375714 \n",
      "\n",
      "1.65 100.340395785095 %\n",
      "0.643121646619344 \t 0.498876223138945 \t 0.640939914166532 \t 0.144245423480399 \n",
      "\n",
      "1.66 100.651739218943 %\n",
      "0.643870691927724 \t 0.497871540800970 \t 0.639701506326826 \t 0.145999151126754 \n",
      "\n",
      "1.67 100.962350872227 %\n",
      "0.644654231008166 \t 0.496890755693387 \t 0.638509528986707 \t 0.147763475314779 \n",
      "\n",
      "1.68 101.272182396808 %\n",
      "0.645471766497931 \t 0.495933370453458 \t 0.637363342254069 \t 0.149538396044473 \n",
      "\n",
      "1.69 101.581186237459 %\n",
      "0.646322813642013 \t 0.494998900326175 \t 0.636262321382181 \t 0.151323913315838 \n",
      "\n",
      "1.7 101.889315638993 %\n",
      "0.647206899907567 \t 0.494086872778696 \t 0.635205856324237 \t 0.153120027128872 \n",
      "\n",
      "1.71 102.196524652941 %\n",
      "0.648123564612223 \t 0.493196827128647 \t 0.634193351303529 \t 0.154926737483576 \n",
      "\n",
      "1.72 102.502768143799 %\n",
      "0.649072358565689 \t 0.492328314185739 \t 0.633224224398624 \t 0.156744044379950 \n",
      "\n",
      "1.73 102.808001794821 %\n",
      "0.650052843724109 \t 0.491480895906116 \t 0.632297907142918 \t 0.158571947817993 \n",
      "\n",
      "1.74 103.112182113377 %\n",
      "0.651064592856653 \t 0.490654145058946 \t 0.631413844138005 \t 0.160410447797707 \n",
      "\n",
      "1.75 103.415266435847 %\n",
      "0.652107189223832 \t 0.489847644904742 \t 0.630571492680301 \t 0.162259544319090 \n",
      "\n",
      "1.76 103.717212932082 %\n",
      "0.653180226267075 \t 0.489060988884932 \t 0.629770322400393 \t 0.164119237382143 \n",
      "\n",
      "1.77 104.017980609399 %\n",
      "0.654283307309103 \t 0.488293780322237 \t 0.629009814914617 \t 0.165989526986866 \n",
      "\n",
      "1.78 104.317529316134 %\n",
      "0.655416045264676 \t 0.487545632131417 \t 0.628289463488382 \t 0.167870413133259 \n",
      "\n",
      "1.79 104.615819744743 %\n",
      "0.656578062361299 \t 0.486816166539978 \t 0.627608772710774 \t 0.169761895821321 \n",
      "\n",
      "1.8 104.912813434451 %\n",
      "0.657768989869486 \t 0.486105014818432 \t 0.626967258180009 \t 0.171663975051054 \n",
      "\n",
      "1.81 105.208472773455 %\n"
     ]
    },
    {
     "name": "stdout",
     "output_type": "stream",
     "text": [
      "0.658988467842210 \t 0.485411817019754 \t 0.626364446199318 \t 0.173576650822456 \n",
      "\n",
      "1.82 105.502761000683 %\n",
      "0.660236144863184 \t 0.484736221727657 \t 0.625799873482846 \t 0.175499923135528 \n",
      "\n",
      "1.83 105.795642207110 %\n",
      "0.661511677803617 \t 0.484077885813348 \t 0.625273086871209 \t 0.177433791990270 \n",
      "\n",
      "1.84 106.087081336632 %\n",
      "0.662814731587124 \t 0.483436474200443 \t 0.624783643056312 \t 0.179378257386681 \n",
      "\n",
      "1.85 106.377044186510 %\n",
      "0.664144978962480 \t 0.482811659637717 \t 0.624331108315098 \t 0.181333319324763 \n",
      "\n",
      "1.86 106.665497407376 %\n",
      "0.665502100283901 \t 0.482203122479387 \t 0.623915058251890 \t 0.183298977804514 \n",
      "\n",
      "1.87 106.952408502822 %\n",
      "0.666885783298586 \t 0.481610550472651 \t 0.623535077548994 \t 0.185275232825935 \n",
      "\n",
      "1.88 107.237745828557 %\n",
      "0.668295722941229 \t 0.481033638552203 \t 0.623190759725260 \t 0.187262084389026 \n",
      "\n",
      "1.89 107.521478591162 %\n",
      "0.669731621135235 \t 0.480472088641448 \t 0.622881706902316 \t 0.189259532493787 \n",
      "\n",
      "1.9 107.803576846420 %\n",
      "0.671193186600407 \t 0.479925609460190 \t 0.622607529578175 \t 0.191267577140217 \n",
      "\n",
      "1.91 108.084011497263 %\n",
      "0.672680134666846 \t 0.479393916338529 \t 0.622367846407961 \t 0.193286218328317 \n",
      "\n",
      "1.92 108.362754291300 %\n",
      "0.674192187094830 \t 0.478876731036743 \t 0.622162283991483 \t 0.195315456058088 \n",
      "\n",
      "1.93 108.639777817979 %\n",
      "0.675729071900469 \t 0.478373781570942 \t 0.621990476667414 \t 0.197355290329528 \n",
      "\n",
      "1.94 108.915055505355 %\n",
      "0.677290523186906 \t 0.477884802044269 \t 0.621852066313833 \t 0.199405721142637 \n",
      "\n",
      "1.95 109.188561616482 %\n",
      "0.678876280980866 \t 0.477409532483449 \t 0.621746702154914 \t 0.201466748497417 \n",
      "\n",
      "1.96 109.460271245456 %\n",
      "0.680486091074364 \t 0.476947718680497 \t 0.621674040573519 \t 0.203538372393866 \n",
      "\n",
      "1.97 109.730160313083 %\n",
      "0.682119704871373 \t 0.476499112039388 \t 0.621633744929509 \t 0.205620592831986 \n",
      "\n",
      "1.98 109.998205562211 %\n",
      "0.683776879239291 \t 0.476063469427516 \t 0.621625485383553 \t 0.207713409811775 \n",
      "\n",
      "1.99 110.264384552717 %\n",
      "0.685457376365008 \t 0.475640553031774 \t 0.621648938726259 \t 0.209816823333234 \n",
      "\n",
      "2.0 110.528675656171 %\n",
      "0.687160963615437 \t 0.475230130219075 \t 0.621703788212422 \t 0.211930833396362 \n",
      "\n",
      "2.01 110.791058050170 %\n",
      "0.688887413402335 \t 0.474831973401174 \t 0.621789723400226 \t 0.214055440001161 \n",
      "\n",
      "2.02 111.051511712368 %\n",
      "0.690636503051255 \t 0.474445859903626 \t 0.621906439995213 \t 0.216190643147629 \n",
      "\n",
      "2.03 111.310017414203 %\n",
      "0.692408014674509 \t 0.474071571838742 \t 0.622053639698881 \t 0.218336442835767 \n",
      "\n",
      "2.04 111.566556714332 %\n",
      "0.694201735047970 \t 0.473708895982395 \t 0.622231030061713 \t 0.220492839065575 \n",
      "\n",
      "2.05 111.821111951780 %\n",
      "0.696017455491603 \t 0.473357623654550 \t 0.622438324340526 \t 0.222659831837053 \n",
      "\n",
      "2.06 112.073666238828 %\n",
      "0.697854971753585 \t 0.473017550603384 \t 0.622675241359968 \t 0.224837421150201 \n",
      "\n",
      "2.07 112.324203453626 %\n",
      "0.699714083897892 \t 0.472688476892874 \t 0.622941505378023 \t 0.227025607005018 \n",
      "\n",
      "2.08 112.572708232566 %\n",
      "0.701594596195231 \t 0.472370206793726 \t 0.623236845955409 \t 0.229224389401506 \n",
      "\n",
      "2.09 112.819165962405 %\n",
      "0.703496317017210 \t 0.472062548677547 \t 0.623560997828715 \t 0.231433768339663 \n",
      "\n",
      "2.1 113.063562772163 %\n",
      "0.705419058733623 \t 0.471765314914134 \t 0.623913700787166 \t 0.233653743819490 \n",
      "\n",
      "2.11 113.305885524795 %\n",
      "0.707362637612763 \t 0.471478321771777 \t 0.624294699552891 \t 0.235884315840986 \n",
      "\n",
      "2.12 113.546121808658 %\n",
      "0.709326873724637 \t 0.471201389320484 \t 0.624703743664587 \t 0.238125484404153 \n",
      "\n",
      "2.13 113.784259928772 %\n",
      "0.711311590847009 \t 0.470934341338019 \t 0.625140587364444 \t 0.240377249508989 \n",
      "\n",
      "2.14 114.020288897894 %\n",
      "0.713316616374157 \t 0.470677005218662 \t 0.625604989488262 \t 0.242639611155495 \n",
      "\n",
      "2.15 114.254198427415 %\n",
      "0.715341781228270 \t 0.470429211884599 \t 0.626096713358611 \t 0.244912569343671 \n",
      "\n",
      "2.16 114.485978918077 %\n",
      "0.717386919773383 \t 0.470190795699866 \t 0.626615526680980 \t 0.247196124073517 \n",
      "\n",
      "2.17 114.715621450542 %\n",
      "0.719451869731775 \t 0.469961594386743 \t 0.627161201442784 \t 0.249490275345033 \n",
      "\n",
      "2.18 114.943117775805 %\n",
      "0.721536472102749 \t 0.469741448944531 \t 0.627733513815154 \t 0.251795023158218 \n",
      "\n"
     ]
    }
   ],
   "source": [
    "\n",
    "for i in range(1,300,1):\n",
    "    if 115/100 > f.subs(x,i/100).subs(beta_values)/expr_piece_2.subs(x,i/100).subs(beta_values) > 85/100:\n",
    "        print(i/100,f.subs(x,i/100).subs(beta_values)/expr_piece_2.subs(x,i/100).subs(beta_values)*100,'%')\n",
    "        print(f.subs(x,i/100).subs(beta_values),'\\t',expr_piece_1.subs(x,i/100).subs(beta_values),'\\t',\n",
    "              expr_piece_2.subs(x,i/100).subs(beta_values),'\\t',expr_piece_3.subs(x,i/100).subs(beta_values),'\\n')\n",
    "    else: None\n",
    "\n"
   ]
  },
  {
   "cell_type": "markdown",
   "id": "ec4d12c5",
   "metadata": {},
   "source": [
    "### Plotting of the inverse:"
   ]
  },
  {
   "cell_type": "code",
   "execution_count": 8,
   "id": "c8ae0c13",
   "metadata": {},
   "outputs": [],
   "source": [
    "# Numerical values for Beta0, Beta1, etc.\n",
    "beta_values = {\n",
    "    Beta0: beta0(3,5),  # Example value for Beta0\n",
    "    Beta1: beta1(3,5),  # Example value for Beta1\n",
    "    Beta2: beta2(3,5),\n",
    "    Beta3: beta3(3,5)\n",
    "    # Add other beta values as needed\n",
    "}\n"
   ]
  },
  {
   "cell_type": "code",
   "execution_count": 12,
   "id": "312e67fd",
   "metadata": {},
   "outputs": [
    {
     "data": {
      "image/png": "[encoded data removed]",
      "text/plain": [
       "<Figure size 432x288 with 1 Axes>"
      ]
     },
     "metadata": {
      "needs_background": "light"
     },
     "output_type": "display_data"
    }
   ],
   "source": [
    "import matplotlib.pyplot as plt\n",
    "import numpy as np\n",
    "\n",
    "# Define the range for your y values\n",
    "start = 0.01  # Adjust as needed\n",
    "end = 0.4    # Adjust as needed\n",
    "num_points = 4000\n",
    "\n",
    "# Prepare the y values for plotting\n",
    "y_values = np.linspace(start, end, num_points)\n",
    "\n",
    "# Evaluate the piecewise function at each y value with numerical substitution\n",
    "inverse_values = []\n",
    "for value in y_values:\n",
    "    try:\n",
    "        # Substitute beta values and evaluate the function\n",
    "        evaluated_value = combined_inverse.subs(y, value).subs(beta_values).evalf()\n",
    "        if evaluated_value.is_real:\n",
    "            inverse_values.append(float(evaluated_value))\n",
    "        else:\n",
    "            inverse_values.append(np.nan)  # Handle complex or undefined values\n",
    "    except Exception as e:\n",
    "        inverse_values.append(np.nan)  # Append NaN for values where evaluation fails\n",
    "\n",
    "# Plot the function\n",
    "plt.plot(y_values, inverse_values, label='Inverse Function')\n",
    "plt.xlabel('log(mu L)')\n",
    "plt.ylabel('alpha')\n",
    "plt.title('Plot of the Combined Piecewise Inverse Function')\n",
    "plt.legend()\n",
    "plt.grid(True)\n",
    "plt.show()\n"
   ]
  },
  {
   "cell_type": "code",
   "execution_count": null,
   "id": "094b852a",
   "metadata": {},
   "outputs": [],
   "source": []
  },
  {
   "cell_type": "code",
   "execution_count": null,
   "id": "3cc9bc7d",
   "metadata": {},
   "outputs": [],
   "source": []
  },
  {
   "cell_type": "code",
   "execution_count": 8,
   "id": "cea04eac",
   "metadata": {},
   "outputs": [
    {
     "name": "stdout",
     "output_type": "stream",
     "text": [
      "0.6100939485189322 \n",
      " 0.24485952713564968 \n",
      " 0.09116471061282587 \n",
      " 0.19353607511601503\n"
     ]
    }
   ],
   "source": [
    "print(beta0(3,5),'\\n',beta1(3,5),'\\n',beta2(3,5),'\\n',beta3(3,5))"
   ]
  },
  {
   "cell_type": "code",
   "execution_count": 14,
   "id": "ddd227a5",
   "metadata": {},
   "outputs": [
    {
     "name": "stderr",
     "output_type": "stream",
     "text": [
      "/tmp/ipykernel_4641/2765555034.py:7: RuntimeWarning: invalid value encountered in log\n",
      "  return (1/(2 * Beta0 * x)) + (1/(2 * Beta0)) * (Beta1/Beta0) * np.log(Beta0 * x) + \\\n"
     ]
    },
    {
     "data": {
      "image/png": "[encoded data removed]",
      "text/plain": [
       "<Figure size 720x432 with 1 Axes>"
      ]
     },
     "metadata": {
      "needs_background": "light"
     },
     "output_type": "display_data"
    }
   ],
   "source": [
    "from scipy.optimize import fsolve\n",
    "import numpy as np\n",
    "import matplotlib.pyplot as plt\n",
    "\n",
    "# Function definition\n",
    "def f(x, Beta0, Beta1, Beta2, Beta3):\n",
    "    return (1/(2 * Beta0 * x)) + (1/(2 * Beta0)) * (Beta1/Beta0) * np.log(Beta0 * x) + \\\n",
    "           (x/(2 * Beta0)) * (Beta2/Beta0 - (Beta1/Beta0)**2) + \\\n",
    "           (x**2) / (4 * Beta0) * (Beta3/Beta0 - (Beta1/Beta0)**3 - \\\n",
    "                                   2 * ((Beta1 * Beta2)/(Beta0**2) - (Beta1/Beta0)**3))\n",
    "\n",
    "# Beta values\n",
    "Beta0 = 0.6100939485189322\n",
    "Beta1 = 0.24485952713564968\n",
    "Beta2 = 0.09116471061282587\n",
    "Beta3 = 0.19353607511601503\n",
    "\n",
    "# Inverse function approximation\n",
    "def inverse_f(y, Beta0, Beta1, Beta2, Beta3):\n",
    "    # Given y, find x such that f(x) = y\n",
    "    func = lambda x: f(x, Beta0, Beta1, Beta2, Beta3) - y\n",
    "    x_initial_guess = 1.0\n",
    "    x_solution, = fsolve(func, x_initial_guess)\n",
    "    return x_solution\n",
    "\n",
    "# Range of y values\n",
    "y_values = np.linspace(0.01, 100, 400)\n",
    "x_values = [inverse_f(y, Beta0, Beta1, Beta2, Beta3) for y in y_values]\n",
    "\n",
    "# Plotting the inverse function\n",
    "plt.figure(figsize=(10, 6))\n",
    "plt.plot(y_values, x_values, label=\"Inverse Function\")\n",
    "plt.xlabel(\"y\")\n",
    "plt.ylabel(\"x\")\n",
    "plt.title(\"Inverse of the Given Function\")\n",
    "plt.legend()\n",
    "plt.grid(True)\n",
    "plt.show()\n"
   ]
  },
  {
   "cell_type": "code",
   "execution_count": 15,
   "id": "fcecd16a",
   "metadata": {},
   "outputs": [
    {
     "name": "stderr",
     "output_type": "stream",
     "text": [
      "/tmp/ipykernel_4641/2765555034.py:7: RuntimeWarning: invalid value encountered in log\n",
      "  return (1/(2 * Beta0 * x)) + (1/(2 * Beta0)) * (Beta1/Beta0) * np.log(Beta0 * x) + \\\n"
     ]
    },
    {
     "data": {
      "image/png": "[encoded data removed]",
      "text/plain": [
       "<Figure size 720x432 with 1 Axes>"
      ]
     },
     "metadata": {
      "needs_background": "light"
     },
     "output_type": "display_data"
    }
   ],
   "source": [
    "# Improved method for the inverse function using adaptive guessing\n",
    "def improved_inverse_f(y_values, Beta0, Beta1, Beta2, Beta3):\n",
    "    x_values = []\n",
    "    x_initial_guess = 1.0  # Starting guess for the first y value\n",
    "\n",
    "    for y in y_values:\n",
    "        func = lambda x: f(x, Beta0, Beta1, Beta2, Beta3) - y\n",
    "        x_solution, = fsolve(func, x_initial_guess)\n",
    "\n",
    "        # Update the guess for the next iteration\n",
    "        x_initial_guess = x_solution\n",
    "\n",
    "        x_values.append(x_solution)\n",
    "\n",
    "    return x_values\n",
    "\n",
    "# Calculating the inverse function values with the improved method\n",
    "improved_x_values = improved_inverse_f(y_values, Beta0, Beta1, Beta2, Beta3)\n",
    "\n",
    "# Plotting the improved inverse function\n",
    "plt.figure(figsize=(10, 6))\n",
    "plt.plot(y_values, improved_x_values, label=\"Improved Inverse Function\")\n",
    "plt.xlabel(\"y\")\n",
    "plt.ylabel(\"x\")\n",
    "plt.title(\"Improved Inverse of the Given Function\")\n",
    "plt.legend()\n",
    "plt.grid(True)\n",
    "plt.show()\n"
   ]
  },
  {
   "cell_type": "code",
   "execution_count": 19,
   "id": "0907322b",
   "metadata": {},
   "outputs": [
    {
     "name": "stderr",
     "output_type": "stream",
     "text": [
      "/tmp/ipykernel_4641/927585411.py:8: RuntimeWarning: invalid value encountered in log\n",
      "  (Beta1 / Beta0) * np.log(Beta0 * x) / (2 * Beta0) + \\\n"
     ]
    },
    {
     "data": {
      "image/png": "[encoded data removed]",
      "text/plain": [
       "<Figure size 720x432 with 1 Axes>"
      ]
     },
     "metadata": {
      "needs_background": "light"
     },
     "output_type": "display_data"
    }
   ],
   "source": [
    "# Dynamic approach for choosing initial guesses based on the value of y\n",
    "def dynamic_inverse_f(y_values, Beta0, Beta1, Beta2, Beta3):\n",
    "    x_values = []\n",
    "\n",
    "    for y in y_values:\n",
    "        # Adjusting the initial guess based on the magnitude of y\n",
    "        x_initial_guess = y / 10  # Example of a dynamic initial guess\n",
    "\n",
    "        func = lambda x: f(x, Beta0, Beta1, Beta2, Beta3) - y\n",
    "        x_solution, = fsolve(func, x_initial_guess)\n",
    "\n",
    "        x_values.append(x_solution)\n",
    "\n",
    "    return x_values\n",
    "\n",
    "# Calculating the inverse function values with the dynamic approach\n",
    "dynamic_x_values = dynamic_inverse_f(y_values, Beta0, Beta1, Beta2, Beta3)\n",
    "\n",
    "# Plotting the dynamic inverse function\n",
    "plt.figure(figsize=(10, 6))\n",
    "plt.plot(y_values, dynamic_x_values, label=\"Dynamic Inverse Function\")\n",
    "plt.xlabel(\"y\")\n",
    "plt.ylabel(\"x\")\n",
    "plt.title(\"Dynamic Inverse of the Given Function\")\n",
    "plt.legend()\n",
    "plt.grid(True)\n",
    "plt.show()\n"
   ]
  },
  {
   "cell_type": "code",
   "execution_count": 20,
   "id": "6bf8ba0f",
   "metadata": {},
   "outputs": [
    {
     "name": "stderr",
     "output_type": "stream",
     "text": [
      "/tmp/ipykernel_4641/927585411.py:8: RuntimeWarning: invalid value encountered in log\n",
      "  (Beta1 / Beta0) * np.log(Beta0 * x) / (2 * Beta0) + \\\n",
      "/home/gofer/.local/lib/python3.10/site-packages/scipy/optimize/_minpack_py.py:175: RuntimeWarning: The iteration is not making good progress, as measured by the \n",
      "  improvement from the last five Jacobian evaluations.\n",
      "  warnings.warn(msg, RuntimeWarning)\n"
     ]
    },
    {
     "data": {
      "image/png": "[encoded data removed]",
      "text/plain": [
       "<Figure size 720x432 with 1 Axes>"
      ]
     },
     "metadata": {
      "needs_background": "light"
     },
     "output_type": "display_data"
    }
   ],
   "source": [
    "# Recalculating the inverse function with QCD context in mind\n",
    "# We'll use a logarithmic scale for y values, representing log(mu/Lambda)\n",
    "\n",
    "# Adjusting the range of y values to reflect physically meaningful values in QCD context\n",
    "# Assuming Lambda is a fixed scale, we vary mu\n",
    "Lambda = 1  # Arbitrary choice for Lambda, can be adjusted as needed\n",
    "mu_values = np.geomspace(0.1, 1000, 400)  # Geometric progression for mu\n",
    "log_mu_over_Lambda = np.log(mu_values / Lambda)\n",
    "\n",
    "# Recalculating the inverse function (running coupling alpha_s)\n",
    "alpha_s_values = dynamic_inverse_f(log_mu_over_Lambda, Beta0, Beta1, Beta2, Beta3)\n",
    "\n",
    "# Plotting the running coupling as a function of log(mu/Lambda)\n",
    "plt.figure(figsize=(10, 6))\n",
    "plt.plot(log_mu_over_Lambda, alpha_s_values, label=\"Running Coupling $\\\\alpha_s$\")\n",
    "plt.xlabel(\"log($\\\\mu/\\\\Lambda$)\")\n",
    "plt.ylabel(\"$\\\\alpha_s$\")\n",
    "plt.title(\"Running Coupling $\\\\alpha_s$ as a Function of log($\\\\mu/\\\\Lambda$)\")\n",
    "plt.legend()\n",
    "plt.grid(True)\n",
    "plt.show()\n"
   ]
  },
  {
   "cell_type": "code",
   "execution_count": 38,
   "id": "59620e32",
   "metadata": {},
   "outputs": [
    {
     "name": "stderr",
     "output_type": "stream",
     "text": [
      "/tmp/ipykernel_4641/1695794164.py:3: RuntimeWarning: invalid value encountered in log\n",
      "  return (1/(2 * Beta0 * x)) + (1/(2 * Beta0)) * (Beta1/Beta0) * np.log(Beta0 * x) + \\\n"
     ]
    },
    {
     "data": {
      "image/png": "[encoded data removed]",
      "text/plain": [
       "<Figure size 720x432 with 1 Axes>"
      ]
     },
     "metadata": {
      "needs_background": "light"
     },
     "output_type": "display_data"
    }
   ],
   "source": [
    "# Redefining the function f with the provided Beta values\n",
    "def f(x, Beta0, Beta1, Beta2, Beta3):\n",
    "    return (1/(2 * Beta0 * x)) + (1/(2 * Beta0)) * (Beta1/Beta0) * np.log(Beta0 * x) + \\\n",
    "           (x/(2 * Beta0)) * (Beta2/Beta0 - (Beta1/Beta0)**2) + \\\n",
    "           (x**2) / (4 * Beta0) * (Beta3/Beta0 - (Beta1/Beta0)**3 - 2 * ((Beta1 * Beta2)/(Beta0**2) - (Beta1/Beta0)**3))\n",
    "\n",
    "# Redoing the inverse calculation\n",
    "# Selecting a range of log(mu/Lambda) values\n",
    "log_mu_over_Lambda = np.linspace(0.1, 10, 400)  # Adjust the range as needed\n",
    "\n",
    "# Calculating the inverse function (alpha_s)\n",
    "alpha_s_values_1 = dynamic_inverse_f(log_mu_over_Lambda, Beta0, Beta1, Beta2, Beta3)\n",
    "\n",
    "# Plotting the running coupling as a function of log(mu/Lambda)\n",
    "plt.figure(figsize=(10, 6))\n",
    "plt.plot(log_mu_over_Lambda, alpha_s_values_1, label=\"Running Coupling $\\\\alpha_s$\")\n",
    "plt.xlabel(\"log($\\\\mu/\\\\Lambda$)\")\n",
    "plt.ylabel(\"$\\\\alpha_s$\")\n",
    "plt.title(\"Running Coupling $\\\\alpha_s$ as a Function of log($\\\\mu/\\\\Lambda$)\")\n",
    "plt.legend()\n",
    "plt.grid(True)\n",
    "plt.show()\n"
   ]
  },
  {
   "cell_type": "code",
   "execution_count": 37,
   "id": "2f403b53",
   "metadata": {},
   "outputs": [
    {
     "name": "stderr",
     "output_type": "stream",
     "text": [
      "/tmp/ipykernel_4641/116587233.py:3: RuntimeWarning: invalid value encountered in log\n",
      "  return (1/(2 * Beta0 * x)) + (1/(2 * Beta0)) * (Beta1/Beta0) * np.log(Beta0 * x) + \\\n"
     ]
    },
    {
     "data": {
      "image/png": "[encoded data removed]",
      "text/plain": [
       "<Figure size 720x432 with 1 Axes>"
      ]
     },
     "metadata": {
      "needs_background": "light"
     },
     "output_type": "display_data"
    }
   ],
   "source": [
    "# Using a fixed initial guess for the inverse function calculation\n",
    "def fixed_guess_inverse_f(y_values, Beta0, Beta1, Beta2, Beta3, initial_guess):\n",
    "    x_values = []\n",
    "\n",
    "    for y in y_values:\n",
    "        func = lambda x: f(x, Beta0, Beta1, Beta2, Beta3) - y\n",
    "        x_solution, = fsolve(func, initial_guess)\n",
    "        x_values.append(x_solution)\n",
    "\n",
    "    return x_values\n",
    "\n",
    "# Fixed initial guess\n",
    "initial_guess = 1.0\n",
    "\n",
    "# Calculating the inverse function (alpha_s) with a fixed initial guess\n",
    "alpha_s_values_fixed_guess = fixed_guess_inverse_f(log_mu_over_Lambda, Beta0, Beta1, Beta2, Beta3, initial_guess)\n",
    "\n",
    "# Plotting the running coupling as a function of log(mu/Lambda)\n",
    "plt.figure(figsize=(10, 6))\n",
    "plt.plot(log_mu_over_Lambda, alpha_s_values_fixed_guess, label=\"Running Coupling $\\\\alpha_s$ with Fixed Guess\")\n",
    "plt.xlabel(\"log($\\\\mu/\\\\Lambda$)\")\n",
    "plt.ylabel(\"$\\\\alpha_s$\")\n",
    "plt.title(\"Running Coupling $\\\\alpha_s$ as a Function of log($\\\\mu/\\\\Lambda$) with Fixed Initial Guess\")\n",
    "plt.legend()\n",
    "plt.grid(True)\n",
    "plt.show()\n"
   ]
  },
  {
   "cell_type": "code",
   "execution_count": null,
   "id": "1b4c88f0",
   "metadata": {},
   "outputs": [],
   "source": []
  },
  {
   "cell_type": "code",
   "execution_count": 6,
   "id": "03bf9fea",
   "metadata": {},
   "outputs": [],
   "source": [
    "# Beta values\n",
    "Beta0 = 0.6100939485189322\n",
    "Beta1 = 0.24485952713564968\n",
    "Beta2 = 0.09116471061282587\n",
    "Beta3 = 0.19353607511601503"
   ]
  },
  {
   "cell_type": "code",
   "execution_count": 7,
   "id": "59f262c8",
   "metadata": {},
   "outputs": [],
   "source": [
    "from scipy.optimize import fsolve\n",
    "import numpy as np\n",
    "import matplotlib.pyplot as plt\n",
    "\n",
    "# Dynamic approach for choosing initial guesses based on the value of y\n",
    "def dynamic_inverse_f(y_values, Beta0, Beta1, Beta2, Beta3):\n",
    "    x_values = []\n",
    "\n",
    "    for y in y_values:\n",
    "        # Adjusting the initial guess based on the magnitude of y\n",
    "        x_initial_guess = y / 10  # Example of a dynamic initial guess\n",
    "\n",
    "        func = lambda x: f(x, Beta0, Beta1, Beta2, Beta3) - y\n",
    "        x_solution, = fsolve(func, x_initial_guess)\n",
    "\n",
    "        x_values.append(x_solution)\n",
    "\n",
    "    return x_values"
   ]
  },
  {
   "cell_type": "code",
   "execution_count": 8,
   "id": "9ac8168c",
   "metadata": {},
   "outputs": [
    {
     "name": "stderr",
     "output_type": "stream",
     "text": [
      "/home/gofer/.local/lib/python3.10/site-packages/scipy/optimize/_minpack_py.py:175: RuntimeWarning: The iteration is not making good progress, as measured by the \n",
      "  improvement from the last ten iterations.\n",
      "  warnings.warn(msg, RuntimeWarning)\n",
      "/home/gofer/.local/lib/python3.10/site-packages/scipy/optimize/_minpack_py.py:175: RuntimeWarning: The iteration is not making good progress, as measured by the \n",
      "  improvement from the last five Jacobian evaluations.\n",
      "  warnings.warn(msg, RuntimeWarning)\n",
      "/tmp/ipykernel_6950/1695794164.py:3: RuntimeWarning: invalid value encountered in log\n",
      "  return (1/(2 * Beta0 * x)) + (1/(2 * Beta0)) * (Beta1/Beta0) * np.log(Beta0 * x) + \\\n"
     ]
    },
    {
     "data": {
      "image/png": "[encoded data removed]",
      "text/plain": [
       "<Figure size 720x432 with 1 Axes>"
      ]
     },
     "metadata": {
      "needs_background": "light"
     },
     "output_type": "display_data"
    }
   ],
   "source": [
    "# Redefining the function f with the provided Beta values\n",
    "def f(x, Beta0, Beta1, Beta2, Beta3):\n",
    "    return (1/(2 * Beta0 * x)) + (1/(2 * Beta0)) * (Beta1/Beta0) * np.log(Beta0 * x) + \\\n",
    "           (x/(2 * Beta0)) * (Beta2/Beta0 - (Beta1/Beta0)**2) + \\\n",
    "           (x**2) / (4 * Beta0) * (Beta3/Beta0 - (Beta1/Beta0)**3 - 2 * ((Beta1 * Beta2)/(Beta0**2) - (Beta1/Beta0)**3))\n",
    "\n",
    "# Redoing the inverse calculation\n",
    "# Selecting a range of log(mu/Lambda) values\n",
    "log_mu_over_Lambda = np.linspace(0.1, 10, 400)  # Adjust the range as needed\n",
    "\n",
    "# Calculating the inverse function (alpha_s)\n",
    "alpha_s_values_1 = dynamic_inverse_f(log_mu_over_Lambda, Beta0, Beta1, Beta2, Beta3)\n",
    "\n",
    "# Plotting the running coupling as a function of log(mu/Lambda)\n",
    "plt.figure(figsize=(10, 6))\n",
    "plt.plot(log_mu_over_Lambda, alpha_s_values_1, label=\"Running Coupling $\\\\alpha_s$\")\n",
    "plt.xlabel(\"log($\\\\mu/\\\\Lambda$)\")\n",
    "plt.ylabel(\"$\\\\alpha_s$\")\n",
    "plt.title(\"Running Coupling $\\\\alpha_s$ as a Function of log($\\\\mu/\\\\Lambda$)\")\n",
    "plt.legend()\n",
    "plt.grid(True)\n",
    "plt.show()\n"
   ]
  },
  {
   "cell_type": "code",
   "execution_count": null,
   "id": "d2fe3b25",
   "metadata": {},
   "outputs": [],
   "source": []
  },
  {
   "cell_type": "code",
   "execution_count": null,
   "id": "1a807c81",
   "metadata": {},
   "outputs": [],
   "source": []
  },
  {
   "cell_type": "code",
   "execution_count": null,
   "id": "39184fbb",
   "metadata": {},
   "outputs": [],
   "source": []
  },
  {
   "cell_type": "code",
   "execution_count": 9,
   "id": "ca95547d",
   "metadata": {},
   "outputs": [
    {
     "name": "stderr",
     "output_type": "stream",
     "text": [
      "/tmp/ipykernel_6950/1360188330.py:4: RuntimeWarning: invalid value encountered in log\n",
      "  (Beta1 / Beta0) * np.log(Beta0 * x) / (2 * Beta0) + \\\n"
     ]
    },
    {
     "data": {
      "image/png": "[encoded data removed]",
      "text/plain": [
       "<Figure size 720x432 with 1 Axes>"
      ]
     },
     "metadata": {
      "needs_background": "light"
     },
     "output_type": "display_data"
    }
   ],
   "source": [
    "# Redefining the function f with the provided Beta values\n",
    "def f(x, Beta0, Beta1, Beta2, Beta3):\n",
    "    return 1 / (2 * Beta0 * x) + \\\n",
    "    (Beta1 / Beta0) * np.log(Beta0 * x) / (2 * Beta0) + \\\n",
    "    (Beta1 / Beta0) / (2 * Beta0) * (Beta1 * x / Beta0)**2\n",
    "\n",
    "# Redoing the inverse calculation\n",
    "# Selecting a range of log(mu/Lambda) values\n",
    "log_mu_over_Lambda = np.linspace(0.1, 10, 400)  # Adjust the range as needed\n",
    "\n",
    "# Calculating the inverse function (alpha_s)\n",
    "alpha_s_values_3 = dynamic_inverse_f(log_mu_over_Lambda, Beta0, Beta1, Beta2, Beta3)\n",
    "\n",
    "# Plotting the running coupling as a function of log(mu/Lambda)\n",
    "plt.figure(figsize=(10, 6))\n",
    "plt.plot(log_mu_over_Lambda, alpha_s_values_3, label=\"Running Coupling $\\\\alpha_s$\")\n",
    "plt.xlabel(\"log($\\\\mu/\\\\Lambda$)\")\n",
    "plt.ylabel(\"$\\\\alpha_s$\")\n",
    "plt.title(\"Running Coupling $\\\\alpha_s$ as a Function of log($\\\\mu/\\\\Lambda$)\")\n",
    "plt.legend()\n",
    "plt.grid(True)\n",
    "plt.show()\n"
   ]
  },
  {
   "cell_type": "code",
   "execution_count": null,
   "id": "8578cefc",
   "metadata": {},
   "outputs": [],
   "source": []
  },
  {
   "cell_type": "code",
   "execution_count": null,
   "id": "9048e6c0",
   "metadata": {},
   "outputs": [],
   "source": []
  },
  {
   "cell_type": "code",
   "execution_count": null,
   "id": "907011b8",
   "metadata": {},
   "outputs": [],
   "source": []
  },
  {
   "cell_type": "code",
   "execution_count": 10,
   "id": "c4f4dd24",
   "metadata": {},
   "outputs": [
    {
     "name": "stderr",
     "output_type": "stream",
     "text": [
      "/tmp/ipykernel_6950/1383270634.py:3: RuntimeWarning: invalid value encountered in log\n",
      "  return 1 / (2 * Beta0 * x) + (Beta1 / Beta0) * np.log(Beta0 * x) / (2 * Beta0)\n"
     ]
    },
    {
     "data": {
      "image/png": "[encoded data removed]",
      "text/plain": [
       "<Figure size 720x432 with 1 Axes>"
      ]
     },
     "metadata": {
      "needs_background": "light"
     },
     "output_type": "display_data"
    }
   ],
   "source": [
    "# Redefining the function f with the provided Beta values\n",
    "def f(x, Beta0, Beta1, Beta2, Beta3):\n",
    "    return 1 / (2 * Beta0 * x) + (Beta1 / Beta0) * np.log(Beta0 * x) / (2 * Beta0)\n",
    "    \n",
    "# Redoing the inverse calculation\n",
    "# Selecting a range of log(mu/Lambda) values\n",
    "log_mu_over_Lambda = np.linspace(0.1, 10, 400)  # Adjust the range as needed\n",
    "\n",
    "# Calculating the inverse function (alpha_s)\n",
    "alpha_s_values_2 = dynamic_inverse_f(log_mu_over_Lambda, Beta0, Beta1, Beta2, Beta3)\n",
    "\n",
    "# Plotting the running coupling as a function of log(mu/Lambda)\n",
    "plt.figure(figsize=(10, 6))\n",
    "plt.plot(log_mu_over_Lambda, alpha_s_values_2, label=\"Running Coupling $\\\\alpha_s$\")\n",
    "plt.xlabel(\"log($\\\\mu/\\\\Lambda$)\")\n",
    "plt.ylabel(\"$\\\\alpha_s$\")\n",
    "plt.title(\"Running Coupling $\\\\alpha_s$ as a Function of log($\\\\mu/\\\\Lambda$)\")\n",
    "plt.legend()\n",
    "plt.grid(True)\n",
    "plt.show()\n"
   ]
  },
  {
   "cell_type": "code",
   "execution_count": 11,
   "id": "0f0e3e48",
   "metadata": {},
   "outputs": [
    {
     "data": {
      "image/png": "[encoded data removed]",
      "text/plain": [
       "<Figure size 720x432 with 1 Axes>"
      ]
     },
     "metadata": {
      "needs_background": "light"
     },
     "output_type": "display_data"
    }
   ],
   "source": [
    "plt.figure(figsize=(10, 6))\n",
    "plt.plot(log_mu_over_Lambda, alpha_s_values_1, label=\"Running Coupling $\\\\alpha_s$\")\n",
    "plt.plot(log_mu_over_Lambda, alpha_s_values_2, label=\"Running Coupling $\\\\alpha_s$\")\n",
    "plt.plot(log_mu_over_Lambda, alpha_s_values_3, label=\"Running Coupling $\\\\alpha_s$\")\n",
    "plt.xlabel(\"log($\\\\mu/\\\\Lambda$)\")\n",
    "plt.ylabel(\"$\\\\alpha_s$\")\n",
    "plt.title(\"Running Coupling $\\\\alpha_s$ as a Function of log($\\\\mu/\\\\Lambda$)\")\n",
    "plt.legend()\n",
    "plt.grid(True)\n",
    "plt.show()"
   ]
  },
  {
   "cell_type": "code",
   "execution_count": 14,
   "id": "37aa184d",
   "metadata": {},
   "outputs": [
    {
     "name": "stdout",
     "output_type": "stream",
     "text": [
      " 33.11545195869231 \n",
      " 22026.465794806718\n"
     ]
    }
   ],
   "source": [
    "print('',np.exp(3.5),'\\n',np.exp(10))"
   ]
  },
  {
   "cell_type": "code",
   "execution_count": 13,
   "id": "929888bb",
   "metadata": {},
   "outputs": [
    {
     "data": {
      "image/png": "[encoded data removed]",
      "text/plain": [
       "<Figure size 720x432 with 1 Axes>"
      ]
     },
     "metadata": {
      "needs_background": "light"
     },
     "output_type": "display_data"
    }
   ],
   "source": [
    "# Converting log(mu/Lambda) values back to mu/Lambda\n",
    "mu_over_Lambda_values = np.exp(log_mu_over_Lambda)\n",
    "\n",
    "plt.figure(figsize=(10, 6))\n",
    "plt.plot(mu_over_Lambda_values, alpha_s_values_1, label=\"Running Coupling $\\\\alpha_s$\")\n",
    "plt.plot(mu_over_Lambda_values, alpha_s_values_2, label=\"Running Coupling $\\\\alpha_s$\")\n",
    "plt.plot(mu_over_Lambda_values, alpha_s_values_3, label=\"Running Coupling $\\\\alpha_s$\")\n",
    "plt.xscale('log')  # Setting the x-axis to a logarithmic scale for better visualization\n",
    "plt.xlabel(\"$\\\\mu/\\\\Lambda$\")\n",
    "plt.ylabel(\"$\\\\alpha_s$\")\n",
    "plt.title(\"Running Coupling $\\\\alpha_s$ as a Function of log($\\\\mu/\\\\Lambda$)\")\n",
    "plt.legend()\n",
    "plt.grid(True)\n",
    "plt.show()"
   ]
  },
  {
   "cell_type": "code",
   "execution_count": 35,
   "id": "637af199",
   "metadata": {},
   "outputs": [
    {
     "data": {
      "image/png": "[encoded data removed]",
      "text/plain": [
       "<Figure size 720x432 with 1 Axes>"
      ]
     },
     "metadata": {
      "needs_background": "light"
     },
     "output_type": "display_data"
    }
   ],
   "source": [
    "# Converting log(mu/Lambda) values back to mu/Lambda\n",
    "log_mu_over_Lambda = np.linspace(np.log(0.01),np.log(100), 400)  # Adjust the range as needed\n",
    "mu_over_Lambda_values = np.exp(log_mu_over_Lambda)\n",
    "\n",
    "\n",
    "plt.figure(figsize=(10, 6))\n",
    "plt.plot(mu_over_Lambda_values, alpha_s_values_1, label=\"Running Coupling $\\\\alpha_s$\")\n",
    "plt.plot(mu_over_Lambda_values, alpha_s_values_2, label=\"Running Coupling $\\\\alpha_s$\")\n",
    "plt.plot(mu_over_Lambda_values, alpha_s_values_3, label=\"Running Coupling $\\\\alpha_s$\")\n",
    "plt.xscale('log')  # Setting the x-axis to a logarithmic scale for better visualization\n",
    "plt.xlabel(\"$\\\\mu/\\\\Lambda$\")\n",
    "plt.ylabel(\"$\\\\alpha_s$\")\n",
    "plt.title(\"Running Coupling $\\\\alpha_s$ as a Function of log($\\\\mu/\\\\Lambda$)\")\n",
    "plt.legend()\n",
    "plt.grid(True)\n",
    "plt.show()"
   ]
  },
  {
   "cell_type": "code",
   "execution_count": 54,
   "id": "2129889f",
   "metadata": {},
   "outputs": [],
   "source": [
    "np_linspace_start = 0.1\n",
    "np_linspace_end = 5"
   ]
  },
  {
   "cell_type": "code",
   "execution_count": 55,
   "id": "cd375b6c",
   "metadata": {},
   "outputs": [
    {
     "data": {
      "image/png": "[encoded data removed]",
      "text/plain": [
       "<Figure size 432x288 with 1 Axes>"
      ]
     },
     "metadata": {
      "needs_background": "light"
     },
     "output_type": "display_data"
    }
   ],
   "source": [
    "import numpy as np\n",
    "import matplotlib.pyplot as plt\n",
    "import sympy as sp\n",
    "\n",
    "# Define symbols\n",
    "x, Beta0, Beta1, Beta2, Beta3 = sp.symbols('x Beta0 Beta1 Beta2 Beta3')\n",
    "\n",
    "# Define the function lmL_1\n",
    "f = (1/(2 * Beta0 * x)) + (1/(2 * Beta0)) * (Beta1/Beta0) * sp.log(Beta0 * x) + \\\n",
    "    (x/(2 * Beta0)) * (Beta2/Beta0 - (Beta1/Beta0)**2) + \\\n",
    "    (x**2) / (4 * Beta0) * (Beta3/Beta0 - (Beta1/Beta0)**3 - 2 * ((Beta1 * Beta2)/(Beta0**2) - (Beta1/Beta0)**3))\n",
    "\n",
    "\n",
    "# Lambdify the function for numerical evaluation\n",
    "f_lambdified_1 = sp.lambdify(x, f.subs({Beta0: beta0(3,5), Beta1: beta1(3,5), Beta2: beta2(3,5), Beta3: beta3(3,5)}), 'numpy')\n",
    "\n",
    "# Plot the function\n",
    "x_vals = np.linspace(np_linspace_start, np_linspace_end, 4000)  # Avoid x = 0 due to division by zero\n",
    "y_vals_1 = f_lambdified_1(x_vals)\n",
    "\n",
    "plt.plot(x_vals, y_vals_1)\n",
    "plt.xlabel('x')\n",
    "plt.ylabel('f(x)')\n",
    "plt.title('Plot of the function')\n",
    "plt.show()\n"
   ]
  },
  {
   "cell_type": "code",
   "execution_count": 74,
   "id": "2ed5886b",
   "metadata": {},
   "outputs": [
    {
     "data": {
      "image/png": "[encoded data removed]",
      "text/plain": [
       "<Figure size 432x288 with 1 Axes>"
      ]
     },
     "metadata": {
      "needs_background": "light"
     },
     "output_type": "display_data"
    },
    {
     "name": "stdout",
     "output_type": "stream",
     "text": [
      " 1.253084825381738 \n",
      " 0.722262715742332\n"
     ]
    }
   ],
   "source": [
    "from scipy.optimize import fsolve\n",
    "\n",
    "# Re-import sympy as sp\n",
    "import sympy as sp\n",
    "import numpy as np\n",
    "import matplotlib.pyplot as plt\n",
    "\n",
    "# Define the symbols again\n",
    "x, Beta0, Beta1, Beta2, Beta3 = sp.symbols('x Beta0 Beta1 Beta2 Beta3')\n",
    "\n",
    "# Define the function lmL_1 again with the correct Beta values\n",
    "f = (1/(2 * Beta0 * x)) + (1/(2 * Beta0)) * (Beta1/Beta0) * sp.log(Beta0 * x) + \\\n",
    "    (x/(2 * Beta0)) * (Beta2/Beta0 - (Beta1/Beta0)**2) + \\\n",
    "    (x**2) / (4 * Beta0) * (Beta3/Beta0 - (Beta1/Beta0)**3 - 2 * ((Beta1 * Beta2)/(Beta0**2) - (Beta1/Beta0)**3))\n",
    "\n",
    "\n",
    "# Substitute the Beta values\n",
    "f_substituted = f.subs({Beta0: beta0(3,5), Beta1: beta1(3,5), Beta2: beta2(3,5), Beta3: beta3(3,5)})\n",
    "\n",
    "# Compute the derivative of f\n",
    "f_derivative = sp.diff(f_substituted, x)\n",
    "\n",
    "# Lambdify the derivative for numerical evaluation\n",
    "f_derivative_lambdified = sp.lambdify(x, f_derivative, 'numpy')\n",
    "\n",
    "# Find critical points (where the derivative is zero)\n",
    "initial_guess = 0.5  # Initial guess for the root finding\n",
    "critical_point, = fsolve(f_derivative_lambdified, initial_guess)\n",
    "\n",
    "# Lambdify the original function for plotting\n",
    "f_lambdified = sp.lambdify(x, f_substituted, 'numpy')\n",
    "\n",
    "# Plot the function up to the critical point\n",
    "x_vals_restricted_1 = np.linspace(np_linspace_start, critical_point, 1000)  # Avoid x = 0 due to division by zero\n",
    "y_vals_restricted_1 = f_lambdified(x_vals_restricted_1)\n",
    "\n",
    "plt.plot(x_vals_restricted_1, y_vals_restricted_1)\n",
    "plt.xlabel('alpha')\n",
    "plt.ylabel('lmL')\n",
    "plt.title('Plot of the function up to the critical point')\n",
    "plt.show()\n",
    "\n",
    "# Output the critical point for reference\n",
    "print('',critical_point,'\\n',f_substituted.subs({x: critical_point}))"
   ]
  },
  {
   "cell_type": "code",
   "execution_count": null,
   "id": "1ec17e01",
   "metadata": {},
   "outputs": [],
   "source": []
  },
  {
   "cell_type": "code",
   "execution_count": 57,
   "id": "8e7a8f5a",
   "metadata": {},
   "outputs": [
    {
     "data": {
      "image/png": "[encoded data removed]",
      "text/plain": [
       "<Figure size 432x288 with 1 Axes>"
      ]
     },
     "metadata": {
      "needs_background": "light"
     },
     "output_type": "display_data"
    }
   ],
   "source": [
    "import numpy as np\n",
    "import matplotlib.pyplot as plt\n",
    "import sympy as sp\n",
    "\n",
    "# Define symbols\n",
    "x, Beta0, Beta1, Beta2, Beta3 = sp.symbols('x Beta0 Beta1 Beta2 Beta3')\n",
    "\n",
    "\n",
    "# Define the function lmL_2\n",
    "f = 1 / (2 * Beta0 * x) + (Beta1 / Beta0) * sp.log(Beta0 * x) / (2 * Beta0)\n",
    "\n",
    "# Lambdify the function for numerical evaluation\n",
    "f_lambdified_2 = sp.lambdify(x, f.subs({Beta0: beta0(3,5), Beta1: beta1(3,5), Beta2: beta2(3,5), Beta3: beta3(3,5)}), 'numpy')\n",
    "\n",
    "# Plot the function\n",
    "x_vals = np.linspace(np_linspace_start, np_linspace_end, 4000)  # Avoid x = 0 due to division by zero\n",
    "y_vals_2 = f_lambdified_2(x_vals)\n",
    "\n",
    "plt.plot(x_vals, y_vals_2)\n",
    "plt.xlabel('alpha')\n",
    "plt.ylabel('lmL')\n",
    "plt.title('Plot of the function')\n",
    "plt.show()\n"
   ]
  },
  {
   "cell_type": "code",
   "execution_count": 73,
   "id": "84f475ba",
   "metadata": {},
   "outputs": [
    {
     "data": {
      "image/png": "[encoded data removed]",
      "text/plain": [
       "<Figure size 432x288 with 1 Axes>"
      ]
     },
     "metadata": {
      "needs_background": "light"
     },
     "output_type": "display_data"
    },
    {
     "name": "stdout",
     "output_type": "stream",
     "text": [
      " 2.491607966639995 \n",
      " 0.466670615619254\n"
     ]
    }
   ],
   "source": [
    "from scipy.optimize import fsolve\n",
    "\n",
    "# Re-import sympy as sp\n",
    "import sympy as sp\n",
    "import numpy as np\n",
    "import matplotlib.pyplot as plt\n",
    "\n",
    "# Define the symbols again\n",
    "x, Beta0, Beta1, Beta2, Beta3 = sp.symbols('x Beta0 Beta1 Beta2 Beta3')\n",
    "\n",
    "# Define the function lmL_2 again with the correct Beta values\n",
    "f = 1 / (2 * Beta0 * x) + (Beta1 / Beta0) * sp.log(Beta0 * x) / (2 * Beta0)\n",
    "\n",
    "\n",
    "# Substitute the Beta values\n",
    "f_substituted = f.subs({Beta0: beta0(3,5), Beta1: beta1(3,5), Beta2: beta2(3,5), Beta3: beta3(3,5)})\n",
    "\n",
    "# Compute the derivative of f\n",
    "f_derivative = sp.diff(f_substituted, x)\n",
    "\n",
    "# Lambdify the derivative for numerical evaluation\n",
    "f_derivative_lambdified = sp.lambdify(x, f_derivative, 'numpy')\n",
    "\n",
    "# Find critical points (where the derivative is zero)\n",
    "initial_guess = 0.5  # Initial guess for the root finding\n",
    "critical_point, = fsolve(f_derivative_lambdified, initial_guess)\n",
    "\n",
    "# Lambdify the original function for plotting\n",
    "f_lambdified = sp.lambdify(x, f_substituted, 'numpy')\n",
    "\n",
    "# Plot the function up to the critical point\n",
    "x_vals_restricted_2 = np.linspace(np_linspace_start, critical_point, 1000)  # Avoid x = 0 due to division by zero\n",
    "y_vals_restricted_2 = f_lambdified(x_vals_restricted_2)\n",
    "\n",
    "plt.plot(x_vals_restricted_2, y_vals_restricted_2)\n",
    "plt.xlabel('alpha')\n",
    "plt.ylabel('lmL')\n",
    "plt.title('Plot of the function up to the critical point')\n",
    "plt.show()\n",
    "\n",
    "# Output the critical point for reference\n",
    "print('',critical_point,'\\n',f_substituted.subs({x: critical_point}))"
   ]
  },
  {
   "cell_type": "code",
   "execution_count": null,
   "id": "c1d0e9ee",
   "metadata": {},
   "outputs": [],
   "source": []
  },
  {
   "cell_type": "code",
   "execution_count": 59,
   "id": "73996fb6",
   "metadata": {},
   "outputs": [
    {
     "data": {
      "image/png": "[encoded data removed]",
      "text/plain": [
       "<Figure size 432x288 with 1 Axes>"
      ]
     },
     "metadata": {
      "needs_background": "light"
     },
     "output_type": "display_data"
    }
   ],
   "source": [
    "import numpy as np\n",
    "import matplotlib.pyplot as plt\n",
    "import sympy as sp\n",
    "\n",
    "# Define symbols\n",
    "x, Beta0, Beta1, Beta2, Beta3 = sp.symbols('x Beta0 Beta1 Beta2 Beta3')\n",
    "\n",
    "# Define the function lmL_3\n",
    "f = 1 / (2 * Beta0 * x) + \\\n",
    "    (Beta1 / Beta0) * sp.log(Beta0 * x) / (2 * Beta0) + \\\n",
    "    (Beta1 / Beta0) / (2 * Beta0) * (Beta1 * x / Beta0)**2\n",
    "\n",
    "# Lambdify the function for numerical evaluation\n",
    "f_lambdified_3 = sp.lambdify(x, f.subs({Beta0: beta0(3,5), Beta1: beta1(3,5), Beta2: beta2(3,5), Beta3: beta3(3,5)}), 'numpy')\n",
    "\n",
    "# Plot the function\n",
    "x_vals = np.linspace(np_linspace_start, np_linspace_end, 4000)  # Avoid x = 0 due to division by zero\n",
    "y_vals_3 = f_lambdified_3(x_vals)\n",
    "\n",
    "plt.plot(x_vals, y_vals_3)\n",
    "plt.xlabel('alpha')\n",
    "plt.ylabel('lmL')\n",
    "plt.title('Plot of the function')\n",
    "plt.show()\n"
   ]
  },
  {
   "cell_type": "code",
   "execution_count": 72,
   "id": "98cb4e4c",
   "metadata": {},
   "outputs": [
    {
     "data": {
      "image/png": "[encoded data removed]",
      "text/plain": [
       "<Figure size 432x288 with 1 Axes>"
      ]
     },
     "metadata": {
      "needs_background": "light"
     },
     "output_type": "display_data"
    },
    {
     "name": "stdout",
     "output_type": "stream",
     "text": [
      " 1.469437041212187 \n",
      " 0.636191429607648\n"
     ]
    }
   ],
   "source": [
    "from scipy.optimize import fsolve\n",
    "\n",
    "# Re-import sympy as sp\n",
    "import sympy as sp\n",
    "import numpy as np\n",
    "import matplotlib.pyplot as plt\n",
    "\n",
    "# Define the symbols again\n",
    "x, Beta0, Beta1, Beta2, Beta3 = sp.symbols('x Beta0 Beta1 Beta2 Beta3')\n",
    "\n",
    "# Define the function lmL_3 again with the correct Beta values\n",
    "f = 1 / (2 * Beta0 * x) + \\\n",
    "    (Beta1 / Beta0) * sp.log(Beta0 * x) / (2 * Beta0) + \\\n",
    "    (Beta1 / Beta0) / (2 * Beta0) * (Beta1 * x / Beta0)**2\n",
    "\n",
    "# Substitute the Beta values\n",
    "f_substituted = f.subs({Beta0: beta0(3,5), Beta1: beta1(3,5), Beta2: beta2(3,5), Beta3: beta3(3,5)})\n",
    "\n",
    "# Compute the derivative of f\n",
    "f_derivative = sp.diff(f_substituted, x)\n",
    "\n",
    "# Lambdify the derivative for numerical evaluation\n",
    "f_derivative_lambdified = sp.lambdify(x, f_derivative, 'numpy')\n",
    "\n",
    "# Find critical points (where the derivative is zero)\n",
    "initial_guess = 0.5  # Initial guess for the root finding\n",
    "critical_point, = fsolve(f_derivative_lambdified, initial_guess)\n",
    "\n",
    "# Lambdify the original function for plotting\n",
    "f_lambdified = sp.lambdify(x, f_substituted, 'numpy')\n",
    "\n",
    "# Plot the function up to the critical point\n",
    "x_vals_restricted_3 = np.linspace(np_linspace_start, critical_point, 1000)  # Avoid x = 0 due to division by zero\n",
    "y_vals_restricted_3 = f_lambdified(x_vals_restricted_3)\n",
    "\n",
    "plt.plot(x_vals_restricted_3, y_vals_restricted_3)\n",
    "plt.xlabel('alpha')\n",
    "plt.ylabel('lmL')\n",
    "plt.title('Plot of the function up to the critical point')\n",
    "plt.show()\n",
    "\n",
    "# Output the critical point for reference\n",
    "print('',critical_point,'\\n',f_substituted.subs({x: critical_point}))"
   ]
  },
  {
   "cell_type": "code",
   "execution_count": null,
   "id": "880b8084",
   "metadata": {},
   "outputs": [],
   "source": []
  },
  {
   "cell_type": "code",
   "execution_count": null,
   "id": "d551a9a0",
   "metadata": {},
   "outputs": [],
   "source": []
  },
  {
   "cell_type": "code",
   "execution_count": 61,
   "id": "48ae144e",
   "metadata": {},
   "outputs": [
    {
     "name": "stderr",
     "output_type": "stream",
     "text": [
      "No artists with labels found to put in legend.  Note that artists whose label start with an underscore are ignored when legend() is called with no argument.\n"
     ]
    },
    {
     "data": {
      "image/png": "[encoded data removed]",
      "text/plain": [
       "<Figure size 720x432 with 1 Axes>"
      ]
     },
     "metadata": {
      "needs_background": "light"
     },
     "output_type": "display_data"
    }
   ],
   "source": [
    "plt.figure(figsize=(10, 6))\n",
    "plt.plot(x_vals, y_vals_1)\n",
    "plt.plot(x_vals, y_vals_2)\n",
    "plt.plot(x_vals, y_vals_3)\n",
    "plt.ylabel(\"log($\\\\mu/\\\\Lambda$)\")\n",
    "plt.xlabel(\"$\\\\alpha_s$\")\n",
    "plt.title(\"Running Coupling log($\\\\mu/\\\\Lambda$) as a Function of $\\\\alpha_s$\")\n",
    "plt.legend()\n",
    "plt.grid(True)\n",
    "plt.show()"
   ]
  },
  {
   "cell_type": "code",
   "execution_count": 62,
   "id": "8213a3fc",
   "metadata": {},
   "outputs": [
    {
     "name": "stderr",
     "output_type": "stream",
     "text": [
      "No artists with labels found to put in legend.  Note that artists whose label start with an underscore are ignored when legend() is called with no argument.\n"
     ]
    },
    {
     "data": {
      "image/png": "[encoded data removed]",
      "text/plain": [
       "<Figure size 720x432 with 1 Axes>"
      ]
     },
     "metadata": {
      "needs_background": "light"
     },
     "output_type": "display_data"
    }
   ],
   "source": [
    "plt.figure(figsize=(10, 6))\n",
    "plt.plot(x_vals_restricted_1, y_vals_restricted_1)\n",
    "plt.plot(x_vals_restricted_2, y_vals_restricted_2)\n",
    "plt.plot(x_vals_restricted_3, y_vals_restricted_3)\n",
    "plt.ylabel(\"log($\\\\mu/\\\\Lambda$)\")\n",
    "plt.xlabel(\"$\\\\alpha_s$\")\n",
    "plt.title(\"Running Coupling log($\\\\mu/\\\\Lambda$) as a Function of $\\\\alpha_s$\")\n",
    "plt.legend()\n",
    "plt.grid(True)\n",
    "plt.show()"
   ]
  },
  {
   "cell_type": "code",
   "execution_count": null,
   "id": "22749161",
   "metadata": {},
   "outputs": [],
   "source": []
  },
  {
   "cell_type": "code",
   "execution_count": 63,
   "id": "49662f43",
   "metadata": {},
   "outputs": [
    {
     "name": "stderr",
     "output_type": "stream",
     "text": [
      "No artists with labels found to put in legend.  Note that artists whose label start with an underscore are ignored when legend() is called with no argument.\n"
     ]
    },
    {
     "data": {
      "image/png": "[encoded data removed]",
      "text/plain": [
       "<Figure size 720x432 with 1 Axes>"
      ]
     },
     "metadata": {
      "needs_background": "light"
     },
     "output_type": "display_data"
    }
   ],
   "source": [
    "plt.figure(figsize=(10, 6))\n",
    "plt.plot(y_vals_1, x_vals)\n",
    "plt.plot(y_vals_2, x_vals)\n",
    "plt.plot(y_vals_3, x_vals)\n",
    "plt.xlabel(\"log($\\\\mu/\\\\Lambda$)\")\n",
    "plt.ylabel(\"$\\\\alpha_s$\")\n",
    "plt.title(\"Reflexion of Running Coupling log($\\\\mu/\\\\Lambda$) as a Function of $\\\\alpha_s$\")\n",
    "plt.legend()\n",
    "plt.grid(True)\n",
    "plt.show()"
   ]
  },
  {
   "cell_type": "code",
   "execution_count": 64,
   "id": "a3eff6fd",
   "metadata": {},
   "outputs": [
    {
     "name": "stderr",
     "output_type": "stream",
     "text": [
      "No artists with labels found to put in legend.  Note that artists whose label start with an underscore are ignored when legend() is called with no argument.\n"
     ]
    },
    {
     "data": {
      "image/png": "[encoded data removed]",
      "text/plain": [
       "<Figure size 720x432 with 1 Axes>"
      ]
     },
     "metadata": {
      "needs_background": "light"
     },
     "output_type": "display_data"
    }
   ],
   "source": [
    "plt.figure(figsize=(10, 6))\n",
    "plt.plot(y_vals_restricted_1, x_vals_restricted_1)\n",
    "plt.plot(y_vals_restricted_2, x_vals_restricted_2)\n",
    "plt.plot(y_vals_restricted_3, x_vals_restricted_3)\n",
    "plt.xlabel(\"log($\\\\mu/\\\\Lambda$)\")\n",
    "plt.ylabel(\"$\\\\alpha_s$\")\n",
    "plt.title(\"Running Coupling log($\\\\mu/\\\\Lambda$) as a Function of $\\\\alpha_s$\")\n",
    "plt.legend()\n",
    "plt.grid(True)\n",
    "plt.show()"
   ]
  },
  {
   "cell_type": "code",
   "execution_count": 68,
   "id": "00acf20e",
   "metadata": {},
   "outputs": [
    {
     "name": "stderr",
     "output_type": "stream",
     "text": [
      "No artists with labels found to put in legend.  Note that artists whose label start with an underscore are ignored when legend() is called with no argument.\n"
     ]
    },
    {
     "data": {
      "image/png": "[encoded data removed]",
      "text/plain": [
       "<Figure size 720x432 with 1 Axes>"
      ]
     },
     "metadata": {
      "needs_background": "light"
     },
     "output_type": "display_data"
    }
   ],
   "source": [
    "# Converting log(mu/Lambda) values back to mu/Lambda\n",
    "x_vals_restricted_new_1 = np.exp(x_vals_restricted_1)\n",
    "x_vals_restricted_new_2 = np.exp(x_vals_restricted_2)\n",
    "x_vals_restricted_new_3 = np.exp(x_vals_restricted_3)\n",
    "\n",
    "plt.figure(figsize=(10, 6))\n",
    "plt.plot(y_vals_restricted_1, x_vals_restricted_new_1)\n",
    "plt.plot(y_vals_restricted_2, x_vals_restricted_new_2)\n",
    "plt.plot(y_vals_restricted_3, x_vals_restricted_new_3)\n",
    "plt.xscale('log')\n",
    "plt.xlabel(\"$\\\\mu/\\\\Lambda$\")\n",
    "plt.ylabel(\"$\\\\alpha_s$\")\n",
    "plt.title(\"Running Coupling log($\\\\mu/\\\\Lambda$) as a Function of $\\\\alpha_s$\")\n",
    "plt.legend()\n",
    "plt.grid(True)\n",
    "plt.show()"
   ]
  },
  {
   "cell_type": "code",
   "execution_count": null,
   "id": "9d094638",
   "metadata": {},
   "outputs": [],
   "source": []
  },
  {
   "cell_type": "code",
   "execution_count": null,
   "id": "40865a7d",
   "metadata": {},
   "outputs": [],
   "source": []
  },
  {
   "cell_type": "code",
   "execution_count": null,
   "id": "6645e0c5",
   "metadata": {},
   "outputs": [],
   "source": []
  },
  {
   "cell_type": "code",
   "execution_count": null,
   "id": "b6da3056",
   "metadata": {},
   "outputs": [],
   "source": []
  },
  {
   "cell_type": "code",
   "execution_count": 17,
   "id": "bf0417d3",
   "metadata": {},
   "outputs": [
    {
     "name": "stdout",
     "output_type": "stream",
     "text": [
      "ok\n"
     ]
    }
   ],
   "source": [
    "x=sp.symbols('x')\n",
    "\n",
    "# Define the function lmL_3\n",
    "f = 1 / (2 * Beta0 * x) + \\\n",
    "    (Beta1 / Beta0) * sp.log(Beta0 * x) / (2 * Beta0) + \\\n",
    "    (Beta1 / Beta0) / (2 * Beta0) * (Beta1 * x / Beta0)**2\n",
    "\n",
    "if sp.diff(f,x) == 0:\n",
    "    print(f)\n",
    "else: print('ok')"
   ]
  },
  {
   "cell_type": "code",
   "execution_count": null,
   "id": "4e33060f",
   "metadata": {},
   "outputs": [],
   "source": []
  },
  {
   "cell_type": "code",
   "execution_count": null,
   "id": "9efc1065",
   "metadata": {},
   "outputs": [],
   "source": []
  },
  {
   "cell_type": "code",
   "execution_count": null,
   "id": "75a18658",
   "metadata": {},
   "outputs": [],
   "source": []
  },
  {
   "cell_type": "code",
   "execution_count": 17,
   "id": "f38ee4d3",
   "metadata": {},
   "outputs": [
    {
     "name": "stderr",
     "output_type": "stream",
     "text": [
      "/tmp/ipykernel_4641/927585411.py:8: RuntimeWarning: invalid value encountered in log\n",
      "  (Beta1 / Beta0) * np.log(Beta0 * x) / (2 * Beta0) + \\\n"
     ]
    },
    {
     "data": {
      "image/png": "[encoded data removed]",
      "text/plain": [
       "<Figure size 720x432 with 1 Axes>"
      ]
     },
     "metadata": {
      "needs_background": "light"
     },
     "output_type": "display_data"
    }
   ],
   "source": [
    "from scipy.optimize import fsolve\n",
    "import numpy as np\n",
    "import matplotlib.pyplot as plt\n",
    "\n",
    "# Function definition\n",
    "def f(x, Beta0, Beta1, Beta2, Beta3):\n",
    "    return 1 / (2 * Beta0 * x) + \\\n",
    "    (Beta1 / Beta0) * np.log(Beta0 * x) / (2 * Beta0) + \\\n",
    "    (Beta1 / Beta0) / (2 * Beta0) * (Beta1 * x / Beta0)**2\n",
    "\n",
    "# Beta values\n",
    "Beta0 = 0.6100939485189322\n",
    "Beta1 = 0.24485952713564968\n",
    "Beta2 = 0.09116471061282587\n",
    "Beta3 = 0.19353607511601503\n",
    "\n",
    "# Inverse function approximation\n",
    "def inverse_f(y, Beta0, Beta1, Beta2, Beta3):\n",
    "    # Given y, find x such that f(x) = y\n",
    "    func = lambda x: f(x, Beta0, Beta1, Beta2, Beta3) - y\n",
    "    x_initial_guess = 1.0\n",
    "    x_solution, = fsolve(func, x_initial_guess)\n",
    "    return x_solution\n",
    "\n",
    "# Range of y values\n",
    "y_values = np.linspace(0.01, 100, 400)\n",
    "x_values = [inverse_f(y, Beta0, Beta1, Beta2, Beta3) for y in y_values]\n",
    "\n",
    "# Plotting the inverse function\n",
    "plt.figure(figsize=(10, 6))\n",
    "plt.plot(y_values, x_values, label=\"Inverse Function\")\n",
    "plt.xlabel(\"y\")\n",
    "plt.ylabel(\"x\")\n",
    "plt.title(\"Inverse of the Given Function\")\n",
    "plt.legend()\n",
    "plt.grid(True)\n",
    "plt.show()\n"
   ]
  },
  {
   "cell_type": "code",
   "execution_count": 18,
   "id": "382ebd81",
   "metadata": {},
   "outputs": [
    {
     "name": "stderr",
     "output_type": "stream",
     "text": [
      "/tmp/ipykernel_4641/927585411.py:8: RuntimeWarning: invalid value encountered in log\n",
      "  (Beta1 / Beta0) * np.log(Beta0 * x) / (2 * Beta0) + \\\n"
     ]
    },
    {
     "data": {
      "image/png": "[encoded data removed]",
      "text/plain": [
       "<Figure size 720x432 with 1 Axes>"
      ]
     },
     "metadata": {
      "needs_background": "light"
     },
     "output_type": "display_data"
    }
   ],
   "source": [
    "# Improved method for the inverse function using adaptive guessing\n",
    "def improved_inverse_f(y_values, Beta0, Beta1, Beta2, Beta3):\n",
    "    x_values = []\n",
    "    x_initial_guess = 1.0  # Starting guess for the first y value\n",
    "\n",
    "    for y in y_values:\n",
    "        func = lambda x: f(x, Beta0, Beta1, Beta2, Beta3) - y\n",
    "        x_solution, = fsolve(func, x_initial_guess)\n",
    "\n",
    "        # Update the guess for the next iteration\n",
    "        x_initial_guess = x_solution\n",
    "\n",
    "        x_values.append(x_solution)\n",
    "\n",
    "    return x_values\n",
    "\n",
    "# Calculating the inverse function values with the improved method\n",
    "improved_x_values = improved_inverse_f(y_values, Beta0, Beta1, Beta2, Beta3)\n",
    "\n",
    "# Plotting the improved inverse function\n",
    "plt.figure(figsize=(10, 6))\n",
    "plt.plot(y_values, improved_x_values, label=\"Improved Inverse Function\")\n",
    "plt.xlabel(\"y\")\n",
    "plt.ylabel(\"x\")\n",
    "plt.title(\"Improved Inverse of the Given Function\")\n",
    "plt.legend()\n",
    "plt.grid(True)\n",
    "plt.show()\n"
   ]
  },
  {
   "cell_type": "code",
   "execution_count": null,
   "id": "bca490c2",
   "metadata": {},
   "outputs": [],
   "source": []
  },
  {
   "cell_type": "code",
   "execution_count": null,
   "id": "5ba85e77",
   "metadata": {},
   "outputs": [],
   "source": []
  },
  {
   "cell_type": "code",
   "execution_count": 10,
   "id": "40b5bd30",
   "metadata": {},
   "outputs": [
    {
     "ename": "ValueError",
     "evalue": "f(a) and f(b) must have different signs",
     "output_type": "error",
     "traceback": [
      "\u001b[0;31m---------------------------------------------------------------------------\u001b[0m",
      "\u001b[0;31mValueError\u001b[0m                                Traceback (most recent call last)",
      "\u001b[0;32m/tmp/ipykernel_11076/949570682.py\u001b[0m in \u001b[0;36m<module>\u001b[0;34m\u001b[0m\n\u001b[1;32m     18\u001b[0m     \u001b[0;32mreturn\u001b[0m \u001b[0mbrentq\u001b[0m\u001b[0;34m(\u001b[0m\u001b[0;32mlambda\u001b[0m \u001b[0mz\u001b[0m\u001b[0;34m:\u001b[0m \u001b[0mf\u001b[0m\u001b[0;34m(\u001b[0m\u001b[0mz\u001b[0m\u001b[0;34m,\u001b[0m \u001b[0mBeta0\u001b[0m\u001b[0;34m,\u001b[0m \u001b[0mBeta1\u001b[0m\u001b[0;34m,\u001b[0m \u001b[0mBeta2\u001b[0m\u001b[0;34m,\u001b[0m \u001b[0mBeta3\u001b[0m\u001b[0;34m)\u001b[0m\u001b[0;34m-\u001b[0m\u001b[0mx\u001b[0m\u001b[0;34m,\u001b[0m \u001b[0;36m0.01\u001b[0m\u001b[0;34m,\u001b[0m \u001b[0;36m100\u001b[0m\u001b[0;34m)\u001b[0m\u001b[0;34m\u001b[0m\u001b[0;34m\u001b[0m\u001b[0m\n\u001b[1;32m     19\u001b[0m \u001b[0;34m\u001b[0m\u001b[0m\n\u001b[0;32m---> 20\u001b[0;31m \u001b[0mg\u001b[0m\u001b[0;34m(\u001b[0m\u001b[0mx\u001b[0m\u001b[0;34m,\u001b[0m \u001b[0mBeta0\u001b[0m\u001b[0;34m=\u001b[0m\u001b[0mBeta0\u001b[0m\u001b[0;34m,\u001b[0m \u001b[0mBeta1\u001b[0m\u001b[0;34m=\u001b[0m\u001b[0mBeta1\u001b[0m\u001b[0;34m,\u001b[0m \u001b[0mBeta2\u001b[0m\u001b[0;34m=\u001b[0m\u001b[0mBeta2\u001b[0m\u001b[0;34m,\u001b[0m \u001b[0mBeta3\u001b[0m\u001b[0;34m=\u001b[0m\u001b[0mBeta3\u001b[0m\u001b[0;34m)\u001b[0m\u001b[0;34m\u001b[0m\u001b[0;34m\u001b[0m\u001b[0m\n\u001b[0m",
      "\u001b[0;32m/tmp/ipykernel_11076/949570682.py\u001b[0m in \u001b[0;36mg\u001b[0;34m(x, Beta0, Beta1, Beta2, Beta3)\u001b[0m\n\u001b[1;32m     16\u001b[0m \u001b[0;32mdef\u001b[0m \u001b[0mg\u001b[0m\u001b[0;34m(\u001b[0m\u001b[0mx\u001b[0m\u001b[0;34m,\u001b[0m \u001b[0mBeta0\u001b[0m\u001b[0;34m=\u001b[0m\u001b[0mBeta0\u001b[0m\u001b[0;34m,\u001b[0m \u001b[0mBeta1\u001b[0m\u001b[0;34m=\u001b[0m\u001b[0mBeta1\u001b[0m\u001b[0;34m,\u001b[0m \u001b[0mBeta2\u001b[0m\u001b[0;34m=\u001b[0m\u001b[0mBeta2\u001b[0m\u001b[0;34m,\u001b[0m \u001b[0mBeta3\u001b[0m\u001b[0;34m=\u001b[0m\u001b[0mBeta3\u001b[0m\u001b[0;34m)\u001b[0m\u001b[0;34m:\u001b[0m\u001b[0;34m\u001b[0m\u001b[0;34m\u001b[0m\u001b[0m\n\u001b[1;32m     17\u001b[0m     \u001b[0my\u001b[0m \u001b[0;34m=\u001b[0m \u001b[0mf\u001b[0m\u001b[0;34m(\u001b[0m\u001b[0mx\u001b[0m\u001b[0;34m,\u001b[0m \u001b[0mBeta0\u001b[0m\u001b[0;34m,\u001b[0m \u001b[0mBeta1\u001b[0m\u001b[0;34m,\u001b[0m \u001b[0mBeta2\u001b[0m\u001b[0;34m,\u001b[0m \u001b[0mBeta3\u001b[0m\u001b[0;34m)\u001b[0m\u001b[0;34m\u001b[0m\u001b[0;34m\u001b[0m\u001b[0m\n\u001b[0;32m---> 18\u001b[0;31m     \u001b[0;32mreturn\u001b[0m \u001b[0mbrentq\u001b[0m\u001b[0;34m(\u001b[0m\u001b[0;32mlambda\u001b[0m \u001b[0mz\u001b[0m\u001b[0;34m:\u001b[0m \u001b[0mf\u001b[0m\u001b[0;34m(\u001b[0m\u001b[0mz\u001b[0m\u001b[0;34m,\u001b[0m \u001b[0mBeta0\u001b[0m\u001b[0;34m,\u001b[0m \u001b[0mBeta1\u001b[0m\u001b[0;34m,\u001b[0m \u001b[0mBeta2\u001b[0m\u001b[0;34m,\u001b[0m \u001b[0mBeta3\u001b[0m\u001b[0;34m)\u001b[0m\u001b[0;34m-\u001b[0m\u001b[0mx\u001b[0m\u001b[0;34m,\u001b[0m \u001b[0;36m0.01\u001b[0m\u001b[0;34m,\u001b[0m \u001b[0;36m100\u001b[0m\u001b[0;34m)\u001b[0m\u001b[0;34m\u001b[0m\u001b[0;34m\u001b[0m\u001b[0m\n\u001b[0m\u001b[1;32m     19\u001b[0m \u001b[0;34m\u001b[0m\u001b[0m\n\u001b[1;32m     20\u001b[0m \u001b[0mg\u001b[0m\u001b[0;34m(\u001b[0m\u001b[0mx\u001b[0m\u001b[0;34m,\u001b[0m \u001b[0mBeta0\u001b[0m\u001b[0;34m=\u001b[0m\u001b[0mBeta0\u001b[0m\u001b[0;34m,\u001b[0m \u001b[0mBeta1\u001b[0m\u001b[0;34m=\u001b[0m\u001b[0mBeta1\u001b[0m\u001b[0;34m,\u001b[0m \u001b[0mBeta2\u001b[0m\u001b[0;34m=\u001b[0m\u001b[0mBeta2\u001b[0m\u001b[0;34m,\u001b[0m \u001b[0mBeta3\u001b[0m\u001b[0;34m=\u001b[0m\u001b[0mBeta3\u001b[0m\u001b[0;34m)\u001b[0m\u001b[0;34m\u001b[0m\u001b[0;34m\u001b[0m\u001b[0m\n",
      "\u001b[0;32m~/.local/lib/python3.10/site-packages/scipy/optimize/_zeros_py.py\u001b[0m in \u001b[0;36mbrentq\u001b[0;34m(f, a, b, args, xtol, rtol, maxiter, full_output, disp)\u001b[0m\n\u001b[1;32m    781\u001b[0m     \u001b[0;32mif\u001b[0m \u001b[0mrtol\u001b[0m \u001b[0;34m<\u001b[0m \u001b[0m_rtol\u001b[0m\u001b[0;34m:\u001b[0m\u001b[0;34m\u001b[0m\u001b[0;34m\u001b[0m\u001b[0m\n\u001b[1;32m    782\u001b[0m         \u001b[0;32mraise\u001b[0m \u001b[0mValueError\u001b[0m\u001b[0;34m(\u001b[0m\u001b[0;34m\"rtol too small (%g < %g)\"\u001b[0m \u001b[0;34m%\u001b[0m \u001b[0;34m(\u001b[0m\u001b[0mrtol\u001b[0m\u001b[0;34m,\u001b[0m \u001b[0m_rtol\u001b[0m\u001b[0;34m)\u001b[0m\u001b[0;34m)\u001b[0m\u001b[0;34m\u001b[0m\u001b[0;34m\u001b[0m\u001b[0m\n\u001b[0;32m--> 783\u001b[0;31m     \u001b[0mr\u001b[0m \u001b[0;34m=\u001b[0m \u001b[0m_zeros\u001b[0m\u001b[0;34m.\u001b[0m\u001b[0m_brentq\u001b[0m\u001b[0;34m(\u001b[0m\u001b[0mf\u001b[0m\u001b[0;34m,\u001b[0m \u001b[0ma\u001b[0m\u001b[0;34m,\u001b[0m \u001b[0mb\u001b[0m\u001b[0;34m,\u001b[0m \u001b[0mxtol\u001b[0m\u001b[0;34m,\u001b[0m \u001b[0mrtol\u001b[0m\u001b[0;34m,\u001b[0m \u001b[0mmaxiter\u001b[0m\u001b[0;34m,\u001b[0m \u001b[0margs\u001b[0m\u001b[0;34m,\u001b[0m \u001b[0mfull_output\u001b[0m\u001b[0;34m,\u001b[0m \u001b[0mdisp\u001b[0m\u001b[0;34m)\u001b[0m\u001b[0;34m\u001b[0m\u001b[0;34m\u001b[0m\u001b[0m\n\u001b[0m\u001b[1;32m    784\u001b[0m     \u001b[0;32mreturn\u001b[0m \u001b[0mresults_c\u001b[0m\u001b[0;34m(\u001b[0m\u001b[0mfull_output\u001b[0m\u001b[0;34m,\u001b[0m \u001b[0mr\u001b[0m\u001b[0;34m)\u001b[0m\u001b[0;34m\u001b[0m\u001b[0;34m\u001b[0m\u001b[0m\n\u001b[1;32m    785\u001b[0m \u001b[0;34m\u001b[0m\u001b[0m\n",
      "\u001b[0;31mValueError\u001b[0m: f(a) and f(b) must have different signs"
     ]
    }
   ],
   "source": [
    "import numpy as np\n",
    "from scipy.optimize import brentq\n",
    "\n",
    "# Define Beta coefficients\n",
    "Beta0 = beta0(3,5)\n",
    "Beta1 = beta1(3,5)\n",
    "Beta2 = beta2(3,5)\n",
    "Beta3 = beta3(3,5)\n",
    "\n",
    "def f(x, Beta0=Beta0, Beta1=Beta1, Beta2=Beta2, Beta3=Beta3):\n",
    "    return (1/(2 * Beta0 * x)) + (1/(2 * Beta0)) * (Beta1/Beta0) * np.log(Beta0 * x) + \\\n",
    "           (x/(2 * Beta0)) * (Beta2/Beta0 - (Beta1/Beta0)**2) + \\\n",
    "           (x**2) / (4 * Beta0) * (Beta3/Beta0 - (Beta1/Beta0)**3 - 2 * \n",
    "((Beta1 * Beta2)/(Beta0**2) - (Beta1/Beta0)**3))\n",
    "\n",
    "def g(x, Beta0=Beta0, Beta1=Beta1, Beta2=Beta2, Beta3=Beta3):\n",
    "    y = f(x, Beta0, Beta1, Beta2, Beta3)\n",
    "    return brentq(lambda z: f(z, Beta0, Beta1, Beta2, Beta3)-x, 0.01, 100)\n",
    "\n",
    "g(x, Beta0=Beta0, Beta1=Beta1, Beta2=Beta2, Beta3=Beta3)"
   ]
  },
  {
   "cell_type": "code",
   "execution_count": 9,
   "id": "4de72398",
   "metadata": {},
   "outputs": [
    {
     "ename": "ValueError",
     "evalue": "f(a) and f(b) must have different signs",
     "output_type": "error",
     "traceback": [
      "\u001b[0;31m---------------------------------------------------------------------------\u001b[0m",
      "\u001b[0;31mValueError\u001b[0m                                Traceback (most recent call last)",
      "\u001b[0;32m/tmp/ipykernel_11076/1749013891.py\u001b[0m in \u001b[0;36m<module>\u001b[0;34m\u001b[0m\n\u001b[1;32m      3\u001b[0m \u001b[0;34m\u001b[0m\u001b[0m\n\u001b[1;32m      4\u001b[0m \u001b[0mx\u001b[0m \u001b[0;34m=\u001b[0m \u001b[0mnp\u001b[0m\u001b[0;34m.\u001b[0m\u001b[0mlinspace\u001b[0m\u001b[0;34m(\u001b[0m\u001b[0;36m0.01\u001b[0m\u001b[0;34m,\u001b[0m \u001b[0;36m100\u001b[0m\u001b[0;34m,\u001b[0m \u001b[0mnum\u001b[0m\u001b[0;34m=\u001b[0m\u001b[0;36m1000\u001b[0m\u001b[0;34m)\u001b[0m\u001b[0;34m\u001b[0m\u001b[0;34m\u001b[0m\u001b[0m\n\u001b[0;32m----> 5\u001b[0;31m \u001b[0my\u001b[0m \u001b[0;34m=\u001b[0m \u001b[0mg\u001b[0m\u001b[0;34m(\u001b[0m\u001b[0mx\u001b[0m\u001b[0;34m)\u001b[0m\u001b[0;34m\u001b[0m\u001b[0;34m\u001b[0m\u001b[0m\n\u001b[0m\u001b[1;32m      6\u001b[0m \u001b[0mplt\u001b[0m\u001b[0;34m.\u001b[0m\u001b[0mplot\u001b[0m\u001b[0;34m(\u001b[0m\u001b[0mx\u001b[0m\u001b[0;34m,\u001b[0m \u001b[0my\u001b[0m\u001b[0;34m)\u001b[0m\u001b[0;34m\u001b[0m\u001b[0;34m\u001b[0m\u001b[0m\n\u001b[1;32m      7\u001b[0m \u001b[0mplt\u001b[0m\u001b[0;34m.\u001b[0m\u001b[0mxlabel\u001b[0m\u001b[0;34m(\u001b[0m\u001b[0;34m'x'\u001b[0m\u001b[0;34m)\u001b[0m\u001b[0;34m\u001b[0m\u001b[0;34m\u001b[0m\u001b[0m\n",
      "\u001b[0;32m/tmp/ipykernel_11076/1389653771.py\u001b[0m in \u001b[0;36mg\u001b[0;34m(x, Beta0, Beta1, Beta2, Beta3)\u001b[0m\n\u001b[1;32m     16\u001b[0m \u001b[0;32mdef\u001b[0m \u001b[0mg\u001b[0m\u001b[0;34m(\u001b[0m\u001b[0mx\u001b[0m\u001b[0;34m,\u001b[0m \u001b[0mBeta0\u001b[0m\u001b[0;34m=\u001b[0m\u001b[0mBeta0\u001b[0m\u001b[0;34m,\u001b[0m \u001b[0mBeta1\u001b[0m\u001b[0;34m=\u001b[0m\u001b[0mBeta1\u001b[0m\u001b[0;34m,\u001b[0m \u001b[0mBeta2\u001b[0m\u001b[0;34m=\u001b[0m\u001b[0mBeta2\u001b[0m\u001b[0;34m,\u001b[0m \u001b[0mBeta3\u001b[0m\u001b[0;34m=\u001b[0m\u001b[0mBeta3\u001b[0m\u001b[0;34m)\u001b[0m\u001b[0;34m:\u001b[0m\u001b[0;34m\u001b[0m\u001b[0;34m\u001b[0m\u001b[0m\n\u001b[1;32m     17\u001b[0m     \u001b[0my\u001b[0m \u001b[0;34m=\u001b[0m \u001b[0mf\u001b[0m\u001b[0;34m(\u001b[0m\u001b[0mx\u001b[0m\u001b[0;34m,\u001b[0m \u001b[0mBeta0\u001b[0m\u001b[0;34m,\u001b[0m \u001b[0mBeta1\u001b[0m\u001b[0;34m,\u001b[0m \u001b[0mBeta2\u001b[0m\u001b[0;34m,\u001b[0m \u001b[0mBeta3\u001b[0m\u001b[0;34m)\u001b[0m\u001b[0;34m\u001b[0m\u001b[0;34m\u001b[0m\u001b[0m\n\u001b[0;32m---> 18\u001b[0;31m     \u001b[0;32mreturn\u001b[0m \u001b[0mbrentq\u001b[0m\u001b[0;34m(\u001b[0m\u001b[0;32mlambda\u001b[0m \u001b[0mz\u001b[0m\u001b[0;34m:\u001b[0m \u001b[0mf\u001b[0m\u001b[0;34m(\u001b[0m\u001b[0mz\u001b[0m\u001b[0;34m,\u001b[0m \u001b[0mBeta0\u001b[0m\u001b[0;34m,\u001b[0m \u001b[0mBeta1\u001b[0m\u001b[0;34m,\u001b[0m \u001b[0mBeta2\u001b[0m\u001b[0;34m,\u001b[0m \u001b[0mBeta3\u001b[0m\u001b[0;34m)\u001b[0m\u001b[0;34m-\u001b[0m\u001b[0mx\u001b[0m\u001b[0;34m,\u001b[0m \u001b[0;36m0.01\u001b[0m\u001b[0;34m,\u001b[0m \u001b[0;36m100\u001b[0m\u001b[0;34m)\u001b[0m\u001b[0;34m\u001b[0m\u001b[0;34m\u001b[0m\u001b[0m\n\u001b[0m",
      "\u001b[0;32m~/.local/lib/python3.10/site-packages/scipy/optimize/_zeros_py.py\u001b[0m in \u001b[0;36mbrentq\u001b[0;34m(f, a, b, args, xtol, rtol, maxiter, full_output, disp)\u001b[0m\n\u001b[1;32m    781\u001b[0m     \u001b[0;32mif\u001b[0m \u001b[0mrtol\u001b[0m \u001b[0;34m<\u001b[0m \u001b[0m_rtol\u001b[0m\u001b[0;34m:\u001b[0m\u001b[0;34m\u001b[0m\u001b[0;34m\u001b[0m\u001b[0m\n\u001b[1;32m    782\u001b[0m         \u001b[0;32mraise\u001b[0m \u001b[0mValueError\u001b[0m\u001b[0;34m(\u001b[0m\u001b[0;34m\"rtol too small (%g < %g)\"\u001b[0m \u001b[0;34m%\u001b[0m \u001b[0;34m(\u001b[0m\u001b[0mrtol\u001b[0m\u001b[0;34m,\u001b[0m \u001b[0m_rtol\u001b[0m\u001b[0;34m)\u001b[0m\u001b[0;34m)\u001b[0m\u001b[0;34m\u001b[0m\u001b[0;34m\u001b[0m\u001b[0m\n\u001b[0;32m--> 783\u001b[0;31m     \u001b[0mr\u001b[0m \u001b[0;34m=\u001b[0m \u001b[0m_zeros\u001b[0m\u001b[0;34m.\u001b[0m\u001b[0m_brentq\u001b[0m\u001b[0;34m(\u001b[0m\u001b[0mf\u001b[0m\u001b[0;34m,\u001b[0m \u001b[0ma\u001b[0m\u001b[0;34m,\u001b[0m \u001b[0mb\u001b[0m\u001b[0;34m,\u001b[0m \u001b[0mxtol\u001b[0m\u001b[0;34m,\u001b[0m \u001b[0mrtol\u001b[0m\u001b[0;34m,\u001b[0m \u001b[0mmaxiter\u001b[0m\u001b[0;34m,\u001b[0m \u001b[0margs\u001b[0m\u001b[0;34m,\u001b[0m \u001b[0mfull_output\u001b[0m\u001b[0;34m,\u001b[0m \u001b[0mdisp\u001b[0m\u001b[0;34m)\u001b[0m\u001b[0;34m\u001b[0m\u001b[0;34m\u001b[0m\u001b[0m\n\u001b[0m\u001b[1;32m    784\u001b[0m     \u001b[0;32mreturn\u001b[0m \u001b[0mresults_c\u001b[0m\u001b[0;34m(\u001b[0m\u001b[0mfull_output\u001b[0m\u001b[0;34m,\u001b[0m \u001b[0mr\u001b[0m\u001b[0;34m)\u001b[0m\u001b[0;34m\u001b[0m\u001b[0;34m\u001b[0m\u001b[0m\n\u001b[1;32m    785\u001b[0m \u001b[0;34m\u001b[0m\u001b[0m\n",
      "\u001b[0;31mValueError\u001b[0m: f(a) and f(b) must have different signs"
     ]
    }
   ],
   "source": [
    "import matplotlib.pyplot as plt\n",
    "import numpy as np\n",
    "\n",
    "x = np.linspace(0.01, 100, num=1000)\n",
    "y = g(x)\n",
    "plt.plot(x, y)\n",
    "plt.xlabel('x')\n",
    "plt.ylabel('g(x) = f^-1(x)')\n",
    "plt.show()\n"
   ]
  },
  {
   "cell_type": "code",
   "execution_count": 11,
   "id": "4f390fa3",
   "metadata": {},
   "outputs": [
    {
     "ename": "ModuleNotFoundError",
     "evalue": "No module named 'scipy.roots'",
     "output_type": "error",
     "traceback": [
      "\u001b[0;31m---------------------------------------------------------------------------\u001b[0m",
      "\u001b[0;31mModuleNotFoundError\u001b[0m                       Traceback (most recent call last)",
      "\u001b[0;32m/tmp/ipykernel_11076/468001504.py\u001b[0m in \u001b[0;36m<module>\u001b[0;34m\u001b[0m\n\u001b[1;32m      1\u001b[0m \u001b[0;32mimport\u001b[0m \u001b[0mnumpy\u001b[0m \u001b[0;32mas\u001b[0m \u001b[0mnp\u001b[0m\u001b[0;34m\u001b[0m\u001b[0;34m\u001b[0m\u001b[0m\n\u001b[0;32m----> 2\u001b[0;31m \u001b[0;32mimport\u001b[0m \u001b[0mscipy\u001b[0m\u001b[0;34m.\u001b[0m\u001b[0mroots\u001b[0m \u001b[0;32mas\u001b[0m \u001b[0mrs\u001b[0m\u001b[0;34m\u001b[0m\u001b[0;34m\u001b[0m\u001b[0m\n\u001b[0m\u001b[1;32m      3\u001b[0m \u001b[0;34m\u001b[0m\u001b[0m\n\u001b[1;32m      4\u001b[0m \u001b[0;31m# Define a helper function for calculating f'(x) derivative\u001b[0m\u001b[0;34m\u001b[0m\u001b[0;34m\u001b[0m\u001b[0m\n\u001b[1;32m      5\u001b[0m \u001b[0;32mdef\u001b[0m \u001b[0mdf\u001b[0m\u001b[0;34m(\u001b[0m\u001b[0mx\u001b[0m\u001b[0;34m,\u001b[0m \u001b[0mBeta0\u001b[0m\u001b[0;34m=\u001b[0m\u001b[0mBeta0\u001b[0m\u001b[0;34m,\u001b[0m \u001b[0mBeta1\u001b[0m\u001b[0;34m=\u001b[0m\u001b[0mBeta1\u001b[0m\u001b[0;34m,\u001b[0m \u001b[0mBeta2\u001b[0m\u001b[0;34m=\u001b[0m\u001b[0mBeta2\u001b[0m\u001b[0;34m,\u001b[0m \u001b[0mBeta3\u001b[0m\u001b[0;34m=\u001b[0m\u001b[0mBeta3\u001b[0m\u001b[0;34m)\u001b[0m\u001b[0;34m:\u001b[0m\u001b[0;34m\u001b[0m\u001b[0;34m\u001b[0m\u001b[0m\n",
      "\u001b[0;31mModuleNotFoundError\u001b[0m: No module named 'scipy.roots'"
     ]
    }
   ],
   "source": [
    "import numpy as np\n",
    "import scipy.roots as rs\n",
    "\n",
    "# Define a helper function for calculating f'(x) derivative\n",
    "def df(x, Beta0=Beta0, Beta1=Beta1, Beta2=Beta2, Beta3=Beta3):\n",
    "    return -((1/(2 * Beta0 * x**2)) + (np.log(Beta0 * x) * (Beta1/Beta0)) + \\\n",
    "             ((x / (2 * Beta0)) * ((Beta2/Beta0) - (np.power(Beta1/Beta0, 2)))) + \\\n",
    "             ((x**2) / (4 * Beta0) * ((Beta3/Beta0) - np.power(np.divide(Beta1, Beta0), 3) - 2 * (np.multiply(Beta1, Beta2) / np.power(np.divide(Beta0, Beta0)**2) - np.power(np.divide(Beta1, Beta0),\n",
    "3)))))\n",
    "\n",
    "# Find approximate roots using the Newton-Raphson method\n",
    "roots = rs.nsolve(lambda x: f(x, Beta0, Beta1, Beta2, Beta3), 0)\n",
    "print(\"Approximate roots of f(x): \", roots)\n",
    "\n",
    "if len(roots) > 0:\n",
    "    approx_root = roots[0]\n",
    "    # Adjust x-axis range to include the root\n",
    "    x = np.linspace(min([0, approx_root - 1, 0.01]), max([approx_root + 1, 100]), num=1000)\n",
    "else:\n",
    "    print(\"Warning: Function f(x) does not have any real roots within the given range.\")\n",
    "    \n",
    "y = g(x)\n",
    "plt.plot(x, y)\n",
    "plt.xlabel('x')\n",
    "plt.ylabel('g(x) = f^-1(x)')\n",
    "plt.show()\n"
   ]
  },
  {
   "cell_type": "code",
   "execution_count": 12,
   "id": "f68d0a0d",
   "metadata": {},
   "outputs": [
    {
     "ename": "ImportError",
     "evalue": "cannot import name 'roots' from 'scipy.optimize' (/home/gofer/.local/lib/python3.10/site-packages/scipy/optimize/__init__.py)",
     "output_type": "error",
     "traceback": [
      "\u001b[0;31m---------------------------------------------------------------------------\u001b[0m",
      "\u001b[0;31mImportError\u001b[0m                               Traceback (most recent call last)",
      "\u001b[0;32m/tmp/ipykernel_11076/2901429611.py\u001b[0m in \u001b[0;36m<module>\u001b[0;34m\u001b[0m\n\u001b[1;32m      1\u001b[0m \u001b[0;32mimport\u001b[0m \u001b[0mnumpy\u001b[0m \u001b[0;32mas\u001b[0m \u001b[0mnp\u001b[0m\u001b[0;34m\u001b[0m\u001b[0;34m\u001b[0m\u001b[0m\n\u001b[0;32m----> 2\u001b[0;31m \u001b[0;32mfrom\u001b[0m \u001b[0mscipy\u001b[0m\u001b[0;34m.\u001b[0m\u001b[0moptimize\u001b[0m \u001b[0;32mimport\u001b[0m \u001b[0mbrentq\u001b[0m\u001b[0;34m,\u001b[0m \u001b[0mroots\u001b[0m \u001b[0;32mas\u001b[0m \u001b[0mscipy_roots\u001b[0m\u001b[0;34m\u001b[0m\u001b[0;34m\u001b[0m\u001b[0m\n\u001b[0m\u001b[1;32m      3\u001b[0m \u001b[0;34m\u001b[0m\u001b[0m\n\u001b[1;32m      4\u001b[0m \u001b[0;31m# Define a helper function for calculating f'(x) derivative\u001b[0m\u001b[0;34m\u001b[0m\u001b[0;34m\u001b[0m\u001b[0m\n\u001b[1;32m      5\u001b[0m \u001b[0;32mdef\u001b[0m \u001b[0mdf\u001b[0m\u001b[0;34m(\u001b[0m\u001b[0mx\u001b[0m\u001b[0;34m,\u001b[0m \u001b[0mBeta0\u001b[0m\u001b[0;34m=\u001b[0m\u001b[0mBeta0\u001b[0m\u001b[0;34m,\u001b[0m \u001b[0mBeta1\u001b[0m\u001b[0;34m=\u001b[0m\u001b[0mBeta1\u001b[0m\u001b[0;34m,\u001b[0m \u001b[0mBeta2\u001b[0m\u001b[0;34m=\u001b[0m\u001b[0mBeta2\u001b[0m\u001b[0;34m,\u001b[0m \u001b[0mBeta3\u001b[0m\u001b[0;34m=\u001b[0m\u001b[0mBeta3\u001b[0m\u001b[0;34m)\u001b[0m\u001b[0;34m:\u001b[0m\u001b[0;34m\u001b[0m\u001b[0;34m\u001b[0m\u001b[0m\n",
      "\u001b[0;31mImportError\u001b[0m: cannot import name 'roots' from 'scipy.optimize' (/home/gofer/.local/lib/python3.10/site-packages/scipy/optimize/__init__.py)"
     ]
    }
   ],
   "source": [
    "import numpy as np\n",
    "from scipy.optimize import brentq, roots as scipy_roots\n",
    "\n",
    "# Define a helper function for calculating f'(x) derivative\n",
    "def df(x, Beta0=Beta0, Beta1=Beta1, Beta2=Beta2, Beta3=Beta3):\n",
    "    return -((1/(2 * Beta0 * x**2)) + (np.log(Beta0 * x) * (Beta1/Beta0)) + \\\n",
    "             ((x / (2 * Beta0)) * ((Beta2/Beta0) - (np.power(Beta1/Beta0, 2)))) + \\\n",
    "             ((x**2) / (4 * Beta0) * ((Beta3/Beta0) - np.power(np.divide(Beta1, Beta0), 3) - 2 * (np.multiply(Beta1, Beta2) / np.power(np.divide(Beta0, Beta0)**2) - np.power(np.divide(Beta1, Beta0),\n",
    "3)))))\n",
    "\n",
    "# Find approximate roots using the brentq method from scipy.optimize\n",
    "roots = []\n",
    "try:\n",
    "    root = brentq(lambda x: f(x, Beta0, Beta1, Beta2, Beta3), 0, 100)\n",
    "    roots.append(root)\n",
    "except ValueError as e:\n",
    "    print(\"Warning: Function f(x) does not have a real root within the given range.\")\n",
    "\n",
    "if len(roots) > 0:\n",
    "    approx_root = roots[0]\n",
    "    # Adjust x-axis range to include the root\n",
    "    x = np.linspace(min([0, approx_root - 1, 0.01]), max([approx_root + 1, 100]), num=1000)\n",
    "else:\n",
    "    print(\"Warning: Function f(x) does not have any real roots within the given range.\")\n",
    "    \n",
    "y = g(x)\n",
    "plt.plot(x, y)\n",
    "plt.xlabel('x')\n",
    "plt.ylabel('g(x) = f^-1(x)')\n",
    "plt.show()\n"
   ]
  },
  {
   "cell_type": "code",
   "execution_count": 14,
   "id": "1b26b1d2",
   "metadata": {},
   "outputs": [
    {
     "name": "stdout",
     "output_type": "stream",
     "text": [
      "Warning: Function f(x) does not have a real root within the given range.\n"
     ]
    },
    {
     "ename": "TypeError",
     "evalue": "power() takes from 2 to 3 positional arguments but 1 were given",
     "output_type": "error",
     "traceback": [
      "\u001b[0;31m---------------------------------------------------------------------------\u001b[0m",
      "\u001b[0;31mTypeError\u001b[0m                                 Traceback (most recent call last)",
      "\u001b[0;32m/tmp/ipykernel_11076/3255173814.py\u001b[0m in \u001b[0;36m<module>\u001b[0;34m\u001b[0m\n\u001b[1;32m     22\u001b[0m     \u001b[0mmid\u001b[0m \u001b[0;34m=\u001b[0m \u001b[0;34m(\u001b[0m\u001b[0mx_left\u001b[0m \u001b[0;34m+\u001b[0m \u001b[0mx_right\u001b[0m\u001b[0;34m)\u001b[0m \u001b[0;34m/\u001b[0m \u001b[0;36m2\u001b[0m\u001b[0;34m\u001b[0m\u001b[0;34m\u001b[0m\u001b[0m\n\u001b[1;32m     23\u001b[0m \u001b[0;34m\u001b[0m\u001b[0m\n\u001b[0;32m---> 24\u001b[0;31m     \u001b[0;32mwhile\u001b[0m \u001b[0mnp\u001b[0m\u001b[0;34m.\u001b[0m\u001b[0msign\u001b[0m\u001b[0;34m(\u001b[0m\u001b[0mdf\u001b[0m\u001b[0;34m(\u001b[0m\u001b[0mmid\u001b[0m\u001b[0;34m,\u001b[0m \u001b[0mBeta0\u001b[0m\u001b[0;34m,\u001b[0m \u001b[0mBeta1\u001b[0m\u001b[0;34m,\u001b[0m \u001b[0mBeta2\u001b[0m\u001b[0;34m,\u001b[0m \u001b[0mBeta3\u001b[0m\u001b[0;34m)\u001b[0m\u001b[0;34m)\u001b[0m \u001b[0;34m*\u001b[0m \u001b[0;34m(\u001b[0m\u001b[0mx_right\u001b[0m \u001b[0;34m-\u001b[0m \u001b[0mx_left\u001b[0m\u001b[0;34m)\u001b[0m \u001b[0;34m>\u001b[0m \u001b[0;36m0\u001b[0m\u001b[0;34m:\u001b[0m\u001b[0;34m\u001b[0m\u001b[0;34m\u001b[0m\u001b[0m\n\u001b[0m\u001b[1;32m     25\u001b[0m         \u001b[0;32mif\u001b[0m \u001b[0mmid\u001b[0m \u001b[0;34m<\u001b[0m \u001b[0mroot\u001b[0m\u001b[0;34m:\u001b[0m\u001b[0;34m\u001b[0m\u001b[0;34m\u001b[0m\u001b[0m\n\u001b[1;32m     26\u001b[0m             \u001b[0mx_left\u001b[0m \u001b[0;34m=\u001b[0m \u001b[0mmid\u001b[0m\u001b[0;34m\u001b[0m\u001b[0;34m\u001b[0m\u001b[0m\n",
      "\u001b[0;32m/tmp/ipykernel_11076/3255173814.py\u001b[0m in \u001b[0;36mdf\u001b[0;34m(x, Beta0, Beta1, Beta2, Beta3)\u001b[0m\n\u001b[1;32m      6\u001b[0m     return -((1/(2 * Beta0 * x**2)) + (np.log(Beta0 * x) * (Beta1/Beta0)) + \\\n\u001b[1;32m      7\u001b[0m              \u001b[0;34m(\u001b[0m\u001b[0;34m(\u001b[0m\u001b[0mx\u001b[0m \u001b[0;34m/\u001b[0m \u001b[0;34m(\u001b[0m\u001b[0;36m2\u001b[0m \u001b[0;34m*\u001b[0m \u001b[0mBeta0\u001b[0m\u001b[0;34m)\u001b[0m\u001b[0;34m)\u001b[0m \u001b[0;34m*\u001b[0m \u001b[0;34m(\u001b[0m\u001b[0;34m(\u001b[0m\u001b[0mBeta2\u001b[0m\u001b[0;34m/\u001b[0m\u001b[0mBeta0\u001b[0m\u001b[0;34m)\u001b[0m \u001b[0;34m-\u001b[0m \u001b[0;34m(\u001b[0m\u001b[0mnp\u001b[0m\u001b[0;34m.\u001b[0m\u001b[0mpower\u001b[0m\u001b[0;34m(\u001b[0m\u001b[0mBeta1\u001b[0m\u001b[0;34m/\u001b[0m\u001b[0mBeta0\u001b[0m\u001b[0;34m,\u001b[0m \u001b[0;36m2\u001b[0m\u001b[0;34m)\u001b[0m\u001b[0;34m)\u001b[0m\u001b[0;34m)\u001b[0m\u001b[0;34m)\u001b[0m \u001b[0;34m+\u001b[0m\u001b[0;31m \u001b[0m\u001b[0;31m\\\u001b[0m\u001b[0;34m\u001b[0m\u001b[0;34m\u001b[0m\u001b[0m\n\u001b[0;32m----> 8\u001b[0;31m              ((x**2) / (4 * Beta0) * ((Beta3/Beta0) - np.power(np.divide(Beta1, Beta0), 3) - 2 * (np.multiply(Beta1, Beta2) / np.power(np.divide(Beta0, Beta0)**2) - np.power(np.divide(Beta1, Beta0),\n\u001b[0m\u001b[1;32m      9\u001b[0m 3)))))\n\u001b[1;32m     10\u001b[0m \u001b[0;34m\u001b[0m\u001b[0m\n",
      "\u001b[0;31mTypeError\u001b[0m: power() takes from 2 to 3 positional arguments but 1 were given"
     ]
    }
   ],
   "source": [
    "import numpy as np\n",
    "from scipy.optimize import brentq, bisect\n",
    "\n",
    "# Define a helper function for calculating f'(x) derivative\n",
    "def df(x, Beta0=Beta0, Beta1=Beta1, Beta2=Beta2, Beta3=Beta3):\n",
    "    return -((1/(2 * Beta0 * x**2)) + (np.log(Beta0 * x) * (Beta1/Beta0)) + \\\n",
    "             ((x / (2 * Beta0)) * ((Beta2/Beta0) - (np.power(Beta1/Beta0, 2)))) + \\\n",
    "             ((x**2) / (4 * Beta0) * ((Beta3/Beta0) - np.power(np.divide(Beta1, Beta0), 3) - 2 * (np.multiply(Beta1, Beta2) / np.power(np.divide(Beta0, Beta0)**2) - np.power(np.divide(Beta1, Beta0),\n",
    "3)))))\n",
    "\n",
    "# Find approximate roots using the brentq method from scipy.optimize\n",
    "root = None\n",
    "try:\n",
    "    root = brentq(lambda x: f(x, Beta0, Beta1, Beta2, Beta3), 0.01, 100)\n",
    "except ValueError as e:\n",
    "    print(\"Warning: Function f(x) does not have a real root within the given range.\")\n",
    "\n",
    "if root is None:\n",
    "    # Use bisect method to bracket the root if brentq failed\n",
    "    x_left = 0.01\n",
    "    x_right = 100\n",
    "    mid = (x_left + x_right) / 2\n",
    "\n",
    "    while np.sign(df(mid, Beta0, Beta1, Beta2, Beta3)) * (x_right - x_left) > 0:\n",
    "        if mid < root:\n",
    "            x_left = mid\n",
    "        else:\n",
    "            x_right = mid\n",
    "        mid = (x_left + x_right) / 2\n",
    "\n",
    "    root = mid\n",
    "\n",
    "# Adjust x-axis range to include the root\n",
    "x = np.linspace(min([0, approx_root - 1, 0.01]), max([approx_root + 1, 100]), num=1000)\n",
    "y = g(x)\n",
    "plt.plot(x, y)\n",
    "plt.xlabel('x')\n",
    "plt.ylabel('g(x) = f^-1(x)')\n",
    "plt.show()\n"
   ]
  },
  {
   "cell_type": "code",
   "execution_count": null,
   "id": "7d08e922",
   "metadata": {},
   "outputs": [],
   "source": []
  },
  {
   "cell_type": "code",
   "execution_count": null,
   "id": "a71f37ae",
   "metadata": {},
   "outputs": [],
   "source": []
  },
  {
   "cell_type": "code",
   "execution_count": null,
   "id": "b56d2654",
   "metadata": {},
   "outputs": [],
   "source": []
  },
  {
   "cell_type": "code",
   "execution_count": null,
   "id": "bddb2d90",
   "metadata": {},
   "outputs": [],
   "source": [
    "import sympy as sp\n",
    "\n",
    "x, beta0, beta1, beta2, beta3 = sp.symbols('x beta0 beta1 beta2 beta3')\n",
    "\n",
    "# Define the piecewise function (replace these with actual simpler pieces)\n",
    "lmL_1_piecewise = sp.Piecewise(\n",
    "    (expr_piece_1, x < a),         # Replace expr_piece_1 with the expression for x < a\n",
    "    (expr_piece_2, sp.And(a <= x, x <= b)),  # Replace expr_piece_2 for a <= x <= b\n",
    "    (expr_piece_3, x > b)          # Replace expr_piece_3 for x > b\n",
    ")\n"
   ]
  },
  {
   "cell_type": "code",
   "execution_count": null,
   "id": "409b9d28",
   "metadata": {},
   "outputs": [],
   "source": [
    "# Example of a piecewise definition based on observed behavior\n",
    "def piecewise_f(x_val):\n",
    "    if x_val < 1:  # Assuming the behavior simplifies below x = 1\n",
    "        return simplified_expression_for_small_x\n",
    "    elif x_val > 4:  # Assuming the behavior simplifies above x = 4\n",
    "        return simplified_expression_for_large_x\n",
    "    else:\n",
    "        return more_complex_expression_for_intermediate_x\n",
    "\n",
    "# Replace simplified_expression_for_small_x, simplified_expression_for_large_x,\n",
    "# and more_complex_expression_for_intermediate_x with actual simplified expressions\n",
    "# based on your analysis of the function's behavior.\n"
   ]
  },
  {
   "cell_type": "code",
   "execution_count": null,
   "id": "598ce872",
   "metadata": {},
   "outputs": [],
   "source": []
  },
  {
   "cell_type": "markdown",
   "id": "1e552cfb",
   "metadata": {},
   "source": [
    "## Doing with the numerical method fsolve :"
   ]
  },
  {
   "cell_type": "code",
   "execution_count": 24,
   "id": "02b50eb8",
   "metadata": {},
   "outputs": [
    {
     "name": "stdout",
     "output_type": "stream",
     "text": [
      "The inverse of f(x) at y = 0.1 is approximately x = 1.4695433242458913\n"
     ]
    }
   ],
   "source": [
    "import numpy as np\n",
    "\n",
    "def f(x, Beta0_val, Beta1_val):\n",
    "    if x <= 0:  # Prevent division by zero or negative argument in log\n",
    "        return np.inf\n",
    "    return 1 / (2 * Beta0_val * x) + \\\n",
    "           (Beta1_val / Beta0_val) * np.log(Beta0_val * x) / (2 * Beta0_val) + \\\n",
    "           (Beta1_val / Beta0_val) / (2 * Beta0_val) * (Beta1_val * x / Beta0_val)**2\n",
    "\n",
    "\n",
    "from scipy.optimize import fsolve\n",
    "\n",
    "def inverse_f(y, Beta0_val, Beta1_val, guess=1):\n",
    "    equation_to_solve = lambda x: f(x, Beta0_val, Beta1_val) - y\n",
    "    x_value = fsolve(equation_to_solve, guess)\n",
    "    return x_value[0]\n",
    "\n",
    "# Assign numerical values to Beta0 and Beta1\n",
    "Beta0_val = beta0(3,5)\n",
    "Beta1_val = beta1(3,5)\n",
    "\n",
    "# Example usage\n",
    "y_value = 0.1  # Value for which you want to find the inverse\n",
    "x_value = inverse_f(y_value, Beta0_val, Beta1_val)\n",
    "print(f\"The inverse of f(x) at y = {y_value} is approximately x = {x_value}\")\n"
   ]
  },
  {
   "cell_type": "code",
   "execution_count": 18,
   "id": "87537890",
   "metadata": {},
   "outputs": [
    {
     "name": "stdout",
     "output_type": "stream",
     "text": [
      "1.0\n"
     ]
    },
    {
     "data": {
      "image/png": "[encoded data removed]",
      "text/plain": [
       "<Figure size 720x432 with 1 Axes>"
      ]
     },
     "metadata": {
      "needs_background": "light"
     },
     "output_type": "display_data"
    }
   ],
   "source": [
    "import matplotlib.pyplot as plt\n",
    "import numpy as np\n",
    "\n",
    "from scipy.optimize import fsolve\n",
    "\n",
    "def inverse_f(y, Beta0_val, Beta1_val, guess=1):\n",
    "    equation_to_solve = lambda x: f(x, Beta0_val, Beta1_val) - y\n",
    "    x_value = fsolve(equation_to_solve, guess)\n",
    "    return x_value[0]\n",
    "\n",
    "# Range for y values\n",
    "y_values = np.linspace(0.1, 10, 5000)  # 500 points between 0.1 and 10\n",
    "\n",
    "# Beta values\n",
    "Beta0_val = beta0(3,5)\n",
    "Beta1_val = beta1(3,5)\n",
    "\n",
    "# Compute the inverse for each y value\n",
    "x_values = [inverse_f(y, Beta0_val, Beta1_val) for y in y_values]\n",
    "print(inverse_f(9, Beta0_val, Beta1_val))\n",
    "\n",
    "plt.figure(figsize=(10, 6))\n",
    "plt.plot(y_values, x_values, label='Inverse Function')\n",
    "plt.xlabel('y')\n",
    "plt.ylabel('Inverse of y (x)')\n",
    "plt.title('Inverse Function from y = 0.1 to 10')\n",
    "plt.legend()\n",
    "plt.grid(True)\n",
    "plt.show()\n"
   ]
  },
  {
   "cell_type": "code",
   "execution_count": null,
   "id": "2032b807",
   "metadata": {},
   "outputs": [],
   "source": []
  },
  {
   "cell_type": "code",
   "execution_count": 75,
   "id": "5824e004",
   "metadata": {},
   "outputs": [
    {
     "name": "stdout",
     "output_type": "stream",
     "text": [
      "The inverse of f(x) at y = 0.1838736 is approximately x = 1.253169678958097\n"
     ]
    }
   ],
   "source": [
    "import numpy as np\n",
    "\n",
    "def f(x, Beta0_val, Beta1_val, Beta2_val, Beta3_val):\n",
    "    if x <= 0:  # Prevent division by zero or negative argument in log\n",
    "        return np.inf\n",
    "    return (1/(2 * Beta0_val * x)) + (1/(2 * Beta0_val)) * (Beta1_val/Beta0_val) * np.log(Beta0_val * x) + \\\n",
    "            (x/(2 * Beta0_val)) * (Beta2_val/Beta0_val - (Beta1_val/Beta0_val)**2) + \\\n",
    "            (x**2) / (4 * Beta0_val) * (Beta3_val/Beta0_val - (Beta1_val/Beta0_val)**3 - \\\n",
    "                                        2 * ((Beta1_val * Beta2_val)/(Beta0_val**2) - (Beta1_val/Beta0_val)**3))\n",
    "\n",
    "\n",
    "from scipy.optimize import fsolve\n",
    "\n",
    "def inverse_f(y, Beta0_val, Beta1_val, Beta2_val, Beta3_val, guess=2):\n",
    "    equation_to_solve = lambda x: f(x, Beta0_val, Beta1_val, Beta2_val, Beta3_val) - y\n",
    "    x_value = fsolve(equation_to_solve, guess)\n",
    "    return x_value[0]\n",
    "\n",
    "# Assign numerical values to Beta0 and Beta1\n",
    "Beta0_val = beta0(3,5)\n",
    "Beta1_val = beta1(3,5)\n",
    "Beta2_val = beta2(3,5)\n",
    "Beta3_val = beta3(3,5)\n",
    "\n",
    "# Example usage\n",
    "y_value = 0.1838736  # Value for which you want to find the inverse\n",
    "x_value = inverse_f(y_value, Beta0_val, Beta1_val, Beta2_val, Beta3_val)\n",
    "print(f\"The inverse of f(x) at y = {y_value} is approximately x = {x_value}\")\n"
   ]
  },
  {
   "cell_type": "code",
   "execution_count": 77,
   "id": "9020be0c",
   "metadata": {},
   "outputs": [
    {
     "name": "stdout",
     "output_type": "stream",
     "text": [
      "0.08207829640110136\n"
     ]
    },
    {
     "data": {
      "image/png": "[encoded data removed]",
      "text/plain": [
       "<Figure size 720x432 with 1 Axes>"
      ]
     },
     "metadata": {
      "needs_background": "light"
     },
     "output_type": "display_data"
    }
   ],
   "source": [
    "import matplotlib.pyplot as plt\n",
    "import numpy as np\n",
    "\n",
    "from scipy.optimize import fsolve\n",
    "\n",
    "def inverse_f(y, Beta0_val, Beta1_val, Beta2_val, Beta3_val, guess):\n",
    "    equation_to_solve = lambda x: f(x, Beta0_val, Beta1_val, Beta2_val, Beta3_val) - y\n",
    "    x_value = fsolve(equation_to_solve, guess)\n",
    "    return x_value[0]\n",
    "\n",
    "# Range for y values\n",
    "y_values = np.linspace(0.1, 100, 5000)  # 500 points between 0.1 and 10\n",
    "\n",
    "# Beta values\n",
    "Beta0_val = beta0(3,5)\n",
    "Beta1_val = beta1(3,5)\n",
    "Beta2_val = beta2(3,5)\n",
    "Beta3_val = beta3(3,5)\n",
    "\n",
    "# Compute the inverse for each y value\n",
    "x_values = [inverse_f(y, Beta0_val, Beta1_val, Beta2_val, Beta3_val,1/(1000*y)) for y in y_values]\n",
    "print(inverse_f(9, Beta0_val, Beta1_val, Beta2_val, Beta3_val,0.05))\n",
    "\n",
    "plt.figure(figsize=(10, 6))\n",
    "plt.plot(y_values, x_values, label='Inverse Function')\n",
    "plt.xlabel('y')\n",
    "plt.ylabel('Inverse of y (x)')\n",
    "plt.title('Inverse Function from y = 0.1 to 10')\n",
    "plt.legend()\n",
    "plt.grid(True)\n",
    "plt.show()\n"
   ]
  },
  {
   "cell_type": "code",
   "execution_count": null,
   "id": "d54f3e31",
   "metadata": {},
   "outputs": [],
   "source": []
  },
  {
   "cell_type": "code",
   "execution_count": null,
   "id": "47763e60",
   "metadata": {},
   "outputs": [],
   "source": []
  },
  {
   "cell_type": "code",
   "execution_count": null,
   "id": "da249fe8",
   "metadata": {},
   "outputs": [],
   "source": []
  },
  {
   "cell_type": "markdown",
   "id": "8637970b",
   "metadata": {},
   "source": [
    "### Let's define alpha with the results obtain in mathematica :"
   ]
  },
  {
   "cell_type": "code",
   "execution_count": 150,
   "id": "4de3b9f4",
   "metadata": {},
   "outputs": [
    {
     "name": "stdout",
     "output_type": "stream",
     "text": [
      "0.3289224952741021 0.6100939485189322 0.24485952713564968\n"
     ]
    }
   ],
   "source": [
    "def b(Nc,nf):\n",
    "    return beta1(Nc,nf) / (2 * beta0(Nc,nf)**2)\n",
    "\n",
    "b = b(3,5)\n",
    "Beta1 = beta1(3,5)\n",
    "Beta0 = beta0(3,5)\n",
    "print(b , Beta0 , Beta1)\n",
    "#b = sp.symbols('b')\n",
    "\n",
    "def alpha(key , mu):\n",
    "    alpha = {\n",
    "        1: 0,\n",
    "        \n",
    "        2: - Beta0 / (Beta1 * lambertw(- mu**(-1/b) / 2*b , -1)),\n",
    "        \n",
    "        3: 0\n",
    "        }\n",
    "    \n",
    "    return alpha.get(key , \"Invalid key\")\n",
    "\n",
    "#alpha(2,mu)"
   ]
  },
  {
   "cell_type": "code",
   "execution_count": null,
   "id": "5da19b3c",
   "metadata": {},
   "outputs": [],
   "source": []
  },
  {
   "cell_type": "code",
   "execution_count": null,
   "id": "f9fffd57",
   "metadata": {},
   "outputs": [],
   "source": []
  },
  {
   "cell_type": "code",
   "execution_count": null,
   "id": "1df819cf",
   "metadata": {},
   "outputs": [],
   "source": []
  },
  {
   "cell_type": "code",
   "execution_count": null,
   "id": "77f21d04",
   "metadata": {},
   "outputs": [],
   "source": []
  },
  {
   "cell_type": "markdown",
   "id": "2f11703f",
   "metadata": {},
   "source": [
    "## Matrix Operations:"
   ]
  },
  {
   "cell_type": "code",
   "execution_count": 26,
   "id": "3fd5809e",
   "metadata": {},
   "outputs": [
    {
     "name": "stdout",
     "output_type": "stream",
     "text": [
      "Matrix([[1, 0, 0, 0], [0, 1, 0, 0], [Beta2/Beta0, 0, 1, 0], [-Beta3/2 + Beta3/(2*Beta0), 0, 0, 1]])\n",
      "Matrix([[a0], [a1], [a2 + Beta2*a0/Beta0], [a0*(-Beta3/2 + Beta3/(2*Beta0)) + a3]])\n"
     ]
    }
   ],
   "source": [
    "from sympy import Matrix\n",
    "\n",
    "# Example of defining a matrix\n",
    "SchemeMx = Matrix([[1, 0, 0, 0], \n",
    "                   [0, 1, 0, 0], \n",
    "                   [Beta2/Beta0, 0, 1, 0],  # eta2, eta0 are symbols like Beta0\n",
    "                   [Beta3/(2 * Beta0) - Beta3/2, 2 * Beta2/Beta0 - 2 * Beta2/Beta0, 0, 1]])\n",
    "print(SchemeMx)\n",
    "# Example of matrix multiplication\n",
    "a = symbols('a0:4')  # a sequence of symbols a0, a1, a2, a3\n",
    "result = SchemeMx * Matrix(a)\n",
    "print(result)\n"
   ]
  },
  {
   "cell_type": "code",
   "execution_count": 30,
   "id": "e74f8031",
   "metadata": {},
   "outputs": [
    {
     "data": {
      "image/png": "[encoded data removed]",
      "text/latex": [
       "$\\displaystyle \\left[\\begin{matrix}1 & 0 & 0 & 0\\\\0 & 1 & 0 & 0\\\\\\frac{B_{2}}{B_{0}} & 0 & 1 & 0\\\\- \\frac{B_{3}}{2} + \\frac{B_{3}}{2 B_{0}} & 0 & 0 & 1\\end{matrix}\\right]$"
      ],
      "text/plain": [
       "⎡     1       0  0  0⎤\n",
       "⎢                    ⎥\n",
       "⎢     0       1  0  0⎥\n",
       "⎢                    ⎥\n",
       "⎢    Β₂              ⎥\n",
       "⎢    ──       0  1  0⎥\n",
       "⎢    Β₀              ⎥\n",
       "⎢                    ⎥\n",
       "⎢  Β₃    Β₃          ⎥\n",
       "⎢- ── + ────  0  0  1⎥\n",
       "⎣  2    2⋅Β₀         ⎦"
      ]
     },
     "metadata": {},
     "output_type": "display_data"
    },
    {
     "data": {
      "image/png": "[encoded data removed]",
      "text/latex": [
       "$\\displaystyle \\left[\\begin{matrix}a_{0}\\\\a_{1}\\\\a_{2} + \\frac{B_{2} a_{0}}{B_{0}}\\\\a_{0} \\left(- \\frac{B_{3}}{2} + \\frac{B_{3}}{2 B_{0}}\\right) + a_{3}\\end{matrix}\\right]$"
      ],
      "text/plain": [
       "⎡         a₀          ⎤\n",
       "⎢                     ⎥\n",
       "⎢         a₁          ⎥\n",
       "⎢                     ⎥\n",
       "⎢          Β₂⋅a₀      ⎥\n",
       "⎢     a₂ + ─────      ⎥\n",
       "⎢            Β₀       ⎥\n",
       "⎢                     ⎥\n",
       "⎢   ⎛  Β₃    Β₃ ⎞     ⎥\n",
       "⎢a₀⋅⎜- ── + ────⎟ + a₃⎥\n",
       "⎣   ⎝  2    2⋅Β₀⎠     ⎦"
      ]
     },
     "metadata": {},
     "output_type": "display_data"
    }
   ],
   "source": [
    "from sympy.interactive import init_printing\n",
    "init_printing(use_unicode=True)\n",
    "\n",
    "\n",
    "display(SchemeMx)\n",
    "display(result)"
   ]
  },
  {
   "cell_type": "markdown",
   "id": "d9242d75",
   "metadata": {},
   "source": [
    "# Running Coefficients and Static Energy:"
   ]
  },
  {
   "cell_type": "markdown",
   "id": "748b363c",
   "metadata": {},
   "source": [
    "### Define the symbolic variables:"
   ]
  },
  {
   "cell_type": "code",
   "execution_count": 19,
   "id": "69e21e81",
   "metadata": {},
   "outputs": [],
   "source": [
    "from sympy import symbols, log, series\n",
    "\n",
    "beta0, beta1, beta2, beta3, s = symbols('beta0 beta1 beta2 beta3 s')\n",
    "a0, a1, a2, a3 = symbols('a0 a1 a2 a3')\n"
   ]
  },
  {
   "cell_type": "markdown",
   "id": "dd7d0138",
   "metadata": {},
   "source": [
    "### Define a function for Static Energy in Position Space:"
   ]
  },
  {
   "cell_type": "code",
   "execution_count": 20,
   "id": "b731e8ec",
   "metadata": {},
   "outputs": [],
   "source": [
    "def v(s, order):\n",
    "    if order == 0:\n",
    "        return a0\n",
    "    elif order == 1:\n",
    "        return a1 + 2 * a0 * beta0 * log(s)\n",
    "    elif order == 2:\n",
    "        return a2 + 2 * (2 * a1 * beta0 + a0 * beta1) * log(s) + a0 * (2 * beta0 * log(s))**2\n",
    "    # Add more cases for higher orders\n",
    "    else:\n",
    "        return None\n"
   ]
  },
  {
   "cell_type": "markdown",
   "id": "d6d73b73",
   "metadata": {},
   "source": [
    "# Handling Inverse Functions:"
   ]
  },
  {
   "cell_type": "markdown",
   "id": "59cbe860",
   "metadata": {},
   "source": [
    "### Define the function and find its inverse:"
   ]
  },
  {
   "cell_type": "code",
   "execution_count": 21,
   "id": "9e32945b",
   "metadata": {},
   "outputs": [
    {
     "name": "stdout",
     "output_type": "stream",
     "text": [
      "[(-b + d*k)/(a - c*k)]\n"
     ]
    }
   ],
   "source": [
    "from sympy import solve\n",
    "\n",
    "# Define symbols\n",
    "a, b, c, d, x, k = symbols('a b c d x k')\n",
    "\n",
    "# Define the function\n",
    "function = (a * x + b) / (c * x + d)\n",
    "\n",
    "# Solve the equation function = k for x to find the inverse function\n",
    "inverse_function = solve(function - k, x)\n",
    "\n",
    "# Display the inverse function\n",
    "print(inverse_function)\n"
   ]
  },
  {
   "cell_type": "code",
   "execution_count": null,
   "id": "87dd798d",
   "metadata": {},
   "outputs": [],
   "source": []
  },
  {
   "cell_type": "code",
   "execution_count": null,
   "id": "fc76de67",
   "metadata": {},
   "outputs": [],
   "source": []
  },
  {
   "cell_type": "code",
   "execution_count": null,
   "id": "ef53ced4",
   "metadata": {},
   "outputs": [],
   "source": []
  },
  {
   "cell_type": "code",
   "execution_count": null,
   "id": "882d9029",
   "metadata": {},
   "outputs": [],
   "source": []
  },
  {
   "cell_type": "markdown",
   "id": "5836d6a7",
   "metadata": {},
   "source": [
    "# 4. Defining the lmL Function"
   ]
  },
  {
   "cell_type": "markdown",
   "id": "c178bb19",
   "metadata": {},
   "source": [
    "# 5. Finding the Inverse of a Function"
   ]
  },
  {
   "cell_type": "code",
   "execution_count": 15,
   "id": "136c95b7",
   "metadata": {},
   "outputs": [
    {
     "name": "stdout",
     "output_type": "stream",
     "text": [
      "[(-b + d*k)/(a - c*k)]\n"
     ]
    }
   ],
   "source": [
    "from sympy import solve\n",
    "\n",
    "# Define symbols\n",
    "a, b, c, d, x, k = symbols('a b c d x k')\n",
    "\n",
    "# Define the function\n",
    "function = (a * x + b) / (c * x + d)\n",
    "\n",
    "# Solve the equation function = k for x to find the inverse function\n",
    "inverse_function = solve(function - k , x)\n",
    "\n",
    "# Print the inverse function\n",
    "print(inverse_function)\n"
   ]
  },
  {
   "cell_type": "code",
   "execution_count": null,
   "id": "90d3e7a4",
   "metadata": {},
   "outputs": [],
   "source": []
  },
  {
   "cell_type": "markdown",
   "id": "c144dae5",
   "metadata": {},
   "source": [
    "### ProductLog:"
   ]
  },
  {
   "cell_type": "code",
   "execution_count": 70,
   "id": "2335aa10",
   "metadata": {},
   "outputs": [
    {
     "name": "stdout",
     "output_type": "stream",
     "text": [
      "0.5671432904097838\n"
     ]
    }
   ],
   "source": [
    "from scipy.special import lambertw\n",
    "import numpy as np\n",
    "\n",
    "# Compute the Lambert W function of 1 (equivalent to ProductLog[1] in Mathematica)\n",
    "w = lambertw(1)\n",
    "\n",
    "# w is a complex number, to get the real part\n",
    "real_part = np.real(w)\n",
    "\n",
    "print(real_part)\n"
   ]
  },
  {
   "cell_type": "code",
   "execution_count": 9,
   "id": "52a00310",
   "metadata": {},
   "outputs": [
    {
     "name": "stdout",
     "output_type": "stream",
     "text": [
      " (-6.472775124394005+0j) \n",
      " (-0.010101527198538754+0j) \n",
      " (-0.010101527198538754+0j) \n",
      " -0.010101527198538754 \n",
      " (-7.345693503274494+13.643264184258516j)\n"
     ]
    }
   ],
   "source": [
    "w1 = lambertw(-0.01,-1)\n",
    "w2 = lambertw(-0.01,0)\n",
    "w3 = lambertw(-0.01)\n",
    "w4 = lambertw(-0.01,2)\n",
    "\n",
    "print('',w1,'\\n',w2,'\\n',w3,'\\n',np.real(w3),'\\n',w4)"
   ]
  },
  {
   "cell_type": "code",
   "execution_count": null,
   "id": "05eafd98",
   "metadata": {},
   "outputs": [],
   "source": []
  },
  {
   "cell_type": "code",
   "execution_count": 3,
   "id": "8d43a37a",
   "metadata": {},
   "outputs": [
    {
     "data": {
      "text/plain": [
       "0.5772156649015329"
      ]
     },
     "execution_count": 3,
     "metadata": {},
     "output_type": "execute_result"
    }
   ],
   "source": [
    "import numpy as np\n",
    "np.euler_gamma #in wikipedia is: 0.57721566490153286060651209008240243104215933593992"
   ]
  },
  {
   "cell_type": "code",
   "execution_count": null,
   "id": "abf48722",
   "metadata": {},
   "outputs": [],
   "source": []
  }
 ],
 "metadata": {
  "kernelspec": {
   "display_name": "Python 3 (ipykernel)",
   "language": "python",
   "name": "python3"
  },
  "language_info": {
   "codemirror_mode": {
    "name": "ipython",
    "version": 3
   },
   "file_extension": ".py",
   "mimetype": "text/x-python",
   "name": "python",
   "nbconvert_exporter": "python",
   "pygments_lexer": "ipython3",
   "version": "3.10.12"
  }
 },
 "nbformat": 4,
 "nbformat_minor": 5
}
